{
 "cells": [
  {
   "cell_type": "markdown",
   "metadata": {},
   "source": [
    "# Variational AutoEncoder (VAE)"
   ]
  },
  {
   "cell_type": "markdown",
   "metadata": {},
   "source": [
    "$\\def\\abs#1{\\left\\lvert #1 \\right\\rvert} \\def\\Set#1{\\left\\{ #1 \\right\\}} \\def\\mc#1{\\mathcal{#1}} \\def\\M#1{\\boldsymbol{#1}} \\def\\R#1{\\mathsf{#1}} \\def\\RM#1{\\boldsymbol{\\mathsf{#1}}} \\def\\op#1{\\operatorname{#1}} \\def\\E{\\op{E}} \\def\\d{\\mathrm{\\mathstrut d}}$"
   ]
  },
  {
   "cell_type": "markdown",
   "metadata": {},
   "source": [
    "To do:\n",
    "- ~~explanation for the trainning and ploting~~\n",
    "- the analysis of the two term in the ELBO and relation with Information theory\n",
    "- ~~infoVAE~~\n",
    "- Examples showing why InfoVAE\n",
    "- add references in relevant part\n",
    "\n",
    "Notations:  \n",
    "*When substitue, remember skip the code*\n",
    "- ~~substitue Z by \\R{Z} and similar for X, J . but need skip \\mc{X}, \\mc{Z}. *DO NOT DIRECTLY REPLACE IN VS CODE, BETTER DO THIS WITH JSON VIEW* \n",
    "Several place involve \\R{z} to indicate an element of Z as random variable, which has already used \\R{z}, same for \\R{\\hat{z}}~~\n",
    "- ~~substitue Encoder by *Encoder*, and similar for decoder~~\n",
    "\n",
    "To improve:\n",
    "- why directly sampling posterior is intractable\n",
    "- reparameterization trick, seems have relationship with importance sampling\n",
    "- whether also use sampling for x_hat in the experiment\n",
    "- where to put the code for importing packages\n",
    "- should we use capital variable name for batch_size, epochs, etc..\n",
    "- ~~The train dateset and test dataset maybe combined. Currently, use the train dataset for training, and test dataset for evaluating is a bit improper to see the reconstruction performance.~~  Only use train_dataset for visuallization\n",
    "\n",
    "- the Modeling bias problem in VAE, may use     $L_{\\text{VAE}} = D(P_{X|\\hat{Z}} || P_{\\hat{X}|Z}) + D(P_{\\hat{Z}} || P_{Z}) +H(X)$ , but may not metion this problem."
   ]
  },
  {
   "cell_type": "markdown",
   "metadata": {},
   "source": [
    "Remark  \n",
    "- The following follows the idea from https://arxiv.org/abs/1606.05908 , Tutorial on Variational Autoencoders   \n",
    "\n",
    "- I skipped the illustration from $p_{\\hat{X}|Z}(x|z) = \\mc{N}(\\mu_{\\phi}, \\sigma^2 * \\M{I})$ to $p_{\\hat{X}|Z}(x|z) = \\mc{N}(\\mu_{\\phi}, \\Sigma_{\\phi})$ \n",
    "\n",
    "- About the notation, since the standard Gaussian distribution in latent space is introduced first, ***$Z$ is the know standard Gaussian distribution, and then $\\hat{Z}$ is the representation given by the encoder***. the pairs are: $X - (Encoder) - \\hat{Z}$, $Z - (Decoder) - \\hat{X}$, $\\hat{Z} - (Decoder) - \\bar{X}$.  \n",
    "When we consider VIB, we may need the markov chain $Y - X - Z$, where $Z$ is used as the representation of $X$, and if VIB is involved, then introduce $\\bar{Z}$ as the know stardard Gaussian distribution is better, and the pairs are: $X - (Encoder) - Z$, $\\bar{Z} - (Decoder) - \\hat{X}$, $Z - (Decoder) - \\bar{X}$.  \n",
    "If switch $Z$ and $\\hat{Z}$ is needed, remember do this for little z and \\hat{z}."
   ]
  },
  {
   "cell_type": "markdown",
   "metadata": {},
   "source": [
    "# Problem formulation\n"
   ]
  },
  {
   "cell_type": "markdown",
   "metadata": {},
   "source": [
    "Given a dataset containing $N$ samples from random variable $\\R{X}$.  \n",
    "How to design a model that with latent random variariable $\\R{\\R{Z}}$ as input, it generate different samples that are like those already in a trainning datase, but not exactly the same?"
   ]
  },
  {
   "cell_type": "markdown",
   "metadata": {},
   "source": [
    "Suppose a deterministic function $g: \\mc{\\R{Z}} \\rightarrow \\mc{\\R{X}}$ parametrized by $\\phi$ which models $p_{\\hat{\\R{X}}|\\R{Z}}$, i.e., outputs the generated samples with input from latent space $\\mc{\\R{Z}}$.  \n",
    "\n",
    "When $\\R{Z}$ is random, $g(\\R{Z})$ will be a random variable in sample space $\\mc{\\R{X}}$. \n",
    "e want to choose the $\\phi$ such that by sampling a $z \\sim p_{\\R{Z}}$, $g(z)$ will be like the $x's$ in the dataset with high probability. "
   ]
  },
  {
   "cell_type": "markdown",
   "metadata": {},
   "source": [
    "We may try to maximize the probability for generating sample $\\hat{\\R{X}}$ by training the the parameter $\\phi$ of function $g$ according to the law of total probability:\n",
    "$$p_{\\hat{\\R{X}}}(\\R{X})=\\int p_{\\hat{\\R{X}}|\\R{Z}}(\\R{X}|z) p_{\\R{Z}}(z) dz.$$ \n",
    "\n",
    "We assume $p_{\\R{Z}}$ is a standard Gaussian distribution.  \n",
    "For $p_{\\hat{\\R{X}}|\\R{Z}}(\\R{X}|z)$, usually we can assume it to be a multivariate Gaussian or Bernoulli distribution. Here we assume it to be a Gaussian distribution with mean and variance given by $g(\\R{Z})$. This is to say,   \n",
    "$$\\R{Z} \\sim \\mc{N}(\\M{0},\\M{I}),$$ \n",
    "and $$p_{\\hat{\\R{X}}|\\R{Z}}(x|z) = \\mc{N}(x | \\mu_{\\phi}, \\Sigma_{\\phi}),$$ \n",
    "where \n",
    "$$[\\mu_{\\phi}, \\Sigma_{\\phi}] = g(z).$$ "
   ]
  },
  {
   "cell_type": "markdown",
   "metadata": {},
   "source": [
    "The empiracal way to approximate $p_{\\hat{\\R{X}}}$ is to sammple a large number of $z$ values $\\{z_1, z_2, \\dots, z_n\\}$ from $\\R{Z}$ followed by computing:\n",
    "$$p_{\\hat{\\R{X}}}(\\R{X}) \\approx \\frac{1}{n} \\sum_{i} p_{\\hat{\\R{X}}|\\R{Z}}(\\R{X}|z_i)$$\n",
    "\n",
    "However, this needs too many samples and is intractable."
   ]
  },
  {
   "cell_type": "markdown",
   "metadata": {},
   "source": [
    "Then we want to sample the $z$ values that are likely to generate $x$. This means we need inferring $\\hat{\\R{Z}}$ from $\\R{X}$.\n",
    "\n",
    "We assume $p_{\\hat{\\R{Z}}|\\R{X}}(\\R{Z}|x)$ is a Gaussian distribution, and use a trainable function $f:\\mc{\\R{X}} \\rightarrow \\mc{\\R{Z}}$ parameterized by $\\theta$ to output the mean and variance of $p_{\\hat{\\R{Z}}|\\R{X}}(\\R{Z}|x)$. This is to say\n",
    "$$ p_{\\hat{\\R{Z}}|\\R{X}}(z|x) =\\mc{N}(z | \\mu_{\\theta}, \\Sigma_{\\theta}), $$\n",
    "where \n",
    "$$[\\mu_{\\theta}, \\Sigma_{\\theta}] = f(x).$$ "
   ]
  },
  {
   "cell_type": "markdown",
   "metadata": {},
   "source": [
    "We have: \n",
    "$$ p_{\\hat{\\R{X}}}(x) = \\underbrace{E[p_{\\hat{\\R{X}}|\\R{Z}}(x|\\hat{\\R{Z}})| x=\\R{X}] -D(P_{\\hat{\\R{Z}}|\\R{X}}(\\cdot | x) || P_{\\R{Z}})}_{\\text{ELBO}(x)} + D(P_{\\hat{\\R{Z}}|\\R{X}}(\\cdot | x) | P_{\\R{Z}|\\R{X}}(\\cdot | x)).$$\n",
    "\n",
    "Hence,\n",
    "$$ E[p_{\\hat{\\R{X}}}(\\R{X})] \\geq \\underbrace{E[p_{\\hat{\\R{X}}|\\R{Z}}(\\R{X}|\\hat{\\R{Z}})] - D(P_{\\hat{\\R{Z}}|\\R{X}} || P_{\\R{Z}}|P_{\\R{X}})}_{\\text{ELBO}}. $$\n",
    "\n",
    "Then to maximize $E[p_{\\hat{\\R{X}}}(\\R{X})]$, we can optimize the parameters of the whole model by maximizing the ELBO.  \n",
    "\n",
    "We usually minimizing an objective function, and it is\n",
    "$$\\min_\\limits{\\phi, \\theta} L_{\\text{VAE}} := E[ - p_{\\hat{\\R{X}}|\\R{Z}}(\\R{X}|\\hat{\\R{Z}})] + D(P_{\\hat{\\R{Z}}|\\R{X}} || P_{\\R{Z}}|P_{\\R{X}})$$"
   ]
  },
  {
   "cell_type": "markdown",
   "metadata": {},
   "source": [
    "---\n",
    "**Exercise** \n",
    "\n",
    "Prove that \n",
    "$$ p_{\\hat{\\R{X}}}(x) \\geq E[p_{\\hat{\\R{X}}|\\R{Z}}(x|\\hat{\\R{Z}})|x=\\R{X}] -D(P_{\\hat{\\R{Z}}|\\R{X}}(\\cdot | x) || P_{\\R{Z}}). $$"
   ]
  },
  {
   "cell_type": "markdown",
   "metadata": {},
   "source": [
    "We use neural networks for $f$ and $g$, and we call $f$ the $Decoder$ and $g$ the *Encoder*, since the structure of the whole model resembles an autoencoder."
   ]
  },
  {
   "cell_type": "markdown",
   "metadata": {},
   "source": [
    "Reference  \n",
    "https://github.com/Jackson-Kang/Pytorch-VAE-tutorial/blob/master/01_Variational_AutoEncoder.ipynb\n",
    "https://github.com/AntixK/PyTorch-VAE\n",
    "https://github.com/GuHongyang/VaDE-pytorch\n",
    "\n",
    "Tutorial on Variational Autoencoders  https://arxiv.org/abs/1606.05908   \n",
    "\n",
    "VAE https://arxiv.org/abs/1312.6114   \n",
    "Fixing a broken ELBO http://proceedings.mlr.press/v80/alemi18a.html   \n",
    "beta-vae: Learning basic visual concepts with a constrained variational framework https://openreview.net/forum?id=Sy2fzU9gl   \n",
    "Understanding disentangling in β-VAE https://arxiv.org/abs/1804.03599    \n",
    "Isolating Sources of Disentanglement in VAEs https://arxiv.org/abs/1802.04942   \n",
    "InfoVAE https://ojs.aaai.org/index.php/AAAI/article/view/4538   \n"
   ]
  },
  {
   "cell_type": "code",
   "execution_count": 1,
   "metadata": {},
   "outputs": [],
   "source": [
    "import torch\n",
    "import torch.nn as nn\n",
    "\n",
    "import numpy as np\n",
    "\n",
    "from tqdm import tqdm\n",
    "from torchvision.utils import save_image, make_grid\n",
    "\n",
    "import matplotlib.pyplot as plt"
   ]
  },
  {
   "cell_type": "code",
   "execution_count": 2,
   "metadata": {},
   "outputs": [],
   "source": [
    "# https://pytorch.org/docs/stable/notes/randomness.html\n",
    "SEED = 0\n",
    "torch.manual_seed(SEED)\n",
    "np.random.seed(SEED)\n",
    "\n",
    "import random\n",
    "random.seed(SEED)\n",
    "import datetime"
   ]
  },
  {
   "cell_type": "code",
   "execution_count": 3,
   "metadata": {},
   "outputs": [],
   "source": [
    "# Model Hyperparameters\n",
    "\n",
    "dataset_path = './datasets'\n",
    "\n",
    "cuda = torch.cuda.is_available()\n",
    "DEVICE = torch.device(\"cuda\" if cuda else \"cpu\")\n",
    "\n",
    "\n",
    "batch_size = 128\n",
    "\n",
    "x_dim  = 784 # dimension of input data for Decoder\n",
    "latent_dim = 200 # dimension for latent representation z\n",
    "hidden_dims = [400] \n",
    "decoder_hidden_dims = None # if not None, it means specifying different hidden nodes of internal layers for Decoder with Encoder\n",
    "\n",
    "beta = 1 # the coefficient for the divergence term in L_{VAE}, beta = 1 is the vanilla VAE\n",
    "\n",
    "lr = 1e-3\n",
    "\n",
    "epochs = 15\n"
   ]
  },
  {
   "cell_type": "markdown",
   "metadata": {},
   "source": [
    "# Load Dataset"
   ]
  },
  {
   "cell_type": "markdown",
   "metadata": {},
   "source": [
    "Use MNIST dataset as an example.  "
   ]
  },
  {
   "cell_type": "code",
   "execution_count": 4,
   "metadata": {},
   "outputs": [],
   "source": [
    "from torchvision.datasets import MNIST\n",
    "import torchvision.transforms as transforms\n",
    "from torch.utils.data import DataLoader\n",
    "\n",
    "\n",
    "mnist_transform = transforms.Compose([\n",
    "        transforms.ToTensor(),\n",
    "])\n",
    "\n",
    "kwargs = {'num_workers': 1, 'pin_memory': True} \n",
    "\n",
    "train_dataset = MNIST(dataset_path, transform=mnist_transform, train=True, download=True)\n",
    "test_dataset  = MNIST(dataset_path, transform=mnist_transform, train=False, download=True)\n",
    "\n",
    "train_loader = DataLoader(dataset=train_dataset, batch_size=batch_size, shuffle=True, **kwargs)\n",
    "test_loader  = DataLoader(dataset=test_dataset,  batch_size=batch_size, shuffle=False, **kwargs)"
   ]
  },
  {
   "cell_type": "markdown",
   "metadata": {},
   "source": [
    "# Model"
   ]
  },
  {
   "cell_type": "markdown",
   "metadata": {},
   "source": [
    "Build the *Encoder*, i.e., the function $f$, for inferring $\\hat{\\R{Z}}$ from $\\R{X}$.\n",
    "$$ p_{\\hat{\\R{Z}}|\\R{X}}(z|x) =\\mc{N}(z | \\mu_{\\theta}, \\Sigma_{\\theta}), $$\n",
    "where \n",
    "$$[\\mu_{\\theta}, \\Sigma_{\\theta}] = f(x).$$ "
   ]
  },
  {
   "cell_type": "markdown",
   "metadata": {},
   "source": [
    "We assume $\\Sigma_{\\theta}$ is diagonal, i.e.,\n",
    "$$\\Sigma_{\\theta} := \\text{diag}\\left(\\left\\{\\sigma_{\\theta, 1}^2, \\sigma_{\\theta, 2}^2, \\dots,  \\sigma_{\\theta, d_{\\R{Z}}}^2 \\right\\}\\right) =  \\text{diag} \\left( \\left\\{\\sigma_{\\theta, j}^2 \\right\\}_{j=1}^{d_{\\R{Z}}} \\right),$$ \n",
    "where $d_{\\R{Z}}$ is the dimension of $\\R{Z}$.  \n",
    "\n",
    "The output of the *Encoder* is $\\mu_{\\theta}$ and $\\left[\\log \\sigma_{\\theta, 1}^2, \\log \\sigma_{\\theta, 2}^2, \\dots,  \\log \\sigma_{\\theta, d_{\\R{Z}}}^2 \\right]$"
   ]
  },
  {
   "cell_type": "code",
   "execution_count": 5,
   "metadata": {},
   "outputs": [],
   "source": [
    "class Encoder(nn.Module):\n",
    "    def __init__(self, x_dim=x_dim, latent_dim=latent_dim, hidden_dims = hidden_dims):\n",
    "        super(Encoder,self).__init__()\n",
    " \n",
    "        self.x_dim = x_dim\n",
    "        self.latent_dim = latent_dim\n",
    "        self.hidden_dims = hidden_dims\n",
    "        \n",
    "        modules = []\n",
    "        \n",
    "        self.input_dim = x_dim\n",
    "        \n",
    "        for h_dim in self.hidden_dims:\n",
    "            modules.append(\n",
    "                nn.Sequential(\n",
    "                    nn.Linear(self.input_dim, h_dim),\n",
    "                    nn.ReLU(inplace=True)\n",
    "                )\n",
    "            )\n",
    "            self.input_dim = h_dim\n",
    "        \n",
    "        self.encoder=nn.Sequential(*modules)\n",
    "        \n",
    "        self.mu_z=nn.Linear(hidden_dims[-1], latent_dim)\n",
    "        self.log_var_z=nn.Linear(hidden_dims[-1], latent_dim)\n",
    "        \n",
    "    def forward(self, x):\n",
    "        e=self.encoder(x)\n",
    "        \n",
    "        mu=self.mu_z(e)\n",
    "        log_var=self.log_var_z(e)\n",
    "\n",
    "        return mu, log_var"
   ]
  },
  {
   "cell_type": "markdown",
   "metadata": {},
   "source": [
    "Build the *Decoder*, i.e., the function $g$, for generating $\\hat{\\R{X}}$ from $\\R{Z}$.  \n",
    "\n",
    "$$p_{\\hat{\\R{X}}|\\R{Z}}(x|z) = \\mc{N}(x | \\mu_{\\phi}, \\Sigma_{\\phi}),$$ \n",
    "where \n",
    "$$[\\mu_{\\phi}, \\Sigma_{\\phi}] = g(z).$$ \n",
    "\n"
   ]
  },
  {
   "cell_type": "markdown",
   "metadata": {},
   "source": [
    "The default hidden dimensions of the layers in *Decoder* are the reverse order of those in *Encoder*.  \n",
    "\n",
    "We can also define a different one for *Decoder* by setting the argument *decoder_hidden_dims*.  \n",
    "\n",
    "In the Decoder here, for an input $z$ we use $\\mu_{\\phi}$ as $\\hat{x}$."
   ]
  },
  {
   "cell_type": "code",
   "execution_count": 6,
   "metadata": {},
   "outputs": [],
   "source": [
    "class Decoder(nn.Module):\n",
    "    def __init__(self, x_dim=x_dim, latent_dim=latent_dim, hidden_dims = hidden_dims, decoder_hidden_dims = decoder_hidden_dims):\n",
    "        super(Decoder,self).__init__()\n",
    "\n",
    "        self.x_dim = x_dim\n",
    "        self.latent_dim = latent_dim\n",
    "        self.hidden_dims = hidden_dims\n",
    "        self.decoder_hidden_dims = decoder_hidden_dims\n",
    "\n",
    "        modules = []\n",
    "\n",
    "        if self.decoder_hidden_dims is None:\n",
    "            self.decoder_hidden_dims = list(reversed(self.hidden_dims))\n",
    "\n",
    "        self.input_dim = self.latent_dim\n",
    "\n",
    "        for h_dim in self.decoder_hidden_dims:\n",
    "            modules.append(\n",
    "                nn.Sequential(\n",
    "                    nn.Linear(self.input_dim, h_dim),\n",
    "                    nn.ReLU(inplace=True)\n",
    "                )\n",
    "            )\n",
    "            self.input_dim = h_dim\n",
    "\n",
    "        self.decoder=nn.Sequential(*modules)\n",
    "\n",
    "        self.mu_x=nn.Linear(self.decoder_hidden_dims[-1], self.x_dim)\n",
    "        # self.log_var_x=nn.Linear(hidden_dims[-1], self.x_dim)\n",
    "\n",
    "    def forward(self, z):\n",
    "        d=self.decoder(z)\n",
    "        \n",
    "        # use Sigmoid activation to ensure elements of mu, or the x_hat below are in (0,1)\n",
    "        mu=torch.sigmoid(self.mu_x(d))\n",
    "        # log_var=self.log_var_x(d)\n",
    "\n",
    "        # for decoder, we care about the mean\n",
    "        x_hat = mu\n",
    "\n",
    "        return x_hat"
   ]
  },
  {
   "cell_type": "markdown",
   "metadata": {},
   "source": [
    "# Reparameterization"
   ]
  },
  {
   "cell_type": "markdown",
   "metadata": {},
   "source": [
    "To train the *Encoder* and *Decoder*, we need the gradients with respect to the trainable parameters, and backpropagate through the neural networks.  \n",
    "\n",
    "However, the input for the *Decoder*, $\\hat{z}$ values is randomly sampled from $\\mc{N}(\\mu_{\\theta}, \\Sigma_{\\theta})$, and the backpropagation cannot flow through such a random node.  \n",
    "\n",
    "Instead of directly sampling $\\hat{z}$ values the reparameterization trick introduces a random variable $$\\epsilon \\sim \\mc{N}(\\M{0},\\M{I}),$$ and sample \n",
    "$$\\epsilon_i \\sim \\mc{N}(\\M{0},\\M{I}),$$ then $z_i$ is obtained by \n",
    "$$z_i = \\mu_{\\theta} + \\text{diag} \\left( \\left\\{\\sigma_{\\theta, j} \\right\\}_{j=1}^{d_{\\R{Z}}} \\right) \\cdot \\epsilon_i,$$ \n",
    "where we assume $\\Sigma_{\\theta}$ is a diagonal matrix with \n",
    "$$\\Sigma_{\\theta} := \\text{diag} \\left( \\left\\{\\sigma_{\\theta, j}^2 \\right\\}_{j=1}^{d_{\\R{Z}}} \\right).$$"
   ]
  },
  {
   "cell_type": "code",
   "execution_count": 7,
   "metadata": {},
   "outputs": [],
   "source": [
    "def reparameterization(mean, std):\n",
    "    epsilon = torch.randn_like(std).to(DEVICE)        # sampling epsilon        \n",
    "    z = mean + std*epsilon                          # reparameterization trick\n",
    "    return z"
   ]
  },
  {
   "cell_type": "markdown",
   "metadata": {},
   "source": [
    "Build the model composed of *Encoder* and *Decoder*."
   ]
  },
  {
   "cell_type": "code",
   "execution_count": 8,
   "metadata": {},
   "outputs": [],
   "source": [
    "class Model(nn.Module):\n",
    "    def __init__(self, encoder, decoder):\n",
    "        super(Model, self).__init__()\n",
    "        self.encoder = encoder\n",
    "        self.decoder = decoder\n",
    "        \n",
    "    def forward(self, x):\n",
    "        mu, log_var = self.encoder(x)\n",
    "        z = reparameterization(mu, torch.exp(0.5 * log_var))\n",
    "        x_hat = self.decoder(z)\n",
    "        \n",
    "        return x_hat, mu, log_var"
   ]
  },
  {
   "cell_type": "code",
   "execution_count": 9,
   "metadata": {},
   "outputs": [],
   "source": [
    "encoder=Encoder()\n",
    "decoder=Decoder()\n",
    "\n",
    "model = Model(encoder=encoder, decoder=decoder).to(DEVICE)"
   ]
  },
  {
   "cell_type": "markdown",
   "metadata": {},
   "source": [
    "# Train the model"
   ]
  },
  {
   "cell_type": "code",
   "execution_count": 10,
   "metadata": {},
   "outputs": [],
   "source": [
    "from torch.optim import Adam\n",
    "\n",
    "def loss_function(x, x_hat, mu, log_var):\n",
    "    reconstruction_loss = nn.functional.binary_cross_entropy(x_hat, x, reduction='mean')\n",
    "    KLD = - 0.5 * torch.mean(1+ log_var - mu ** 2 - log_var.exp())\n",
    "\n",
    "    return reconstruction_loss + beta * KLD, reconstruction_loss, KLD \n",
    "\n",
    "optimizer = Adam(model.parameters(), lr=lr)"
   ]
  },
  {
   "cell_type": "code",
   "execution_count": 11,
   "metadata": {
    "tags": []
   },
   "outputs": [
    {
     "output_type": "stream",
     "name": "stdout",
     "text": [
      "Start training VAE...\n",
      "2021-08-21  21:54:35  \tEpoch 1: \tKLD Loss: 0.000368 \treconstruction Loss: 0.277943 \tLoss: 0.278311\n",
      "2021-08-21  21:54:43  \tEpoch 2: \tKLD Loss: 0.000010 \treconstruction Loss: 0.263942 \tLoss: 0.263952\n",
      "2021-08-21  21:54:50  \tEpoch 3: \tKLD Loss: 0.000003 \treconstruction Loss: 0.263688 \tLoss: 0.263691\n",
      "2021-08-21  21:54:57  \tEpoch 4: \tKLD Loss: 0.000002 \treconstruction Loss: 0.263528 \tLoss: 0.263530\n",
      "2021-08-21  21:55:05  \tEpoch 5: \tKLD Loss: 0.000002 \treconstruction Loss: 0.263442 \tLoss: 0.263443\n",
      "2021-08-21  21:55:12  \tEpoch 6: \tKLD Loss: 0.000000 \treconstruction Loss: 0.263373 \tLoss: 0.263373\n",
      "2021-08-21  21:55:19  \tEpoch 7: \tKLD Loss: 0.000001 \treconstruction Loss: 0.263326 \tLoss: 0.263326\n",
      "2021-08-21  21:55:26  \tEpoch 8: \tKLD Loss: 0.000000 \treconstruction Loss: 0.263247 \tLoss: 0.263248\n",
      "2021-08-21  21:55:34  \tEpoch 9: \tKLD Loss: 0.000001 \treconstruction Loss: 0.263218 \tLoss: 0.263220\n",
      "2021-08-21  21:55:41  \tEpoch 10: \tKLD Loss: 0.000002 \treconstruction Loss: 0.263142 \tLoss: 0.263144\n",
      "2021-08-21  21:55:48  \tEpoch 11: \tKLD Loss: 0.000002 \treconstruction Loss: 0.263137 \tLoss: 0.263139\n",
      "2021-08-21  21:55:55  \tEpoch 12: \tKLD Loss: 0.000002 \treconstruction Loss: 0.263102 \tLoss: 0.263104\n",
      "2021-08-21  21:56:03  \tEpoch 13: \tKLD Loss: 0.000002 \treconstruction Loss: 0.263070 \tLoss: 0.263072\n",
      "2021-08-21  21:56:11  \tEpoch 14: \tKLD Loss: 0.000001 \treconstruction Loss: 0.263063 \tLoss: 0.263064\n",
      "2021-08-21  21:56:18  \tEpoch 15: \tKLD Loss: 0.000001 \treconstruction Loss: 0.263035 \tLoss: 0.263036\n",
      "Finish!!\n"
     ]
    }
   ],
   "source": [
    "print(\"Start training VAE...\")\n",
    "model.train()\n",
    "\n",
    "loss_list = []\n",
    "reconstruction_loss_list = []\n",
    "KLD_list = []\n",
    "for epoch in range(epochs):\n",
    "    overall_loss = 0\n",
    "    overall_reconstruction_loss = 0\n",
    "    overall_KLD = 0\n",
    "    overall_sample_number = 0\n",
    "    for batch_idx, (x, _) in enumerate(train_loader):\n",
    "\n",
    "        x = x.view(-1, x_dim)\n",
    "        x = x.to(DEVICE)\n",
    "\n",
    "        optimizer.zero_grad()\n",
    "\n",
    "        x_hat, mu, log_var = model(x)\n",
    "        loss, reconstruction_loss, KLD = loss_function(x, x_hat, mu, log_var)\n",
    "        \n",
    "        overall_loss += loss.item() * x.shape[0]\n",
    "        overall_reconstruction_loss += reconstruction_loss.item() * x.shape[0]\n",
    "        overall_KLD += KLD.item() * x.shape[0]\n",
    "        overall_sample_number += x.shape[0]\n",
    "\n",
    "        train_loss = overall_loss / overall_sample_number\n",
    "\n",
    "        train_reconstruction_loss = overall_reconstruction_loss / overall_sample_number\n",
    "        train_KLD = overall_KLD / overall_sample_number\n",
    "        \n",
    "        loss.backward()\n",
    "        optimizer.step()\n",
    "\n",
    "    loss_list.append(train_loss)\n",
    "    reconstruction_loss_list.append(train_reconstruction_loss)\n",
    "    KLD_list.append(train_KLD)\n",
    "\n",
    "    # print(datetime.datetime.now().strftime('%Y-%m-%d  %H:%M:%S'), \"\\tEpoch\", epoch + 1, \":\", \"\\tKLD Loss: \", overall_KLD / overall_sample_number, \"\\treconstruction Loss: \", overall_reconstruction_loss / overall_sample_number, \"\\tLoss: \", overall_loss / overall_sample_number)\n",
    "\n",
    "    print(datetime.datetime.now().strftime('%Y-%m-%d  %H:%M:%S'), \" \\tEpoch {}: \\tKLD Loss: {:.6f} \\treconstruction Loss: {:.6f} \\tLoss: {:.6f}\".format(epoch + 1, train_KLD, train_reconstruction_loss, train_loss))\n",
    "\n",
    "print(\"Finish!!\")"
   ]
  },
  {
   "cell_type": "code",
   "execution_count": 12,
   "metadata": {},
   "outputs": [
    {
     "output_type": "display_data",
     "data": {
      "text/plain": "<Figure size 432x288 with 1 Axes>",
      "image/svg+xml": "<?xml version=\"1.0\" encoding=\"utf-8\" standalone=\"no\"?>\r\n<!DOCTYPE svg PUBLIC \"-//W3C//DTD SVG 1.1//EN\"\r\n  \"http://www.w3.org/Graphics/SVG/1.1/DTD/svg11.dtd\">\r\n<svg height=\"262.19625pt\" version=\"1.1\" viewBox=\"0 0 392.14375 262.19625\" width=\"392.14375pt\" xmlns=\"http://www.w3.org/2000/svg\" xmlns:xlink=\"http://www.w3.org/1999/xlink\">\r\n <metadata>\r\n  <rdf:RDF xmlns:cc=\"http://creativecommons.org/ns#\" xmlns:dc=\"http://purl.org/dc/elements/1.1/\" xmlns:rdf=\"http://www.w3.org/1999/02/22-rdf-syntax-ns#\">\r\n   <cc:Work>\r\n    <dc:type rdf:resource=\"http://purl.org/dc/dcmitype/StillImage\"/>\r\n    <dc:date>2021-08-21T21:56:18.581649</dc:date>\r\n    <dc:format>image/svg+xml</dc:format>\r\n    <dc:creator>\r\n     <cc:Agent>\r\n      <dc:title>Matplotlib v3.4.3, https://matplotlib.org/</dc:title>\r\n     </cc:Agent>\r\n    </dc:creator>\r\n   </cc:Work>\r\n  </rdf:RDF>\r\n </metadata>\r\n <defs>\r\n  <style type=\"text/css\">*{stroke-linecap:butt;stroke-linejoin:round;}</style>\r\n </defs>\r\n <g id=\"figure_1\">\r\n  <g id=\"patch_1\">\r\n   <path d=\"M 0 262.19625 \r\nL 392.14375 262.19625 \r\nL 392.14375 0 \r\nL 0 0 \r\nz\r\n\" style=\"fill:none;\"/>\r\n  </g>\r\n  <g id=\"axes_1\">\r\n   <g id=\"patch_2\">\r\n    <path d=\"M 50.14375 224.64 \r\nL 384.94375 224.64 \r\nL 384.94375 7.2 \r\nL 50.14375 7.2 \r\nz\r\n\" style=\"fill:#ffffff;\"/>\r\n   </g>\r\n   <g id=\"matplotlib.axis_1\">\r\n    <g id=\"xtick_1\">\r\n     <g id=\"line2d_1\">\r\n      <defs>\r\n       <path d=\"M 0 0 \r\nL 0 3.5 \r\n\" id=\"m0da7032767\" style=\"stroke:#000000;stroke-width:0.8;\"/>\r\n      </defs>\r\n      <g>\r\n       <use style=\"stroke:#000000;stroke-width:0.8;\" x=\"87.102192\" xlink:href=\"#m0da7032767\" y=\"224.64\"/>\r\n      </g>\r\n     </g>\r\n     <g id=\"text_1\">\r\n      <!-- 2 -->\r\n      <g transform=\"translate(83.920942 239.238438)scale(0.1 -0.1)\">\r\n       <defs>\r\n        <path d=\"M 1228 531 \r\nL 3431 531 \r\nL 3431 0 \r\nL 469 0 \r\nL 469 531 \r\nQ 828 903 1448 1529 \r\nQ 2069 2156 2228 2338 \r\nQ 2531 2678 2651 2914 \r\nQ 2772 3150 2772 3378 \r\nQ 2772 3750 2511 3984 \r\nQ 2250 4219 1831 4219 \r\nQ 1534 4219 1204 4116 \r\nQ 875 4013 500 3803 \r\nL 500 4441 \r\nQ 881 4594 1212 4672 \r\nQ 1544 4750 1819 4750 \r\nQ 2544 4750 2975 4387 \r\nQ 3406 4025 3406 3419 \r\nQ 3406 3131 3298 2873 \r\nQ 3191 2616 2906 2266 \r\nQ 2828 2175 2409 1742 \r\nQ 1991 1309 1228 531 \r\nz\r\n\" id=\"DejaVuSans-32\" transform=\"scale(0.015625)\"/>\r\n       </defs>\r\n       <use xlink:href=\"#DejaVuSans-32\"/>\r\n      </g>\r\n     </g>\r\n    </g>\r\n    <g id=\"xtick_2\">\r\n     <g id=\"line2d_2\">\r\n      <g>\r\n       <use style=\"stroke:#000000;stroke-width:0.8;\" x=\"130.582711\" xlink:href=\"#m0da7032767\" y=\"224.64\"/>\r\n      </g>\r\n     </g>\r\n     <g id=\"text_2\">\r\n      <!-- 4 -->\r\n      <g transform=\"translate(127.401461 239.238438)scale(0.1 -0.1)\">\r\n       <defs>\r\n        <path d=\"M 2419 4116 \r\nL 825 1625 \r\nL 2419 1625 \r\nL 2419 4116 \r\nz\r\nM 2253 4666 \r\nL 3047 4666 \r\nL 3047 1625 \r\nL 3713 1625 \r\nL 3713 1100 \r\nL 3047 1100 \r\nL 3047 0 \r\nL 2419 0 \r\nL 2419 1100 \r\nL 313 1100 \r\nL 313 1709 \r\nL 2253 4666 \r\nz\r\n\" id=\"DejaVuSans-34\" transform=\"scale(0.015625)\"/>\r\n       </defs>\r\n       <use xlink:href=\"#DejaVuSans-34\"/>\r\n      </g>\r\n     </g>\r\n    </g>\r\n    <g id=\"xtick_3\">\r\n     <g id=\"line2d_3\">\r\n      <g>\r\n       <use style=\"stroke:#000000;stroke-width:0.8;\" x=\"174.063231\" xlink:href=\"#m0da7032767\" y=\"224.64\"/>\r\n      </g>\r\n     </g>\r\n     <g id=\"text_3\">\r\n      <!-- 6 -->\r\n      <g transform=\"translate(170.881981 239.238438)scale(0.1 -0.1)\">\r\n       <defs>\r\n        <path d=\"M 2113 2584 \r\nQ 1688 2584 1439 2293 \r\nQ 1191 2003 1191 1497 \r\nQ 1191 994 1439 701 \r\nQ 1688 409 2113 409 \r\nQ 2538 409 2786 701 \r\nQ 3034 994 3034 1497 \r\nQ 3034 2003 2786 2293 \r\nQ 2538 2584 2113 2584 \r\nz\r\nM 3366 4563 \r\nL 3366 3988 \r\nQ 3128 4100 2886 4159 \r\nQ 2644 4219 2406 4219 \r\nQ 1781 4219 1451 3797 \r\nQ 1122 3375 1075 2522 \r\nQ 1259 2794 1537 2939 \r\nQ 1816 3084 2150 3084 \r\nQ 2853 3084 3261 2657 \r\nQ 3669 2231 3669 1497 \r\nQ 3669 778 3244 343 \r\nQ 2819 -91 2113 -91 \r\nQ 1303 -91 875 529 \r\nQ 447 1150 447 2328 \r\nQ 447 3434 972 4092 \r\nQ 1497 4750 2381 4750 \r\nQ 2619 4750 2861 4703 \r\nQ 3103 4656 3366 4563 \r\nz\r\n\" id=\"DejaVuSans-36\" transform=\"scale(0.015625)\"/>\r\n       </defs>\r\n       <use xlink:href=\"#DejaVuSans-36\"/>\r\n      </g>\r\n     </g>\r\n    </g>\r\n    <g id=\"xtick_4\">\r\n     <g id=\"line2d_4\">\r\n      <g>\r\n       <use style=\"stroke:#000000;stroke-width:0.8;\" x=\"217.54375\" xlink:href=\"#m0da7032767\" y=\"224.64\"/>\r\n      </g>\r\n     </g>\r\n     <g id=\"text_4\">\r\n      <!-- 8 -->\r\n      <g transform=\"translate(214.3625 239.238438)scale(0.1 -0.1)\">\r\n       <defs>\r\n        <path d=\"M 2034 2216 \r\nQ 1584 2216 1326 1975 \r\nQ 1069 1734 1069 1313 \r\nQ 1069 891 1326 650 \r\nQ 1584 409 2034 409 \r\nQ 2484 409 2743 651 \r\nQ 3003 894 3003 1313 \r\nQ 3003 1734 2745 1975 \r\nQ 2488 2216 2034 2216 \r\nz\r\nM 1403 2484 \r\nQ 997 2584 770 2862 \r\nQ 544 3141 544 3541 \r\nQ 544 4100 942 4425 \r\nQ 1341 4750 2034 4750 \r\nQ 2731 4750 3128 4425 \r\nQ 3525 4100 3525 3541 \r\nQ 3525 3141 3298 2862 \r\nQ 3072 2584 2669 2484 \r\nQ 3125 2378 3379 2068 \r\nQ 3634 1759 3634 1313 \r\nQ 3634 634 3220 271 \r\nQ 2806 -91 2034 -91 \r\nQ 1263 -91 848 271 \r\nQ 434 634 434 1313 \r\nQ 434 1759 690 2068 \r\nQ 947 2378 1403 2484 \r\nz\r\nM 1172 3481 \r\nQ 1172 3119 1398 2916 \r\nQ 1625 2713 2034 2713 \r\nQ 2441 2713 2670 2916 \r\nQ 2900 3119 2900 3481 \r\nQ 2900 3844 2670 4047 \r\nQ 2441 4250 2034 4250 \r\nQ 1625 4250 1398 4047 \r\nQ 1172 3844 1172 3481 \r\nz\r\n\" id=\"DejaVuSans-38\" transform=\"scale(0.015625)\"/>\r\n       </defs>\r\n       <use xlink:href=\"#DejaVuSans-38\"/>\r\n      </g>\r\n     </g>\r\n    </g>\r\n    <g id=\"xtick_5\">\r\n     <g id=\"line2d_5\">\r\n      <g>\r\n       <use style=\"stroke:#000000;stroke-width:0.8;\" x=\"261.024269\" xlink:href=\"#m0da7032767\" y=\"224.64\"/>\r\n      </g>\r\n     </g>\r\n     <g id=\"text_5\">\r\n      <!-- 10 -->\r\n      <g transform=\"translate(254.661769 239.238438)scale(0.1 -0.1)\">\r\n       <defs>\r\n        <path d=\"M 794 531 \r\nL 1825 531 \r\nL 1825 4091 \r\nL 703 3866 \r\nL 703 4441 \r\nL 1819 4666 \r\nL 2450 4666 \r\nL 2450 531 \r\nL 3481 531 \r\nL 3481 0 \r\nL 794 0 \r\nL 794 531 \r\nz\r\n\" id=\"DejaVuSans-31\" transform=\"scale(0.015625)\"/>\r\n        <path d=\"M 2034 4250 \r\nQ 1547 4250 1301 3770 \r\nQ 1056 3291 1056 2328 \r\nQ 1056 1369 1301 889 \r\nQ 1547 409 2034 409 \r\nQ 2525 409 2770 889 \r\nQ 3016 1369 3016 2328 \r\nQ 3016 3291 2770 3770 \r\nQ 2525 4250 2034 4250 \r\nz\r\nM 2034 4750 \r\nQ 2819 4750 3233 4129 \r\nQ 3647 3509 3647 2328 \r\nQ 3647 1150 3233 529 \r\nQ 2819 -91 2034 -91 \r\nQ 1250 -91 836 529 \r\nQ 422 1150 422 2328 \r\nQ 422 3509 836 4129 \r\nQ 1250 4750 2034 4750 \r\nz\r\n\" id=\"DejaVuSans-30\" transform=\"scale(0.015625)\"/>\r\n       </defs>\r\n       <use xlink:href=\"#DejaVuSans-31\"/>\r\n       <use x=\"63.623047\" xlink:href=\"#DejaVuSans-30\"/>\r\n      </g>\r\n     </g>\r\n    </g>\r\n    <g id=\"xtick_6\">\r\n     <g id=\"line2d_6\">\r\n      <g>\r\n       <use style=\"stroke:#000000;stroke-width:0.8;\" x=\"304.504789\" xlink:href=\"#m0da7032767\" y=\"224.64\"/>\r\n      </g>\r\n     </g>\r\n     <g id=\"text_6\">\r\n      <!-- 12 -->\r\n      <g transform=\"translate(298.142289 239.238438)scale(0.1 -0.1)\">\r\n       <use xlink:href=\"#DejaVuSans-31\"/>\r\n       <use x=\"63.623047\" xlink:href=\"#DejaVuSans-32\"/>\r\n      </g>\r\n     </g>\r\n    </g>\r\n    <g id=\"xtick_7\">\r\n     <g id=\"line2d_7\">\r\n      <g>\r\n       <use style=\"stroke:#000000;stroke-width:0.8;\" x=\"347.985308\" xlink:href=\"#m0da7032767\" y=\"224.64\"/>\r\n      </g>\r\n     </g>\r\n     <g id=\"text_7\">\r\n      <!-- 14 -->\r\n      <g transform=\"translate(341.622808 239.238438)scale(0.1 -0.1)\">\r\n       <use xlink:href=\"#DejaVuSans-31\"/>\r\n       <use x=\"63.623047\" xlink:href=\"#DejaVuSans-34\"/>\r\n      </g>\r\n     </g>\r\n    </g>\r\n    <g id=\"text_8\">\r\n     <!-- epoch -->\r\n     <g transform=\"translate(202.315625 252.916563)scale(0.1 -0.1)\">\r\n      <defs>\r\n       <path d=\"M 3597 1894 \r\nL 3597 1613 \r\nL 953 1613 \r\nQ 991 1019 1311 708 \r\nQ 1631 397 2203 397 \r\nQ 2534 397 2845 478 \r\nQ 3156 559 3463 722 \r\nL 3463 178 \r\nQ 3153 47 2828 -22 \r\nQ 2503 -91 2169 -91 \r\nQ 1331 -91 842 396 \r\nQ 353 884 353 1716 \r\nQ 353 2575 817 3079 \r\nQ 1281 3584 2069 3584 \r\nQ 2775 3584 3186 3129 \r\nQ 3597 2675 3597 1894 \r\nz\r\nM 3022 2063 \r\nQ 3016 2534 2758 2815 \r\nQ 2500 3097 2075 3097 \r\nQ 1594 3097 1305 2825 \r\nQ 1016 2553 972 2059 \r\nL 3022 2063 \r\nz\r\n\" id=\"DejaVuSans-65\" transform=\"scale(0.015625)\"/>\r\n       <path d=\"M 1159 525 \r\nL 1159 -1331 \r\nL 581 -1331 \r\nL 581 3500 \r\nL 1159 3500 \r\nL 1159 2969 \r\nQ 1341 3281 1617 3432 \r\nQ 1894 3584 2278 3584 \r\nQ 2916 3584 3314 3078 \r\nQ 3713 2572 3713 1747 \r\nQ 3713 922 3314 415 \r\nQ 2916 -91 2278 -91 \r\nQ 1894 -91 1617 61 \r\nQ 1341 213 1159 525 \r\nz\r\nM 3116 1747 \r\nQ 3116 2381 2855 2742 \r\nQ 2594 3103 2138 3103 \r\nQ 1681 3103 1420 2742 \r\nQ 1159 2381 1159 1747 \r\nQ 1159 1113 1420 752 \r\nQ 1681 391 2138 391 \r\nQ 2594 391 2855 752 \r\nQ 3116 1113 3116 1747 \r\nz\r\n\" id=\"DejaVuSans-70\" transform=\"scale(0.015625)\"/>\r\n       <path d=\"M 1959 3097 \r\nQ 1497 3097 1228 2736 \r\nQ 959 2375 959 1747 \r\nQ 959 1119 1226 758 \r\nQ 1494 397 1959 397 \r\nQ 2419 397 2687 759 \r\nQ 2956 1122 2956 1747 \r\nQ 2956 2369 2687 2733 \r\nQ 2419 3097 1959 3097 \r\nz\r\nM 1959 3584 \r\nQ 2709 3584 3137 3096 \r\nQ 3566 2609 3566 1747 \r\nQ 3566 888 3137 398 \r\nQ 2709 -91 1959 -91 \r\nQ 1206 -91 779 398 \r\nQ 353 888 353 1747 \r\nQ 353 2609 779 3096 \r\nQ 1206 3584 1959 3584 \r\nz\r\n\" id=\"DejaVuSans-6f\" transform=\"scale(0.015625)\"/>\r\n       <path d=\"M 3122 3366 \r\nL 3122 2828 \r\nQ 2878 2963 2633 3030 \r\nQ 2388 3097 2138 3097 \r\nQ 1578 3097 1268 2742 \r\nQ 959 2388 959 1747 \r\nQ 959 1106 1268 751 \r\nQ 1578 397 2138 397 \r\nQ 2388 397 2633 464 \r\nQ 2878 531 3122 666 \r\nL 3122 134 \r\nQ 2881 22 2623 -34 \r\nQ 2366 -91 2075 -91 \r\nQ 1284 -91 818 406 \r\nQ 353 903 353 1747 \r\nQ 353 2603 823 3093 \r\nQ 1294 3584 2113 3584 \r\nQ 2378 3584 2631 3529 \r\nQ 2884 3475 3122 3366 \r\nz\r\n\" id=\"DejaVuSans-63\" transform=\"scale(0.015625)\"/>\r\n       <path d=\"M 3513 2113 \r\nL 3513 0 \r\nL 2938 0 \r\nL 2938 2094 \r\nQ 2938 2591 2744 2837 \r\nQ 2550 3084 2163 3084 \r\nQ 1697 3084 1428 2787 \r\nQ 1159 2491 1159 1978 \r\nL 1159 0 \r\nL 581 0 \r\nL 581 4863 \r\nL 1159 4863 \r\nL 1159 2956 \r\nQ 1366 3272 1645 3428 \r\nQ 1925 3584 2291 3584 \r\nQ 2894 3584 3203 3211 \r\nQ 3513 2838 3513 2113 \r\nz\r\n\" id=\"DejaVuSans-68\" transform=\"scale(0.015625)\"/>\r\n      </defs>\r\n      <use xlink:href=\"#DejaVuSans-65\"/>\r\n      <use x=\"61.523438\" xlink:href=\"#DejaVuSans-70\"/>\r\n      <use x=\"125\" xlink:href=\"#DejaVuSans-6f\"/>\r\n      <use x=\"186.181641\" xlink:href=\"#DejaVuSans-63\"/>\r\n      <use x=\"241.162109\" xlink:href=\"#DejaVuSans-68\"/>\r\n     </g>\r\n    </g>\r\n   </g>\r\n   <g id=\"matplotlib.axis_2\">\r\n    <g id=\"ytick_1\">\r\n     <g id=\"line2d_8\">\r\n      <defs>\r\n       <path d=\"M 0 0 \r\nL -3.5 0 \r\n\" id=\"mb1fbf1f71c\" style=\"stroke:#000000;stroke-width:0.8;\"/>\r\n      </defs>\r\n      <g>\r\n       <use style=\"stroke:#000000;stroke-width:0.8;\" x=\"50.14375\" xlink:href=\"#mb1fbf1f71c\" y=\"214.756658\"/>\r\n      </g>\r\n     </g>\r\n     <g id=\"text_9\">\r\n      <!-- 0.00 -->\r\n      <g transform=\"translate(20.878125 218.555877)scale(0.1 -0.1)\">\r\n       <defs>\r\n        <path d=\"M 684 794 \r\nL 1344 794 \r\nL 1344 0 \r\nL 684 0 \r\nL 684 794 \r\nz\r\n\" id=\"DejaVuSans-2e\" transform=\"scale(0.015625)\"/>\r\n       </defs>\r\n       <use xlink:href=\"#DejaVuSans-30\"/>\r\n       <use x=\"63.623047\" xlink:href=\"#DejaVuSans-2e\"/>\r\n       <use x=\"95.410156\" xlink:href=\"#DejaVuSans-30\"/>\r\n       <use x=\"159.033203\" xlink:href=\"#DejaVuSans-30\"/>\r\n      </g>\r\n     </g>\r\n    </g>\r\n    <g id=\"ytick_2\">\r\n     <g id=\"line2d_9\">\r\n      <g>\r\n       <use style=\"stroke:#000000;stroke-width:0.8;\" x=\"50.14375\" xlink:href=\"#mb1fbf1f71c\" y=\"179.243673\"/>\r\n      </g>\r\n     </g>\r\n     <g id=\"text_10\">\r\n      <!-- 0.05 -->\r\n      <g transform=\"translate(20.878125 183.042891)scale(0.1 -0.1)\">\r\n       <defs>\r\n        <path d=\"M 691 4666 \r\nL 3169 4666 \r\nL 3169 4134 \r\nL 1269 4134 \r\nL 1269 2991 \r\nQ 1406 3038 1543 3061 \r\nQ 1681 3084 1819 3084 \r\nQ 2600 3084 3056 2656 \r\nQ 3513 2228 3513 1497 \r\nQ 3513 744 3044 326 \r\nQ 2575 -91 1722 -91 \r\nQ 1428 -91 1123 -41 \r\nQ 819 9 494 109 \r\nL 494 744 \r\nQ 775 591 1075 516 \r\nQ 1375 441 1709 441 \r\nQ 2250 441 2565 725 \r\nQ 2881 1009 2881 1497 \r\nQ 2881 1984 2565 2268 \r\nQ 2250 2553 1709 2553 \r\nQ 1456 2553 1204 2497 \r\nQ 953 2441 691 2322 \r\nL 691 4666 \r\nz\r\n\" id=\"DejaVuSans-35\" transform=\"scale(0.015625)\"/>\r\n       </defs>\r\n       <use xlink:href=\"#DejaVuSans-30\"/>\r\n       <use x=\"63.623047\" xlink:href=\"#DejaVuSans-2e\"/>\r\n       <use x=\"95.410156\" xlink:href=\"#DejaVuSans-30\"/>\r\n       <use x=\"159.033203\" xlink:href=\"#DejaVuSans-35\"/>\r\n      </g>\r\n     </g>\r\n    </g>\r\n    <g id=\"ytick_3\">\r\n     <g id=\"line2d_10\">\r\n      <g>\r\n       <use style=\"stroke:#000000;stroke-width:0.8;\" x=\"50.14375\" xlink:href=\"#mb1fbf1f71c\" y=\"143.730687\"/>\r\n      </g>\r\n     </g>\r\n     <g id=\"text_11\">\r\n      <!-- 0.10 -->\r\n      <g transform=\"translate(20.878125 147.529906)scale(0.1 -0.1)\">\r\n       <use xlink:href=\"#DejaVuSans-30\"/>\r\n       <use x=\"63.623047\" xlink:href=\"#DejaVuSans-2e\"/>\r\n       <use x=\"95.410156\" xlink:href=\"#DejaVuSans-31\"/>\r\n       <use x=\"159.033203\" xlink:href=\"#DejaVuSans-30\"/>\r\n      </g>\r\n     </g>\r\n    </g>\r\n    <g id=\"ytick_4\">\r\n     <g id=\"line2d_11\">\r\n      <g>\r\n       <use style=\"stroke:#000000;stroke-width:0.8;\" x=\"50.14375\" xlink:href=\"#mb1fbf1f71c\" y=\"108.217702\"/>\r\n      </g>\r\n     </g>\r\n     <g id=\"text_12\">\r\n      <!-- 0.15 -->\r\n      <g transform=\"translate(20.878125 112.01692)scale(0.1 -0.1)\">\r\n       <use xlink:href=\"#DejaVuSans-30\"/>\r\n       <use x=\"63.623047\" xlink:href=\"#DejaVuSans-2e\"/>\r\n       <use x=\"95.410156\" xlink:href=\"#DejaVuSans-31\"/>\r\n       <use x=\"159.033203\" xlink:href=\"#DejaVuSans-35\"/>\r\n      </g>\r\n     </g>\r\n    </g>\r\n    <g id=\"ytick_5\">\r\n     <g id=\"line2d_12\">\r\n      <g>\r\n       <use style=\"stroke:#000000;stroke-width:0.8;\" x=\"50.14375\" xlink:href=\"#mb1fbf1f71c\" y=\"72.704716\"/>\r\n      </g>\r\n     </g>\r\n     <g id=\"text_13\">\r\n      <!-- 0.20 -->\r\n      <g transform=\"translate(20.878125 76.503935)scale(0.1 -0.1)\">\r\n       <use xlink:href=\"#DejaVuSans-30\"/>\r\n       <use x=\"63.623047\" xlink:href=\"#DejaVuSans-2e\"/>\r\n       <use x=\"95.410156\" xlink:href=\"#DejaVuSans-32\"/>\r\n       <use x=\"159.033203\" xlink:href=\"#DejaVuSans-30\"/>\r\n      </g>\r\n     </g>\r\n    </g>\r\n    <g id=\"ytick_6\">\r\n     <g id=\"line2d_13\">\r\n      <g>\r\n       <use style=\"stroke:#000000;stroke-width:0.8;\" x=\"50.14375\" xlink:href=\"#mb1fbf1f71c\" y=\"37.19173\"/>\r\n      </g>\r\n     </g>\r\n     <g id=\"text_14\">\r\n      <!-- 0.25 -->\r\n      <g transform=\"translate(20.878125 40.990949)scale(0.1 -0.1)\">\r\n       <use xlink:href=\"#DejaVuSans-30\"/>\r\n       <use x=\"63.623047\" xlink:href=\"#DejaVuSans-2e\"/>\r\n       <use x=\"95.410156\" xlink:href=\"#DejaVuSans-32\"/>\r\n       <use x=\"159.033203\" xlink:href=\"#DejaVuSans-35\"/>\r\n      </g>\r\n     </g>\r\n    </g>\r\n    <g id=\"text_15\">\r\n     <!-- value -->\r\n     <g transform=\"translate(14.798438 129.577813)rotate(-90)scale(0.1 -0.1)\">\r\n      <defs>\r\n       <path d=\"M 191 3500 \r\nL 800 3500 \r\nL 1894 563 \r\nL 2988 3500 \r\nL 3597 3500 \r\nL 2284 0 \r\nL 1503 0 \r\nL 191 3500 \r\nz\r\n\" id=\"DejaVuSans-76\" transform=\"scale(0.015625)\"/>\r\n       <path d=\"M 2194 1759 \r\nQ 1497 1759 1228 1600 \r\nQ 959 1441 959 1056 \r\nQ 959 750 1161 570 \r\nQ 1363 391 1709 391 \r\nQ 2188 391 2477 730 \r\nQ 2766 1069 2766 1631 \r\nL 2766 1759 \r\nL 2194 1759 \r\nz\r\nM 3341 1997 \r\nL 3341 0 \r\nL 2766 0 \r\nL 2766 531 \r\nQ 2569 213 2275 61 \r\nQ 1981 -91 1556 -91 \r\nQ 1019 -91 701 211 \r\nQ 384 513 384 1019 \r\nQ 384 1609 779 1909 \r\nQ 1175 2209 1959 2209 \r\nL 2766 2209 \r\nL 2766 2266 \r\nQ 2766 2663 2505 2880 \r\nQ 2244 3097 1772 3097 \r\nQ 1472 3097 1187 3025 \r\nQ 903 2953 641 2809 \r\nL 641 3341 \r\nQ 956 3463 1253 3523 \r\nQ 1550 3584 1831 3584 \r\nQ 2591 3584 2966 3190 \r\nQ 3341 2797 3341 1997 \r\nz\r\n\" id=\"DejaVuSans-61\" transform=\"scale(0.015625)\"/>\r\n       <path d=\"M 603 4863 \r\nL 1178 4863 \r\nL 1178 0 \r\nL 603 0 \r\nL 603 4863 \r\nz\r\n\" id=\"DejaVuSans-6c\" transform=\"scale(0.015625)\"/>\r\n       <path d=\"M 544 1381 \r\nL 544 3500 \r\nL 1119 3500 \r\nL 1119 1403 \r\nQ 1119 906 1312 657 \r\nQ 1506 409 1894 409 \r\nQ 2359 409 2629 706 \r\nQ 2900 1003 2900 1516 \r\nL 2900 3500 \r\nL 3475 3500 \r\nL 3475 0 \r\nL 2900 0 \r\nL 2900 538 \r\nQ 2691 219 2414 64 \r\nQ 2138 -91 1772 -91 \r\nQ 1169 -91 856 284 \r\nQ 544 659 544 1381 \r\nz\r\nM 1991 3584 \r\nL 1991 3584 \r\nz\r\n\" id=\"DejaVuSans-75\" transform=\"scale(0.015625)\"/>\r\n      </defs>\r\n      <use xlink:href=\"#DejaVuSans-76\"/>\r\n      <use x=\"59.179688\" xlink:href=\"#DejaVuSans-61\"/>\r\n      <use x=\"120.458984\" xlink:href=\"#DejaVuSans-6c\"/>\r\n      <use x=\"148.242188\" xlink:href=\"#DejaVuSans-75\"/>\r\n      <use x=\"211.621094\" xlink:href=\"#DejaVuSans-65\"/>\r\n     </g>\r\n    </g>\r\n   </g>\r\n   <g id=\"line2d_14\">\r\n    <path clip-path=\"url(#pccda1d73ad)\" d=\"M 65.361932 17.083636 \r\nL 87.102192 27.282223 \r\nL 108.842451 27.467344 \r\nL 130.582711 27.581569 \r\nL 152.322971 27.643644 \r\nL 174.063231 27.693448 \r\nL 195.80349 27.726518 \r\nL 217.54375 27.782229 \r\nL 239.28401 27.802449 \r\nL 261.024269 27.855952 \r\nL 282.764529 27.859716 \r\nL 304.504789 27.884611 \r\nL 326.245049 27.90739 \r\nL 347.985308 27.913178 \r\nL 369.725568 27.932786 \r\n\" style=\"fill:none;stroke:#1f77b4;stroke-linecap:square;stroke-width:1.5;\"/>\r\n   </g>\r\n   <g id=\"line2d_15\">\r\n    <path clip-path=\"url(#pccda1d73ad)\" d=\"M 65.361932 17.345198 \r\nL 87.102192 27.289548 \r\nL 108.842451 27.46957 \r\nL 130.582711 27.583007 \r\nL 152.322971 27.644711 \r\nL 174.063231 27.693743 \r\nL 195.80349 27.727033 \r\nL 217.54375 27.782575 \r\nL 239.28401 27.803333 \r\nL 261.024269 27.857276 \r\nL 282.764529 27.861054 \r\nL 304.504789 27.885844 \r\nL 326.245049 27.908513 \r\nL 347.985308 27.913745 \r\nL 369.725568 27.933425 \r\n\" style=\"fill:none;stroke:#ff7f0e;stroke-linecap:square;stroke-width:1.5;\"/>\r\n   </g>\r\n   <g id=\"line2d_16\">\r\n    <path clip-path=\"url(#pccda1d73ad)\" d=\"M 65.361932 214.495097 \r\nL 87.102192 214.749333 \r\nL 108.842451 214.754432 \r\nL 130.582711 214.75522 \r\nL 152.322971 214.755592 \r\nL 174.063231 214.756364 \r\nL 195.80349 214.756143 \r\nL 217.54375 214.756311 \r\nL 239.28401 214.755775 \r\nL 261.024269 214.755334 \r\nL 282.764529 214.75532 \r\nL 304.504789 214.755426 \r\nL 326.245049 214.755535 \r\nL 347.985308 214.756091 \r\nL 369.725568 214.756019 \r\n\" style=\"fill:none;stroke:#2ca02c;stroke-linecap:square;stroke-width:1.5;\"/>\r\n   </g>\r\n   <g id=\"patch_3\">\r\n    <path d=\"M 50.14375 224.64 \r\nL 50.14375 7.2 \r\n\" style=\"fill:none;stroke:#000000;stroke-linecap:square;stroke-linejoin:miter;stroke-width:0.8;\"/>\r\n   </g>\r\n   <g id=\"patch_4\">\r\n    <path d=\"M 384.94375 224.64 \r\nL 384.94375 7.2 \r\n\" style=\"fill:none;stroke:#000000;stroke-linecap:square;stroke-linejoin:miter;stroke-width:0.8;\"/>\r\n   </g>\r\n   <g id=\"patch_5\">\r\n    <path d=\"M 50.14375 224.64 \r\nL 384.94375 224.64 \r\n\" style=\"fill:none;stroke:#000000;stroke-linecap:square;stroke-linejoin:miter;stroke-width:0.8;\"/>\r\n   </g>\r\n   <g id=\"patch_6\">\r\n    <path d=\"M 50.14375 7.2 \r\nL 384.94375 7.2 \r\n\" style=\"fill:none;stroke:#000000;stroke-linecap:square;stroke-linejoin:miter;stroke-width:0.8;\"/>\r\n   </g>\r\n   <g id=\"legend_1\">\r\n    <g id=\"patch_7\">\r\n     <path d=\"M 249.403125 139.57625 \r\nL 377.94375 139.57625 \r\nQ 379.94375 139.57625 379.94375 137.57625 \r\nL 379.94375 94.26375 \r\nQ 379.94375 92.26375 377.94375 92.26375 \r\nL 249.403125 92.26375 \r\nQ 247.403125 92.26375 247.403125 94.26375 \r\nL 247.403125 137.57625 \r\nQ 247.403125 139.57625 249.403125 139.57625 \r\nz\r\n\" style=\"fill:#ffffff;opacity:0.8;stroke:#cccccc;stroke-linejoin:miter;\"/>\r\n    </g>\r\n    <g id=\"line2d_17\">\r\n     <path d=\"M 251.403125 100.362188 \r\nL 271.403125 100.362188 \r\n\" style=\"fill:none;stroke:#1f77b4;stroke-linecap:square;stroke-width:1.5;\"/>\r\n    </g>\r\n    <g id=\"line2d_18\"/>\r\n    <g id=\"text_16\">\r\n     <!-- loss -->\r\n     <g transform=\"translate(279.403125 103.862188)scale(0.1 -0.1)\">\r\n      <defs>\r\n       <path d=\"M 2834 3397 \r\nL 2834 2853 \r\nQ 2591 2978 2328 3040 \r\nQ 2066 3103 1784 3103 \r\nQ 1356 3103 1142 2972 \r\nQ 928 2841 928 2578 \r\nQ 928 2378 1081 2264 \r\nQ 1234 2150 1697 2047 \r\nL 1894 2003 \r\nQ 2506 1872 2764 1633 \r\nQ 3022 1394 3022 966 \r\nQ 3022 478 2636 193 \r\nQ 2250 -91 1575 -91 \r\nQ 1294 -91 989 -36 \r\nQ 684 19 347 128 \r\nL 347 722 \r\nQ 666 556 975 473 \r\nQ 1284 391 1588 391 \r\nQ 1994 391 2212 530 \r\nQ 2431 669 2431 922 \r\nQ 2431 1156 2273 1281 \r\nQ 2116 1406 1581 1522 \r\nL 1381 1569 \r\nQ 847 1681 609 1914 \r\nQ 372 2147 372 2553 \r\nQ 372 3047 722 3315 \r\nQ 1072 3584 1716 3584 \r\nQ 2034 3584 2315 3537 \r\nQ 2597 3491 2834 3397 \r\nz\r\n\" id=\"DejaVuSans-73\" transform=\"scale(0.015625)\"/>\r\n      </defs>\r\n      <use xlink:href=\"#DejaVuSans-6c\"/>\r\n      <use x=\"27.783203\" xlink:href=\"#DejaVuSans-6f\"/>\r\n      <use x=\"88.964844\" xlink:href=\"#DejaVuSans-73\"/>\r\n      <use x=\"141.064453\" xlink:href=\"#DejaVuSans-73\"/>\r\n     </g>\r\n    </g>\r\n    <g id=\"line2d_19\">\r\n     <path d=\"M 251.403125 115.040312 \r\nL 271.403125 115.040312 \r\n\" style=\"fill:none;stroke:#ff7f0e;stroke-linecap:square;stroke-width:1.5;\"/>\r\n    </g>\r\n    <g id=\"line2d_20\"/>\r\n    <g id=\"text_17\">\r\n     <!-- reconstruction_loss -->\r\n     <g transform=\"translate(279.403125 118.540312)scale(0.1 -0.1)\">\r\n      <defs>\r\n       <path d=\"M 2631 2963 \r\nQ 2534 3019 2420 3045 \r\nQ 2306 3072 2169 3072 \r\nQ 1681 3072 1420 2755 \r\nQ 1159 2438 1159 1844 \r\nL 1159 0 \r\nL 581 0 \r\nL 581 3500 \r\nL 1159 3500 \r\nL 1159 2956 \r\nQ 1341 3275 1631 3429 \r\nQ 1922 3584 2338 3584 \r\nQ 2397 3584 2469 3576 \r\nQ 2541 3569 2628 3553 \r\nL 2631 2963 \r\nz\r\n\" id=\"DejaVuSans-72\" transform=\"scale(0.015625)\"/>\r\n       <path d=\"M 3513 2113 \r\nL 3513 0 \r\nL 2938 0 \r\nL 2938 2094 \r\nQ 2938 2591 2744 2837 \r\nQ 2550 3084 2163 3084 \r\nQ 1697 3084 1428 2787 \r\nQ 1159 2491 1159 1978 \r\nL 1159 0 \r\nL 581 0 \r\nL 581 3500 \r\nL 1159 3500 \r\nL 1159 2956 \r\nQ 1366 3272 1645 3428 \r\nQ 1925 3584 2291 3584 \r\nQ 2894 3584 3203 3211 \r\nQ 3513 2838 3513 2113 \r\nz\r\n\" id=\"DejaVuSans-6e\" transform=\"scale(0.015625)\"/>\r\n       <path d=\"M 1172 4494 \r\nL 1172 3500 \r\nL 2356 3500 \r\nL 2356 3053 \r\nL 1172 3053 \r\nL 1172 1153 \r\nQ 1172 725 1289 603 \r\nQ 1406 481 1766 481 \r\nL 2356 481 \r\nL 2356 0 \r\nL 1766 0 \r\nQ 1100 0 847 248 \r\nQ 594 497 594 1153 \r\nL 594 3053 \r\nL 172 3053 \r\nL 172 3500 \r\nL 594 3500 \r\nL 594 4494 \r\nL 1172 4494 \r\nz\r\n\" id=\"DejaVuSans-74\" transform=\"scale(0.015625)\"/>\r\n       <path d=\"M 603 3500 \r\nL 1178 3500 \r\nL 1178 0 \r\nL 603 0 \r\nL 603 3500 \r\nz\r\nM 603 4863 \r\nL 1178 4863 \r\nL 1178 4134 \r\nL 603 4134 \r\nL 603 4863 \r\nz\r\n\" id=\"DejaVuSans-69\" transform=\"scale(0.015625)\"/>\r\n       <path d=\"M 3263 -1063 \r\nL 3263 -1509 \r\nL -63 -1509 \r\nL -63 -1063 \r\nL 3263 -1063 \r\nz\r\n\" id=\"DejaVuSans-5f\" transform=\"scale(0.015625)\"/>\r\n      </defs>\r\n      <use xlink:href=\"#DejaVuSans-72\"/>\r\n      <use x=\"38.863281\" xlink:href=\"#DejaVuSans-65\"/>\r\n      <use x=\"100.386719\" xlink:href=\"#DejaVuSans-63\"/>\r\n      <use x=\"155.367188\" xlink:href=\"#DejaVuSans-6f\"/>\r\n      <use x=\"216.548828\" xlink:href=\"#DejaVuSans-6e\"/>\r\n      <use x=\"279.927734\" xlink:href=\"#DejaVuSans-73\"/>\r\n      <use x=\"332.027344\" xlink:href=\"#DejaVuSans-74\"/>\r\n      <use x=\"371.236328\" xlink:href=\"#DejaVuSans-72\"/>\r\n      <use x=\"412.349609\" xlink:href=\"#DejaVuSans-75\"/>\r\n      <use x=\"475.728516\" xlink:href=\"#DejaVuSans-63\"/>\r\n      <use x=\"530.708984\" xlink:href=\"#DejaVuSans-74\"/>\r\n      <use x=\"569.917969\" xlink:href=\"#DejaVuSans-69\"/>\r\n      <use x=\"597.701172\" xlink:href=\"#DejaVuSans-6f\"/>\r\n      <use x=\"658.882812\" xlink:href=\"#DejaVuSans-6e\"/>\r\n      <use x=\"722.261719\" xlink:href=\"#DejaVuSans-5f\"/>\r\n      <use x=\"772.261719\" xlink:href=\"#DejaVuSans-6c\"/>\r\n      <use x=\"800.044922\" xlink:href=\"#DejaVuSans-6f\"/>\r\n      <use x=\"861.226562\" xlink:href=\"#DejaVuSans-73\"/>\r\n      <use x=\"913.326172\" xlink:href=\"#DejaVuSans-73\"/>\r\n     </g>\r\n    </g>\r\n    <g id=\"line2d_21\">\r\n     <path d=\"M 251.403125 129.996563 \r\nL 271.403125 129.996563 \r\n\" style=\"fill:none;stroke:#2ca02c;stroke-linecap:square;stroke-width:1.5;\"/>\r\n    </g>\r\n    <g id=\"line2d_22\"/>\r\n    <g id=\"text_18\">\r\n     <!-- KLD -->\r\n     <g transform=\"translate(279.403125 133.496563)scale(0.1 -0.1)\">\r\n      <defs>\r\n       <path d=\"M 628 4666 \r\nL 1259 4666 \r\nL 1259 2694 \r\nL 3353 4666 \r\nL 4166 4666 \r\nL 1850 2491 \r\nL 4331 0 \r\nL 3500 0 \r\nL 1259 2247 \r\nL 1259 0 \r\nL 628 0 \r\nL 628 4666 \r\nz\r\n\" id=\"DejaVuSans-4b\" transform=\"scale(0.015625)\"/>\r\n       <path d=\"M 628 4666 \r\nL 1259 4666 \r\nL 1259 531 \r\nL 3531 531 \r\nL 3531 0 \r\nL 628 0 \r\nL 628 4666 \r\nz\r\n\" id=\"DejaVuSans-4c\" transform=\"scale(0.015625)\"/>\r\n       <path d=\"M 1259 4147 \r\nL 1259 519 \r\nL 2022 519 \r\nQ 2988 519 3436 956 \r\nQ 3884 1394 3884 2338 \r\nQ 3884 3275 3436 3711 \r\nQ 2988 4147 2022 4147 \r\nL 1259 4147 \r\nz\r\nM 628 4666 \r\nL 1925 4666 \r\nQ 3281 4666 3915 4102 \r\nQ 4550 3538 4550 2338 \r\nQ 4550 1131 3912 565 \r\nQ 3275 0 1925 0 \r\nL 628 0 \r\nL 628 4666 \r\nz\r\n\" id=\"DejaVuSans-44\" transform=\"scale(0.015625)\"/>\r\n      </defs>\r\n      <use xlink:href=\"#DejaVuSans-4b\"/>\r\n      <use x=\"65.576172\" xlink:href=\"#DejaVuSans-4c\"/>\r\n      <use x=\"121.289062\" xlink:href=\"#DejaVuSans-44\"/>\r\n     </g>\r\n    </g>\r\n   </g>\r\n  </g>\r\n </g>\r\n <defs>\r\n  <clipPath id=\"pccda1d73ad\">\r\n   <rect height=\"217.44\" width=\"334.8\" x=\"50.14375\" y=\"7.2\"/>\r\n  </clipPath>\r\n </defs>\r\n</svg>\r\n",
      "image/png": "[encoded data removed]"
     },
     "metadata": {
      "needs_background": "light"
     }
    }
   ],
   "source": [
    "plt.figure()\n",
    "plt.plot(range(1,epochs+1), loss_list, label = 'loss')\n",
    "plt.plot(range(1,epochs+1), reconstruction_loss_list, label = 'reconstruction_loss')\n",
    "plt.plot(range(1,epochs+1), KLD_list, label = 'KLD')\n",
    "plt.xlabel('epoch')\n",
    "plt.ylabel('value')\n",
    "plt.legend()\n",
    "plt.show()"
   ]
  },
  {
   "cell_type": "markdown",
   "metadata": {},
   "source": [
    "# Visuallization"
   ]
  },
  {
   "cell_type": "markdown",
   "metadata": {},
   "source": [
    "You can input a integer in the *text box*, or drag the *slider bar*, and the value will be the index for the sample which will be shown with title \"orignal image\", and the corresponding reconstructed image will also be shwon.  \n",
    "\n",
    "You might see some images are not reconstructed well."
   ]
  },
  {
   "cell_type": "code",
   "execution_count": 13,
   "metadata": {},
   "outputs": [
    {
     "output_type": "display_data",
     "data": {
      "text/plain": "BoundedIntText(value=1, max=59999)",
      "application/vnd.jupyter.widget-view+json": {
       "version_major": 2,
       "version_minor": 0,
       "model_id": "063dd8b7bd2c430bab638acb9a66e43e"
      }
     },
     "metadata": {}
    },
    {
     "output_type": "display_data",
     "data": {
      "text/plain": "interactive(children=(IntSlider(value=1, description='i', max=59999), Output()), _dom_classes=('widget-interac…",
      "application/vnd.jupyter.widget-view+json": {
       "version_major": 2,
       "version_minor": 0,
       "model_id": "9b0e52a5dfc041bebe439d78476858e3"
      }
     },
     "metadata": {}
    },
    {
     "output_type": "execute_result",
     "data": {
      "text/plain": [
       "<function __main__.plot_x(i)>"
      ]
     },
     "metadata": {},
     "execution_count": 13
    }
   ],
   "source": [
    "selected_dataset = train_dataset # select the dataset to visualize, values: train_dataset, test_dataset\n",
    "\n",
    "from ipywidgets import interact, interactive, fixed, interact_manual\n",
    "import ipywidgets as widgets\n",
    "\n",
    "import matplotlib.pyplot as plt\n",
    "%matplotlib inline\n",
    "\n",
    "import numpy as np\n",
    "\n",
    "def plot_x(i):\n",
    "    model.eval()\n",
    "    with torch.no_grad():\n",
    "        x=selected_dataset[i][0]\n",
    "        x = x.view(-1, x_dim)\n",
    "        x = x.to(DEVICE)\n",
    "        \n",
    "        x_hat, _, _ = model(x)\n",
    "\n",
    "        fig = plt.figure(figsize=(8,8))\n",
    "        plt.subplot(1,2,1)\n",
    "        plt.title('Original image')\n",
    "        plt.imshow(x.view(28,28).cpu().numpy())\n",
    "        plt.subplot(1,2,2)\n",
    "        plt.title('reconstructed image')\n",
    "        plt.imshow(x_hat[0].view(28,28).cpu().numpy())\n",
    "        # plt.imshow(x_hat[0].view(28,28).cpu().numpy(), cmap=\"gray\")\n",
    "        plt.show()\n",
    "\n",
    "widget_a = widgets.BoundedIntText(value=1, min=0, max=len(selected_dataset)-1, step=1)\n",
    "widget_b = widgets.IntSlider(value=1, min=0, max=len(selected_dataset)-1, step=1)\n",
    "mylink = widgets.jslink((widget_a, 'value'), (widget_b, 'value'))\n",
    "\n",
    "display(widget_a)\n",
    "interact(plot_x, i = widget_b)"
   ]
  },
  {
   "cell_type": "markdown",
   "metadata": {},
   "source": [
    "Generate samples by randomly sampling $z$ values from $p_{\\R{Z}}$"
   ]
  },
  {
   "cell_type": "code",
   "execution_count": 14,
   "metadata": {},
   "outputs": [],
   "source": [
    "model.eval()\n",
    "\n",
    "with torch.no_grad():\n",
    "    noise = torch.randn(batch_size, latent_dim).to(DEVICE)\n",
    "    generated_images = decoder(noise)\n",
    "\n",
    "save_image(generated_images.view(-1, 1, 28, 28), 'generated_samples.png')"
   ]
  },
  {
   "cell_type": "code",
   "execution_count": 15,
   "metadata": {},
   "outputs": [
    {
     "output_type": "execute_result",
     "data": {
      "image/png": "[encoded data removed]",
      "text/plain": [
       "<IPython.core.display.Image object>"
      ]
     },
     "metadata": {},
     "execution_count": 15
    }
   ],
   "source": [
    "from IPython.display import Image\n",
    "from IPython.core.display import HTML \n",
    "Image(filename =r\"./generated_samples.png\")"
   ]
  },
  {
   "cell_type": "markdown",
   "metadata": {},
   "source": [
    "You can view the single generated image by changing the value of the argument *idx*.  "
   ]
  },
  {
   "cell_type": "code",
   "execution_count": 16,
   "metadata": {},
   "outputs": [
    {
     "output_type": "display_data",
     "data": {
      "text/plain": "<Figure size 432x288 with 1 Axes>",
      "image/svg+xml": "<?xml version=\"1.0\" encoding=\"utf-8\" standalone=\"no\"?>\r\n<!DOCTYPE svg PUBLIC \"-//W3C//DTD SVG 1.1//EN\"\r\n  \"http://www.w3.org/Graphics/SVG/1.1/DTD/svg11.dtd\">\r\n<svg height=\"277.318125pt\" version=\"1.1\" viewBox=\"0 0 251.565 277.318125\" width=\"251.565pt\" xmlns=\"http://www.w3.org/2000/svg\" xmlns:xlink=\"http://www.w3.org/1999/xlink\">\r\n <metadata>\r\n  <rdf:RDF xmlns:cc=\"http://creativecommons.org/ns#\" xmlns:dc=\"http://purl.org/dc/elements/1.1/\" xmlns:rdf=\"http://www.w3.org/1999/02/22-rdf-syntax-ns#\">\r\n   <cc:Work>\r\n    <dc:type rdf:resource=\"http://purl.org/dc/dcmitype/StillImage\"/>\r\n    <dc:date>2021-08-21T21:56:19.506307</dc:date>\r\n    <dc:format>image/svg+xml</dc:format>\r\n    <dc:creator>\r\n     <cc:Agent>\r\n      <dc:title>Matplotlib v3.4.3, https://matplotlib.org/</dc:title>\r\n     </cc:Agent>\r\n    </dc:creator>\r\n   </cc:Work>\r\n  </rdf:RDF>\r\n </metadata>\r\n <defs>\r\n  <style type=\"text/css\">*{stroke-linecap:butt;stroke-linejoin:round;}</style>\r\n </defs>\r\n <g id=\"figure_1\">\r\n  <g id=\"patch_1\">\r\n   <path d=\"M 0 277.318125 \r\nL 251.565 277.318125 \r\nL 251.565 0 \r\nL 0 0 \r\nz\r\n\" style=\"fill:none;\"/>\r\n  </g>\r\n  <g id=\"axes_1\">\r\n   <g id=\"patch_2\">\r\n    <path d=\"M 26.925 253.44 \r\nL 244.365 253.44 \r\nL 244.365 36 \r\nL 26.925 36 \r\nz\r\n\" style=\"fill:#ffffff;\"/>\r\n   </g>\r\n   <g clip-path=\"url(#p759e072e58)\">\r\n    <image height=\"218\" id=\"imagef0f65681f8\" transform=\"scale(1 -1)translate(0 -218)\" width=\"218\" x=\"26.925\" xlink:href=\"data:image/png;base64,\r\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\" y=\"-35.44\"/>\r\n   </g>\r\n   <g id=\"matplotlib.axis_1\">\r\n    <g id=\"xtick_1\">\r\n     <g id=\"line2d_1\">\r\n      <defs>\r\n       <path d=\"M 0 0 \r\nL 0 3.5 \r\n\" id=\"m52b1e3221d\" style=\"stroke:#000000;stroke-width:0.8;\"/>\r\n      </defs>\r\n      <g>\r\n       <use style=\"stroke:#000000;stroke-width:0.8;\" x=\"30.807857\" xlink:href=\"#m52b1e3221d\" y=\"253.44\"/>\r\n      </g>\r\n     </g>\r\n     <g id=\"text_1\">\r\n      <!-- 0 -->\r\n      <g transform=\"translate(27.626607 268.038437)scale(0.1 -0.1)\">\r\n       <defs>\r\n        <path d=\"M 2034 4250 \r\nQ 1547 4250 1301 3770 \r\nQ 1056 3291 1056 2328 \r\nQ 1056 1369 1301 889 \r\nQ 1547 409 2034 409 \r\nQ 2525 409 2770 889 \r\nQ 3016 1369 3016 2328 \r\nQ 3016 3291 2770 3770 \r\nQ 2525 4250 2034 4250 \r\nz\r\nM 2034 4750 \r\nQ 2819 4750 3233 4129 \r\nQ 3647 3509 3647 2328 \r\nQ 3647 1150 3233 529 \r\nQ 2819 -91 2034 -91 \r\nQ 1250 -91 836 529 \r\nQ 422 1150 422 2328 \r\nQ 422 3509 836 4129 \r\nQ 1250 4750 2034 4750 \r\nz\r\n\" id=\"DejaVuSans-30\" transform=\"scale(0.015625)\"/>\r\n       </defs>\r\n       <use xlink:href=\"#DejaVuSans-30\"/>\r\n      </g>\r\n     </g>\r\n    </g>\r\n    <g id=\"xtick_2\">\r\n     <g id=\"line2d_2\">\r\n      <g>\r\n       <use style=\"stroke:#000000;stroke-width:0.8;\" x=\"69.636429\" xlink:href=\"#m52b1e3221d\" y=\"253.44\"/>\r\n      </g>\r\n     </g>\r\n     <g id=\"text_2\">\r\n      <!-- 5 -->\r\n      <g transform=\"translate(66.455179 268.038437)scale(0.1 -0.1)\">\r\n       <defs>\r\n        <path d=\"M 691 4666 \r\nL 3169 4666 \r\nL 3169 4134 \r\nL 1269 4134 \r\nL 1269 2991 \r\nQ 1406 3038 1543 3061 \r\nQ 1681 3084 1819 3084 \r\nQ 2600 3084 3056 2656 \r\nQ 3513 2228 3513 1497 \r\nQ 3513 744 3044 326 \r\nQ 2575 -91 1722 -91 \r\nQ 1428 -91 1123 -41 \r\nQ 819 9 494 109 \r\nL 494 744 \r\nQ 775 591 1075 516 \r\nQ 1375 441 1709 441 \r\nQ 2250 441 2565 725 \r\nQ 2881 1009 2881 1497 \r\nQ 2881 1984 2565 2268 \r\nQ 2250 2553 1709 2553 \r\nQ 1456 2553 1204 2497 \r\nQ 953 2441 691 2322 \r\nL 691 4666 \r\nz\r\n\" id=\"DejaVuSans-35\" transform=\"scale(0.015625)\"/>\r\n       </defs>\r\n       <use xlink:href=\"#DejaVuSans-35\"/>\r\n      </g>\r\n     </g>\r\n    </g>\r\n    <g id=\"xtick_3\">\r\n     <g id=\"line2d_3\">\r\n      <g>\r\n       <use style=\"stroke:#000000;stroke-width:0.8;\" x=\"108.465\" xlink:href=\"#m52b1e3221d\" y=\"253.44\"/>\r\n      </g>\r\n     </g>\r\n     <g id=\"text_3\">\r\n      <!-- 10 -->\r\n      <g transform=\"translate(102.1025 268.038437)scale(0.1 -0.1)\">\r\n       <defs>\r\n        <path d=\"M 794 531 \r\nL 1825 531 \r\nL 1825 4091 \r\nL 703 3866 \r\nL 703 4441 \r\nL 1819 4666 \r\nL 2450 4666 \r\nL 2450 531 \r\nL 3481 531 \r\nL 3481 0 \r\nL 794 0 \r\nL 794 531 \r\nz\r\n\" id=\"DejaVuSans-31\" transform=\"scale(0.015625)\"/>\r\n       </defs>\r\n       <use xlink:href=\"#DejaVuSans-31\"/>\r\n       <use x=\"63.623047\" xlink:href=\"#DejaVuSans-30\"/>\r\n      </g>\r\n     </g>\r\n    </g>\r\n    <g id=\"xtick_4\">\r\n     <g id=\"line2d_4\">\r\n      <g>\r\n       <use style=\"stroke:#000000;stroke-width:0.8;\" x=\"147.293571\" xlink:href=\"#m52b1e3221d\" y=\"253.44\"/>\r\n      </g>\r\n     </g>\r\n     <g id=\"text_4\">\r\n      <!-- 15 -->\r\n      <g transform=\"translate(140.931071 268.038437)scale(0.1 -0.1)\">\r\n       <use xlink:href=\"#DejaVuSans-31\"/>\r\n       <use x=\"63.623047\" xlink:href=\"#DejaVuSans-35\"/>\r\n      </g>\r\n     </g>\r\n    </g>\r\n    <g id=\"xtick_5\">\r\n     <g id=\"line2d_5\">\r\n      <g>\r\n       <use style=\"stroke:#000000;stroke-width:0.8;\" x=\"186.122143\" xlink:href=\"#m52b1e3221d\" y=\"253.44\"/>\r\n      </g>\r\n     </g>\r\n     <g id=\"text_5\">\r\n      <!-- 20 -->\r\n      <g transform=\"translate(179.759643 268.038437)scale(0.1 -0.1)\">\r\n       <defs>\r\n        <path d=\"M 1228 531 \r\nL 3431 531 \r\nL 3431 0 \r\nL 469 0 \r\nL 469 531 \r\nQ 828 903 1448 1529 \r\nQ 2069 2156 2228 2338 \r\nQ 2531 2678 2651 2914 \r\nQ 2772 3150 2772 3378 \r\nQ 2772 3750 2511 3984 \r\nQ 2250 4219 1831 4219 \r\nQ 1534 4219 1204 4116 \r\nQ 875 4013 500 3803 \r\nL 500 4441 \r\nQ 881 4594 1212 4672 \r\nQ 1544 4750 1819 4750 \r\nQ 2544 4750 2975 4387 \r\nQ 3406 4025 3406 3419 \r\nQ 3406 3131 3298 2873 \r\nQ 3191 2616 2906 2266 \r\nQ 2828 2175 2409 1742 \r\nQ 1991 1309 1228 531 \r\nz\r\n\" id=\"DejaVuSans-32\" transform=\"scale(0.015625)\"/>\r\n       </defs>\r\n       <use xlink:href=\"#DejaVuSans-32\"/>\r\n       <use x=\"63.623047\" xlink:href=\"#DejaVuSans-30\"/>\r\n      </g>\r\n     </g>\r\n    </g>\r\n    <g id=\"xtick_6\">\r\n     <g id=\"line2d_6\">\r\n      <g>\r\n       <use style=\"stroke:#000000;stroke-width:0.8;\" x=\"224.950714\" xlink:href=\"#m52b1e3221d\" y=\"253.44\"/>\r\n      </g>\r\n     </g>\r\n     <g id=\"text_6\">\r\n      <!-- 25 -->\r\n      <g transform=\"translate(218.588214 268.038437)scale(0.1 -0.1)\">\r\n       <use xlink:href=\"#DejaVuSans-32\"/>\r\n       <use x=\"63.623047\" xlink:href=\"#DejaVuSans-35\"/>\r\n      </g>\r\n     </g>\r\n    </g>\r\n   </g>\r\n   <g id=\"matplotlib.axis_2\">\r\n    <g id=\"ytick_1\">\r\n     <g id=\"line2d_7\">\r\n      <defs>\r\n       <path d=\"M 0 0 \r\nL -3.5 0 \r\n\" id=\"m815cc172ca\" style=\"stroke:#000000;stroke-width:0.8;\"/>\r\n      </defs>\r\n      <g>\r\n       <use style=\"stroke:#000000;stroke-width:0.8;\" x=\"26.925\" xlink:href=\"#m815cc172ca\" y=\"39.882857\"/>\r\n      </g>\r\n     </g>\r\n     <g id=\"text_7\">\r\n      <!-- 0 -->\r\n      <g transform=\"translate(13.5625 43.682076)scale(0.1 -0.1)\">\r\n       <use xlink:href=\"#DejaVuSans-30\"/>\r\n      </g>\r\n     </g>\r\n    </g>\r\n    <g id=\"ytick_2\">\r\n     <g id=\"line2d_8\">\r\n      <g>\r\n       <use style=\"stroke:#000000;stroke-width:0.8;\" x=\"26.925\" xlink:href=\"#m815cc172ca\" y=\"78.711429\"/>\r\n      </g>\r\n     </g>\r\n     <g id=\"text_8\">\r\n      <!-- 5 -->\r\n      <g transform=\"translate(13.5625 82.510647)scale(0.1 -0.1)\">\r\n       <use xlink:href=\"#DejaVuSans-35\"/>\r\n      </g>\r\n     </g>\r\n    </g>\r\n    <g id=\"ytick_3\">\r\n     <g id=\"line2d_9\">\r\n      <g>\r\n       <use style=\"stroke:#000000;stroke-width:0.8;\" x=\"26.925\" xlink:href=\"#m815cc172ca\" y=\"117.54\"/>\r\n      </g>\r\n     </g>\r\n     <g id=\"text_9\">\r\n      <!-- 10 -->\r\n      <g transform=\"translate(7.2 121.339219)scale(0.1 -0.1)\">\r\n       <use xlink:href=\"#DejaVuSans-31\"/>\r\n       <use x=\"63.623047\" xlink:href=\"#DejaVuSans-30\"/>\r\n      </g>\r\n     </g>\r\n    </g>\r\n    <g id=\"ytick_4\">\r\n     <g id=\"line2d_10\">\r\n      <g>\r\n       <use style=\"stroke:#000000;stroke-width:0.8;\" x=\"26.925\" xlink:href=\"#m815cc172ca\" y=\"156.368571\"/>\r\n      </g>\r\n     </g>\r\n     <g id=\"text_10\">\r\n      <!-- 15 -->\r\n      <g transform=\"translate(7.2 160.16779)scale(0.1 -0.1)\">\r\n       <use xlink:href=\"#DejaVuSans-31\"/>\r\n       <use x=\"63.623047\" xlink:href=\"#DejaVuSans-35\"/>\r\n      </g>\r\n     </g>\r\n    </g>\r\n    <g id=\"ytick_5\">\r\n     <g id=\"line2d_11\">\r\n      <g>\r\n       <use style=\"stroke:#000000;stroke-width:0.8;\" x=\"26.925\" xlink:href=\"#m815cc172ca\" y=\"195.197143\"/>\r\n      </g>\r\n     </g>\r\n     <g id=\"text_11\">\r\n      <!-- 20 -->\r\n      <g transform=\"translate(7.2 198.996362)scale(0.1 -0.1)\">\r\n       <use xlink:href=\"#DejaVuSans-32\"/>\r\n       <use x=\"63.623047\" xlink:href=\"#DejaVuSans-30\"/>\r\n      </g>\r\n     </g>\r\n    </g>\r\n    <g id=\"ytick_6\">\r\n     <g id=\"line2d_12\">\r\n      <g>\r\n       <use style=\"stroke:#000000;stroke-width:0.8;\" x=\"26.925\" xlink:href=\"#m815cc172ca\" y=\"234.025714\"/>\r\n      </g>\r\n     </g>\r\n     <g id=\"text_12\">\r\n      <!-- 25 -->\r\n      <g transform=\"translate(7.2 237.824933)scale(0.1 -0.1)\">\r\n       <use xlink:href=\"#DejaVuSans-32\"/>\r\n       <use x=\"63.623047\" xlink:href=\"#DejaVuSans-35\"/>\r\n      </g>\r\n     </g>\r\n    </g>\r\n   </g>\r\n   <g id=\"patch_3\">\r\n    <path d=\"M 26.925 253.44 \r\nL 26.925 36 \r\n\" style=\"fill:none;stroke:#000000;stroke-linecap:square;stroke-linejoin:miter;stroke-width:0.8;\"/>\r\n   </g>\r\n   <g id=\"patch_4\">\r\n    <path d=\"M 244.365 253.44 \r\nL 244.365 36 \r\n\" style=\"fill:none;stroke:#000000;stroke-linecap:square;stroke-linejoin:miter;stroke-width:0.8;\"/>\r\n   </g>\r\n   <g id=\"patch_5\">\r\n    <path d=\"M 26.925 253.44 \r\nL 244.365 253.44 \r\n\" style=\"fill:none;stroke:#000000;stroke-linecap:square;stroke-linejoin:miter;stroke-width:0.8;\"/>\r\n   </g>\r\n   <g id=\"patch_6\">\r\n    <path d=\"M 26.925 36 \r\nL 244.365 36 \r\n\" style=\"fill:none;stroke:#000000;stroke-linecap:square;stroke-linejoin:miter;stroke-width:0.8;\"/>\r\n   </g>\r\n  </g>\r\n  <g id=\"text_13\">\r\n   <!-- generated image, idx=0 -->\r\n   <g transform=\"translate(56.970938 16.318125)scale(0.12 -0.12)\">\r\n    <defs>\r\n     <path d=\"M 2906 1791 \r\nQ 2906 2416 2648 2759 \r\nQ 2391 3103 1925 3103 \r\nQ 1463 3103 1205 2759 \r\nQ 947 2416 947 1791 \r\nQ 947 1169 1205 825 \r\nQ 1463 481 1925 481 \r\nQ 2391 481 2648 825 \r\nQ 2906 1169 2906 1791 \r\nz\r\nM 3481 434 \r\nQ 3481 -459 3084 -895 \r\nQ 2688 -1331 1869 -1331 \r\nQ 1566 -1331 1297 -1286 \r\nQ 1028 -1241 775 -1147 \r\nL 775 -588 \r\nQ 1028 -725 1275 -790 \r\nQ 1522 -856 1778 -856 \r\nQ 2344 -856 2625 -561 \r\nQ 2906 -266 2906 331 \r\nL 2906 616 \r\nQ 2728 306 2450 153 \r\nQ 2172 0 1784 0 \r\nQ 1141 0 747 490 \r\nQ 353 981 353 1791 \r\nQ 353 2603 747 3093 \r\nQ 1141 3584 1784 3584 \r\nQ 2172 3584 2450 3431 \r\nQ 2728 3278 2906 2969 \r\nL 2906 3500 \r\nL 3481 3500 \r\nL 3481 434 \r\nz\r\n\" id=\"DejaVuSans-67\" transform=\"scale(0.015625)\"/>\r\n     <path d=\"M 3597 1894 \r\nL 3597 1613 \r\nL 953 1613 \r\nQ 991 1019 1311 708 \r\nQ 1631 397 2203 397 \r\nQ 2534 397 2845 478 \r\nQ 3156 559 3463 722 \r\nL 3463 178 \r\nQ 3153 47 2828 -22 \r\nQ 2503 -91 2169 -91 \r\nQ 1331 -91 842 396 \r\nQ 353 884 353 1716 \r\nQ 353 2575 817 3079 \r\nQ 1281 3584 2069 3584 \r\nQ 2775 3584 3186 3129 \r\nQ 3597 2675 3597 1894 \r\nz\r\nM 3022 2063 \r\nQ 3016 2534 2758 2815 \r\nQ 2500 3097 2075 3097 \r\nQ 1594 3097 1305 2825 \r\nQ 1016 2553 972 2059 \r\nL 3022 2063 \r\nz\r\n\" id=\"DejaVuSans-65\" transform=\"scale(0.015625)\"/>\r\n     <path d=\"M 3513 2113 \r\nL 3513 0 \r\nL 2938 0 \r\nL 2938 2094 \r\nQ 2938 2591 2744 2837 \r\nQ 2550 3084 2163 3084 \r\nQ 1697 3084 1428 2787 \r\nQ 1159 2491 1159 1978 \r\nL 1159 0 \r\nL 581 0 \r\nL 581 3500 \r\nL 1159 3500 \r\nL 1159 2956 \r\nQ 1366 3272 1645 3428 \r\nQ 1925 3584 2291 3584 \r\nQ 2894 3584 3203 3211 \r\nQ 3513 2838 3513 2113 \r\nz\r\n\" id=\"DejaVuSans-6e\" transform=\"scale(0.015625)\"/>\r\n     <path d=\"M 2631 2963 \r\nQ 2534 3019 2420 3045 \r\nQ 2306 3072 2169 3072 \r\nQ 1681 3072 1420 2755 \r\nQ 1159 2438 1159 1844 \r\nL 1159 0 \r\nL 581 0 \r\nL 581 3500 \r\nL 1159 3500 \r\nL 1159 2956 \r\nQ 1341 3275 1631 3429 \r\nQ 1922 3584 2338 3584 \r\nQ 2397 3584 2469 3576 \r\nQ 2541 3569 2628 3553 \r\nL 2631 2963 \r\nz\r\n\" id=\"DejaVuSans-72\" transform=\"scale(0.015625)\"/>\r\n     <path d=\"M 2194 1759 \r\nQ 1497 1759 1228 1600 \r\nQ 959 1441 959 1056 \r\nQ 959 750 1161 570 \r\nQ 1363 391 1709 391 \r\nQ 2188 391 2477 730 \r\nQ 2766 1069 2766 1631 \r\nL 2766 1759 \r\nL 2194 1759 \r\nz\r\nM 3341 1997 \r\nL 3341 0 \r\nL 2766 0 \r\nL 2766 531 \r\nQ 2569 213 2275 61 \r\nQ 1981 -91 1556 -91 \r\nQ 1019 -91 701 211 \r\nQ 384 513 384 1019 \r\nQ 384 1609 779 1909 \r\nQ 1175 2209 1959 2209 \r\nL 2766 2209 \r\nL 2766 2266 \r\nQ 2766 2663 2505 2880 \r\nQ 2244 3097 1772 3097 \r\nQ 1472 3097 1187 3025 \r\nQ 903 2953 641 2809 \r\nL 641 3341 \r\nQ 956 3463 1253 3523 \r\nQ 1550 3584 1831 3584 \r\nQ 2591 3584 2966 3190 \r\nQ 3341 2797 3341 1997 \r\nz\r\n\" id=\"DejaVuSans-61\" transform=\"scale(0.015625)\"/>\r\n     <path d=\"M 1172 4494 \r\nL 1172 3500 \r\nL 2356 3500 \r\nL 2356 3053 \r\nL 1172 3053 \r\nL 1172 1153 \r\nQ 1172 725 1289 603 \r\nQ 1406 481 1766 481 \r\nL 2356 481 \r\nL 2356 0 \r\nL 1766 0 \r\nQ 1100 0 847 248 \r\nQ 594 497 594 1153 \r\nL 594 3053 \r\nL 172 3053 \r\nL 172 3500 \r\nL 594 3500 \r\nL 594 4494 \r\nL 1172 4494 \r\nz\r\n\" id=\"DejaVuSans-74\" transform=\"scale(0.015625)\"/>\r\n     <path d=\"M 2906 2969 \r\nL 2906 4863 \r\nL 3481 4863 \r\nL 3481 0 \r\nL 2906 0 \r\nL 2906 525 \r\nQ 2725 213 2448 61 \r\nQ 2172 -91 1784 -91 \r\nQ 1150 -91 751 415 \r\nQ 353 922 353 1747 \r\nQ 353 2572 751 3078 \r\nQ 1150 3584 1784 3584 \r\nQ 2172 3584 2448 3432 \r\nQ 2725 3281 2906 2969 \r\nz\r\nM 947 1747 \r\nQ 947 1113 1208 752 \r\nQ 1469 391 1925 391 \r\nQ 2381 391 2643 752 \r\nQ 2906 1113 2906 1747 \r\nQ 2906 2381 2643 2742 \r\nQ 2381 3103 1925 3103 \r\nQ 1469 3103 1208 2742 \r\nQ 947 2381 947 1747 \r\nz\r\n\" id=\"DejaVuSans-64\" transform=\"scale(0.015625)\"/>\r\n     <path id=\"DejaVuSans-20\" transform=\"scale(0.015625)\"/>\r\n     <path d=\"M 603 3500 \r\nL 1178 3500 \r\nL 1178 0 \r\nL 603 0 \r\nL 603 3500 \r\nz\r\nM 603 4863 \r\nL 1178 4863 \r\nL 1178 4134 \r\nL 603 4134 \r\nL 603 4863 \r\nz\r\n\" id=\"DejaVuSans-69\" transform=\"scale(0.015625)\"/>\r\n     <path d=\"M 3328 2828 \r\nQ 3544 3216 3844 3400 \r\nQ 4144 3584 4550 3584 \r\nQ 5097 3584 5394 3201 \r\nQ 5691 2819 5691 2113 \r\nL 5691 0 \r\nL 5113 0 \r\nL 5113 2094 \r\nQ 5113 2597 4934 2840 \r\nQ 4756 3084 4391 3084 \r\nQ 3944 3084 3684 2787 \r\nQ 3425 2491 3425 1978 \r\nL 3425 0 \r\nL 2847 0 \r\nL 2847 2094 \r\nQ 2847 2600 2669 2842 \r\nQ 2491 3084 2119 3084 \r\nQ 1678 3084 1418 2786 \r\nQ 1159 2488 1159 1978 \r\nL 1159 0 \r\nL 581 0 \r\nL 581 3500 \r\nL 1159 3500 \r\nL 1159 2956 \r\nQ 1356 3278 1631 3431 \r\nQ 1906 3584 2284 3584 \r\nQ 2666 3584 2933 3390 \r\nQ 3200 3197 3328 2828 \r\nz\r\n\" id=\"DejaVuSans-6d\" transform=\"scale(0.015625)\"/>\r\n     <path d=\"M 750 794 \r\nL 1409 794 \r\nL 1409 256 \r\nL 897 -744 \r\nL 494 -744 \r\nL 750 256 \r\nL 750 794 \r\nz\r\n\" id=\"DejaVuSans-2c\" transform=\"scale(0.015625)\"/>\r\n     <path d=\"M 3513 3500 \r\nL 2247 1797 \r\nL 3578 0 \r\nL 2900 0 \r\nL 1881 1375 \r\nL 863 0 \r\nL 184 0 \r\nL 1544 1831 \r\nL 300 3500 \r\nL 978 3500 \r\nL 1906 2253 \r\nL 2834 3500 \r\nL 3513 3500 \r\nz\r\n\" id=\"DejaVuSans-78\" transform=\"scale(0.015625)\"/>\r\n     <path d=\"M 678 2906 \r\nL 4684 2906 \r\nL 4684 2381 \r\nL 678 2381 \r\nL 678 2906 \r\nz\r\nM 678 1631 \r\nL 4684 1631 \r\nL 4684 1100 \r\nL 678 1100 \r\nL 678 1631 \r\nz\r\n\" id=\"DejaVuSans-3d\" transform=\"scale(0.015625)\"/>\r\n    </defs>\r\n    <use xlink:href=\"#DejaVuSans-67\"/>\r\n    <use x=\"63.476562\" xlink:href=\"#DejaVuSans-65\"/>\r\n    <use x=\"125\" xlink:href=\"#DejaVuSans-6e\"/>\r\n    <use x=\"188.378906\" xlink:href=\"#DejaVuSans-65\"/>\r\n    <use x=\"249.902344\" xlink:href=\"#DejaVuSans-72\"/>\r\n    <use x=\"291.015625\" xlink:href=\"#DejaVuSans-61\"/>\r\n    <use x=\"352.294922\" xlink:href=\"#DejaVuSans-74\"/>\r\n    <use x=\"391.503906\" xlink:href=\"#DejaVuSans-65\"/>\r\n    <use x=\"453.027344\" xlink:href=\"#DejaVuSans-64\"/>\r\n    <use x=\"516.503906\" xlink:href=\"#DejaVuSans-20\"/>\r\n    <use x=\"548.291016\" xlink:href=\"#DejaVuSans-69\"/>\r\n    <use x=\"576.074219\" xlink:href=\"#DejaVuSans-6d\"/>\r\n    <use x=\"673.486328\" xlink:href=\"#DejaVuSans-61\"/>\r\n    <use x=\"734.765625\" xlink:href=\"#DejaVuSans-67\"/>\r\n    <use x=\"798.242188\" xlink:href=\"#DejaVuSans-65\"/>\r\n    <use x=\"859.765625\" xlink:href=\"#DejaVuSans-2c\"/>\r\n    <use x=\"891.552734\" xlink:href=\"#DejaVuSans-20\"/>\r\n    <use x=\"923.339844\" xlink:href=\"#DejaVuSans-69\"/>\r\n    <use x=\"951.123047\" xlink:href=\"#DejaVuSans-64\"/>\r\n    <use x=\"1014.599609\" xlink:href=\"#DejaVuSans-78\"/>\r\n    <use x=\"1073.779297\" xlink:href=\"#DejaVuSans-3d\"/>\r\n    <use x=\"1157.568359\" xlink:href=\"#DejaVuSans-30\"/>\r\n   </g>\r\n  </g>\r\n </g>\r\n <defs>\r\n  <clipPath id=\"p759e072e58\">\r\n   <rect height=\"217.44\" width=\"217.44\" x=\"26.925\" y=\"36\"/>\r\n  </clipPath>\r\n </defs>\r\n</svg>\r\n",
      "image/png": "[encoded data removed]"
     },
     "metadata": {
      "needs_background": "light"
     }
    }
   ],
   "source": [
    "def show_image(x, idx, title=None):\n",
    "    x = x.view(batch_size, 28, 28)\n",
    "\n",
    "    fig = plt.figure()\n",
    "    if title is not None:\n",
    "        plt.suptitle(title + ', idx=' + str(idx))\n",
    "    plt.imshow(x[idx].cpu().numpy())\n",
    "\n",
    "show_image(generated_images, idx=0, title='generated image')"
   ]
  },
  {
   "cell_type": "markdown",
   "metadata": {},
   "source": [
    "---\n",
    "**Exercise** \n",
    "\n",
    "What is the relationship between the divergence term in $L_{\\text{VAE}}$ and $I(\\hat{\\R{Z}} \\wedge \\R{X})$?  \n",
    "\n",
    "What will happen if the model is sufficiently flexible and the $L_{\\text{VAE}}$ achieves optimal value?\n"
   ]
  },
  {
   "cell_type": "markdown",
   "metadata": {},
   "source": [
    "Try use stronger *Encoder* and *Decoder*."
   ]
  },
  {
   "cell_type": "code",
   "execution_count": null,
   "metadata": {},
   "outputs": [],
   "source": []
  },
  {
   "cell_type": "code",
   "execution_count": 16,
   "metadata": {},
   "outputs": [],
   "source": [
    " "
   ]
  },
  {
   "cell_type": "markdown",
   "metadata": {},
   "source": [
    "# Balancing the two terms in $L_{\\text{VAE}}$"
   ]
  },
  {
   "cell_type": "markdown",
   "metadata": {},
   "source": [
    "Define the loss $L_{\\beta}$\n",
    "$$L_{\\beta} := E[ - p_{\\hat{\\R{X}}|\\R{Z}}(\\R{X}|\\hat{\\R{Z}})] + \\beta D(P_{\\hat{\\R{Z}}|\\R{X}} || P_{\\R{Z}}|P_{\\R{X}}).$$"
   ]
  },
  {
   "cell_type": "markdown",
   "metadata": {},
   "source": [
    "# Distanglement of latent representation in $\\beta$-VAE"
   ]
  },
  {
   "cell_type": "code",
   "execution_count": null,
   "metadata": {},
   "outputs": [],
   "source": []
  },
  {
   "cell_type": "markdown",
   "metadata": {},
   "source": [
    "Define a uniform random variable $\\R{J}$ on $\\{1,2,\\dots, N\\}$ which relates to the samples in the dataset. Then $x_{\\R{J}}$ is a random variable.  \n",
    "Define\n",
    "$$ p_{\\hat{\\R{Z}}|x_{\\R{J}}} (\\cdot|x_j) := p_{\\hat{\\R{Z}}|\\R{J}}(\\cdot|j). $$\n",
    "Then we have\n",
    "\\begin{align*}\n",
    "    p_{\\R{J}}(j) &= \\frac{1}{N}, \\\\\n",
    "    p_{\\hat{\\R{Z}}, \\R{J}}(\\cdot|j) &= p_{\\hat{\\R{Z}} | \\R{J}}(\\cdot|j) p_{\\R{J}}(j) = \\frac{1}{N}p_{\\hat{\\R{Z}} | \\R{J}}(\\cdot|j) \n",
    "\\end{align*} "
   ]
  },
  {
   "cell_type": "markdown",
   "metadata": {},
   "source": [
    "Then \n",
    "\\begin{align*}\n",
    "D(P_{\\hat{\\R{Z}}|\\R{X}} || P_{\\R{Z}}|P_{\\R{X}}) &= E \\left[ D(P_{\\hat{\\R{Z}}|\\R{X}})(\\cdot|\\R{X}) || P_{\\R{Z}} \\right] \\\\\n",
    "&= E \\left[ D(P_{\\hat{\\R{Z}}|\\R{J}})(\\cdot|\\R{J}) || P_{\\R{Z}} \\right] \\\\\n",
    "&= \\underbrace{D \\left( P_{\\hat{\\R{Z}} \\R{J}} || P_{\\hat{\\R{Z}}} P_{\\R{J}} \\right)}_{\\text{Index-Code MI}} \n",
    "+ \\underbrace{D \\left( P_{\\hat{\\R{Z}}}|| \\prod_{k=1}^{d_{\\R{Z}}} P_{\\R{z}_k} \\right)}_{\\text{Total Correlation}} \n",
    "+ \\underbrace{ \\sum_{k=1}^{d_{\\R{Z}}} D \\left( P_{\\hat{\\R{z}}_k} || P_{\\R{z}_k} \\right)}_{\\text{Dimension-wise divergence}}.\n",
    "\\end{align*}  \n",
    "For details, read [Isolating Sources of Disentanglement in VAEs](https://arxiv.org/abs/1802.04942)."
   ]
  },
  {
   "cell_type": "markdown",
   "metadata": {},
   "source": [
    "# InfoVAE"
   ]
  },
  {
   "cell_type": "markdown",
   "metadata": {},
   "source": [
    "Two problems of $L_{\\text{VAE}}$:\n",
    "- When model capacity is limited, there is a tradoff between the two terms in $L_{\\text{VAE}}$, and the variational posterior $p_{\\hat{\\R{Z}}|\\R{X}}$ may be quit inaccurate.  \n",
    "    - The reconstruction term can encorage choosing $p_{\\hat{\\R{Z}}|\\R{X}}(\\cdot|x_i)$ and $p_{\\hat{\\R{Z}}|\\R{X}}(\\cdot|x_j)$ to choose disjoint support when $x_i \\not= x_j$. The divergence term in $L_{\\text{VAE}}$ may not always sufficient to prevent this.\n",
    "\n",
    "- When model capacity is sufficiently large, $I(\\hat{\\R{Z}} \\wedge \\R{X})$ tends to be vanishingly small, and $\\hat{\\R{X}}$ tend to be independent of $\\R{Z}$."
   ]
  },
  {
   "source": [
    "$$L_{\\text{VAE}} = D(P_{X|\\hat{Z}} || P_{\\hat{X}|Z}) + D(P_{\\hat{Z}} || P_{Z}) + \\underbrace{H(\\R{X})}_{\\text{constant}}$$"
   ],
   "cell_type": "markdown",
   "metadata": {}
  },
  {
   "cell_type": "markdown",
   "metadata": {},
   "source": [
    "Solution: add a term in the loss to encourage the MI between $\\hat{\\R{Z}}$ and $\\R{X}$."
   ]
  },
  {
   "cell_type": "markdown",
   "metadata": {},
   "source": [
    "The infoVAE loss:\n",
    "$$\n",
    "\\begin{align}\n",
    "L_{InfoVAE} &= D(P_{\\R{X}|\\hat{\\R{Z}}} || P_{\\hat{\\R{X}}|\\R{Z}}|P_{\\hat{\\R{Z}}}) + \\gamma D(P_{\\hat{\\R{Z}}}||P_{\\R{Z}}) - \\alpha I(\\hat{\\R{Z}} \\wedge \\R{X}) \\\\\n",
    "&= E[\\log p_{\\R{X}|\\hat{\\R{Z}}}(\\R{X}|\\hat{\\R{Z}})] + E[- \\log p_{\\hat{\\R{X}}|\\R{Z}}(\\R{X}|\\hat{\\R{Z}})] + \\gamma E[\\log p_{\\hat{\\R{Z}}}(\\hat{\\R{Z}})]- \\gamma E [\\log p_{\\R{Z}}(\\hat{\\R{Z}})]  - \\alpha E[\\log p_{\\hat{\\R{Z}}|\\R{X}}(\\hat{\\R{Z}}|\\R{X})] + \\alpha E[\\log_{\\hat{\\R{Z}}}(\\hat{\\R{Z}})]  \\\\\n",
    "&= E[\\log p_{\\hat{\\R{Z}}|\\R{X}}(\\hat{\\R{Z}}|\\R{X})] + E[\\log p_{\\R{X}}(\\R{X})] - E[p_{\\hat{\\R{Z}}}(\\hat{\\R{Z}})] + E[- \\log p_{\\hat{\\R{X}}|\\R{Z}}(\\R{X}|\\hat{\\R{Z}})] + \\gamma E[\\log p_{\\hat{\\R{Z}}}(\\hat{\\R{Z}})]- \\gamma E [\\log p_{\\R{Z}}(\\hat{\\R{Z}})]  - \\alpha E[\\log p_{\\hat{\\R{Z}}|\\R{X}}(\\hat{\\R{Z}}|\\R{X})] + \\alpha E[\\log_{\\hat{\\R{Z}}}(\\hat{\\R{Z}})]  \\\\\n",
    "&= E[- \\log p_{\\hat{\\R{X}}|\\R{Z}}(\\R{X}|\\hat{\\R{Z}})] + (1-\\alpha)E[\\log p_{\\hat{\\R{Z}}|\\R{X}}(\\hat{\\R{Z}}|\\R{X})] +  (\\alpha + \\gamma -1)E[p_{\\hat{\\R{Z}}}(\\hat{\\R{Z}})] - \\gamma E [\\log p_{\\R{Z}}(\\hat{\\R{Z}})] + E[\\log p_{\\R{X}}(\\R{X})] \\\\\n",
    "&= E[- \\log p_{\\hat{\\R{X}}|\\R{Z}}(\\R{X}|\\hat{\\R{Z}})] +  (1-\\alpha)D(P_{\\hat{\\R{Z}}|\\R{X}}||P_{\\R{Z}}| P_{\\R{X}}) + (\\alpha + \\gamma -1)D(P_{\\hat{\\R{Z}}}||P_{\\R{Z}}) - \\underbrace{H(\\R{X})}_{\\text{constant}}.\n",
    "\\end{align}\n",
    "$$"
   ]
  },
  {
   "source": [],
   "cell_type": "markdown",
   "metadata": {}
  },
  {
   "source": [
    "refer to the implementation by https://github.com/pratikm141/MMD-Variational-Autoencoder-Pytorch-InfoVAE"
   ],
   "cell_type": "markdown",
   "metadata": {}
  },
  {
   "cell_type": "code",
   "execution_count": null,
   "metadata": {},
   "outputs": [],
   "source": []
  }
 ],
 "metadata": {
  "interpreter": {
   "hash": "72988f6554239d4d9a59030431e3f9673f71a93641bf30a7410994f37c695aee"
  },
  "kernelspec": {
   "name": "python3",
   "display_name": "Python 3.7.10 64-bit ('env_1': conda)"
  },
  "language_info": {
   "codemirror_mode": {
    "name": "ipython",
    "version": 3
   },
   "file_extension": ".py",
   "mimetype": "text/x-python",
   "name": "python",
   "nbconvert_exporter": "python",
   "pygments_lexer": "ipython3",
   "version": "3.7.10"
  }
 },
 "nbformat": 4,
 "nbformat_minor": 4
}