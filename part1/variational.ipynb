{
 "cells": [
  {
   "cell_type": "markdown",
   "id": "d37faa0f-a34d-46ad-81e8-bb0ffe84f6e1",
   "metadata": {},
   "source": [
    "# Mutual Information Estimation"
   ]
  },
  {
   "cell_type": "markdown",
   "id": "b79117ea-6542-4b60-90d8-74d54dc98233",
   "metadata": {},
   "source": [
    "$\\def\\abs#1{\\left\\lvert #1 \\right\\rvert}\n",
    "\\def\\Set#1{\\left\\{ #1 \\right\\}}\n",
    "\\def\\mc#1{\\mathcal{#1}}\n",
    "\\def\\M#1{\\boldsymbol{#1}}\n",
    "\\def\\R#1{\\mathsf{#1}}\n",
    "\\def\\RM#1{\\boldsymbol{\\mathsf{#1}}}\n",
    "\\def\\op#1{\\operatorname{#1}}\n",
    "\\def\\E{\\op{E}}\n",
    "\\def\\d{\\mathrm{\\mathstrut d}}\n",
    "$"
   ]
  },
  {
   "cell_type": "markdown",
   "id": "ebce6625-4889-4891-a281-451920c63c5a",
   "metadata": {},
   "source": [
    "## Formulation"
   ]
  },
  {
   "cell_type": "markdown",
   "id": "67f41bda-3d7a-4ae2-95fe-f7aa8b59475e",
   "metadata": {},
   "source": [
    "The problem of estimating the mutual information is:"
   ]
  },
  {
   "cell_type": "markdown",
   "id": "b870a354-4a23-4d09-90f6-5792372c4ef9",
   "metadata": {},
   "source": [
    "```{prf:definition}\n",
    ":label: MI-estimation\n",
    "\n",
    "Given *i.i.d. samples* \n",
    "$(\\R{X}_1,\\R{Y}_1),\\dots, (\\R{X}_n,\\R{Y}_n)$ drawn from an *unknown* probability measure $P_{\\R{X},\\R{Y}}\\in \\mc{P}(\\mc{X},\\mc{Y})$, estimate the *mutual information*\n",
    "\n",
    "$$\n",
    "\\begin{align}\n",
    "I(\\R{X}\\wedge\\R{Y}) &:= E\\left[\\log \\frac{d P_{\\R{X},\\R{Y}}(\\R{X},\\R{Y})}{d (P_{\\R{X}}(\\R{X}) \\times P_{\\R{Y}}(\\R{Y}))} \\right].\n",
    "\\end{align}\n",
    "$$ (MI)\n",
    "```"
   ]
  },
  {
   "cell_type": "markdown",
   "id": "e399a9ed-eef6-4c32-bc48-579885b721b3",
   "metadata": {},
   "source": [
    "---\n",
    "Given *i.i.d. samples* \n",
    "$(\\R{X}_1,\\R{Y}_1),\\dots, (\\R{X}_n,\\R{Y}_n)$ drawn from an *unknown* probability measure $P_{\\R{X},\\R{Y}}\\in \\mc{P}(\\mc{X},\\mc{Y})$, estimate the *mutual information*\n",
    "$$\n",
    "\\begin{align}\n",
    "I(\\R{X}\\wedge\\R{Y}) &:= E\\left[\\log \\frac{d P_{\\R{X},\\R{Y}}(\\R{X},\\R{Y})}{d (P_{\\R{X}}(\\R{X}) \\times P_{\\R{Y}}(\\R{Y}))} \\right].\n",
    "\\end{align}\n",
    "$$ (MI)\n",
    "\n",
    "---"
   ]
  },
  {
   "cell_type": "markdown",
   "id": "5683ac08-51c0-4783-a71a-c685cc27c0cb",
   "metadata": {},
   "source": [
    "This can be viewed as an estimation of the KL divergence:"
   ]
  },
  {
   "cell_type": "markdown",
   "id": "45e5f395-e8de-4bec-9e94-dd688e71d34f",
   "metadata": {},
   "source": [
    "---\n",
    "Given the sequences\n",
    "$\\R{Z}^n:=(\\R{Z}_1,\\dots, \\R{Z}_n)$ and $\\R{Z}'^{n'}$ of samples i.i.d. drawn from the unknown probability measures $P_{\\R{Z}}$ and $P_{\\R{Z}'}$ in $\\mc{P}(\\mc{Z})$ respectively, estimate the *divergence*\n",
    "\n",
    "$$\n",
    "\\begin{align}\n",
    "D(P_{\\R{Z}}\\|P_{\\R{Z}'}) &:= E\\left[\\log \\frac{d P_{\\R{Z}}(\\R{Z})}{d P_{\\R{Z}'}(\\R{Z})} \\right].\n",
    "\\end{align}\n",
    "$$ (D)\n",
    "\n",
    "---"
   ]
  },
  {
   "cell_type": "markdown",
   "id": "edb844a9-95c7-4065-9bbb-b6c51e07bed7",
   "metadata": {},
   "source": [
    "{eq}`MI` is obtained from {eq}`D` with \n",
    "$$\n",
    "\\begin{align}\n",
    "P_{\\R{Z}} &= P_{\\R{X}, \\R{Y}}\\\\\n",
    "P_{\\R{Z}'} &= P_{\\R{X}}\\times P_{\\R{Y}}.\n",
    "\\end{align}\n",
    "$$"
   ]
  },
  {
   "cell_type": "markdown",
   "id": "92e9973d-1741-4508-a268-52380d323bec",
   "metadata": {},
   "source": [
    "Note that, as the dependency between $\\R{Z}$ and $\\R{Z}'$ does not affect the divergence, $n$ and $n'$ need not be the same."
   ]
  },
  {
   "cell_type": "markdown",
   "id": "4da5d00c-e1df-420e-a47c-332a59c003ac",
   "metadata": {},
   "source": [
    "Indeed, to apply a divergence estimate to a mutual information estimate, one needs to approximate the i.i.d. sampling of $P_{\\R{X}}\\times P_{\\R{Y}}$ using samples of $P_{\\R{X}\\R{Y}}$. This is often done by the re-sampling trick \n",
    "$$\n",
    "\\begin{align}\n",
    "\\R{Z}'^{n'} &=((\\R{X}_{\\R{J}_1},\\R{Y}_{\\R{K}_1})\\mid i \\in [n'])\n",
    "\\end{align}\n",
    "$$\n",
    "where $\\R{J}_i$ and $\\R{K}_i$ for $i\\in [n']$ are (nearly) independent and uniformly random indices taking values from $[n]:=\\Set{1,\\dots,n}$."
   ]
  },
  {
   "cell_type": "markdown",
   "id": "2d90eb90-5c10-4a4d-b5cb-3dcf09bb5ec1",
   "metadata": {},
   "source": [
    "Regarding the mutual information as a divergence, the problem can be further generalized to estimtating other divergence measures such as the $f$-divergence:"
   ]
  },
  {
   "cell_type": "markdown",
   "id": "19410021-ddd3-4fce-a358-adc9993da211",
   "metadata": {},
   "source": [
    "---\n",
    "Given the sequences\n",
    "$\\R{Z}^n$ and $\\R{Z}'^{n'}$ of i.i.d. samples drawn from the unknown probability measures $P_{\\R{Z}}$ and $P_{\\R{Z}'}$ in $\\mc{P}(\\mc{Z})$ respectively, estimate the *f-divergence*\n",
    "\n",
    "$$\n",
    "\\begin{align}\n",
    "D_f(P_{\\R{Z}}\\|P_{\\R{Z}'}) &:= E\\left[ f\\left(\\frac{d P_{\\R{Z}}(\\R{Z}')}{d P_{\\R{Z}'}(\\R{Z}')}\\right). \\right]\n",
    "\\end{align}\n",
    "$$ (f-D)\n",
    "\n",
    "for a strictly convex function $f$ with $f(1)=0$.\n",
    "\n",
    "---"
   ]
  },
  {
   "cell_type": "markdown",
   "id": "97432c03-de2e-48bd-a5d4-4cf109e3f286",
   "metadata": {},
   "source": [
    "$f$-divergence in {eq}`f-D` reduces to KL divergence when $f=u \\log u$:\n",
    "$$\n",
    "\\begin{align}\n",
    "E\\left[ \\frac{d P_{\\R{Z}}(\\R{Z}')}{d P_{\\R{Z}'}(\\R{Z}')} \\log \\frac{d P_{\\R{Z}}(\\R{Z}')}{d P_{\\R{Z}'}(\\R{Z}')}  \\right] &= \\int_{\\mc{Z}} \\color{gray}{d P_{\\R{Z}'}(z)} \\cdot \\frac{d P_{\\R{Z}}(z)}{\\color{gray}{d P_{\\R{Z}'}(z)}} \\log \\frac{d P_{\\R{Z}}(z)}{d P_{\\R{Z}'}(z)}. \n",
    "\\end{align}\n",
    "$$"
   ]
  },
  {
   "cell_type": "markdown",
   "id": "8c2955ee-e979-4d51-86b1-d28a5faf04bc",
   "metadata": {},
   "source": [
    "It is a valid divergence because, by Jensen's inequality,\n",
    "$$\n",
    "D_f(P_{\\R{Z}}\\|P_{\\R{Z}'}) \\geq  f\\bigg( \\underbrace{E\\left[ \\frac{d P_{\\R{Z}}(\\R{Z}')}{d P_{\\R{Z}'}(\\R{Z}')} \\right]}_{=1}\\bigg) = 0\n",
    "$$\n",
    "with equality iff $P_{\\R{Z}}=P_{\\R{Z}'}$."
   ]
  },
  {
   "cell_type": "markdown",
   "id": "5e949211-fdfe-4c47-848b-c3e6e8b86c75",
   "metadata": {},
   "source": [
    "Regarding the divergence as an expectation, it is approximated by the sample average:\n",
    "$$\n",
    "\\begin{align}\n",
    "D_f(P_{\\R{Z}}\\|P_{\\R{Z}'}) &\\approx \n",
    "\\frac1n \\sum_{i\\in [n]} f\\left(\\frac{d P_{\\R{Z}}(\\R{Z}'_i)}{d P_{\\R{Z}'}(\\R{Z}'_i)}\\right).\n",
    "\\end{align}\n",
    "$$ (avg-f-D)"
   ]
  },
  {
   "cell_type": "markdown",
   "id": "4ee4e855-8cba-4b6a-af4c-7ae5b834714c",
   "metadata": {},
   "source": [
    "However, this is not a valid estimate because it uses the unknown measures $P_{\\R{Z}}$ and $P_{\\R{Z}'}$ directly."
   ]
  },
  {
   "cell_type": "markdown",
   "id": "2c47bded-02ba-4c38-85b7-7f622a4f226a",
   "metadata": {},
   "source": [
    "---\n",
    "Given the sequences\n",
    "$\\R{Z}^n$ and $\\R{Z}'^{n'}$ of i.i.d. samples drawn from the unknown probability measures $P_{\\R{Z}}$ and $P_{\\R{Z}'}$ in $\\mc{P}(\\mc{Z})$ respectively, estimate the *(probabilistic) discriminator*\n",
    "\n",
    "$$\n",
    "\\begin{align}\n",
    "z \\mapsto \\frac{d P_{\\R{Z}}(z)}{d P_{\\R{Z}'}(z)}.\n",
    "\\end{align}\n",
    "$$ (dP-ratio)\n",
    "\n",
    "---"
   ]
  },
  {
   "cell_type": "markdown",
   "id": "de728085-a4b3-4c61-ba73-8c06a185b0b9",
   "metadata": {},
   "source": [
    "Finally, one can apply the solution to the more general problem of estimating an unknown probability measure $P_{\\R{Z}}$:"
   ]
  },
  {
   "cell_type": "markdown",
   "id": "1d26b297-2eca-40ed-b44d-60acfa4bfa22",
   "metadata": {},
   "source": [
    "---\n",
    "\n",
    "Given i.i.d. samples $\\R{Z}^n$ drawn from the unknown probability measure $P_{\\R{Z}}\\in \\mc{P}(\\mc{Z})$, estimate the pdf/pmf $p_{\\R{Z}}(z)=\\frac{dP_{\\R{Z}}(z)}{dz}$. \n",
    "\n",
    "---"
   ]
  },
  {
   "cell_type": "markdown",
   "id": "6bb8c3a3-6802-49d3-ba5c-57a0b8635457",
   "metadata": {},
   "source": [
    "Estimating the divergence well neither require nor imply the probability measure to be estimated well. However, the divergence estimate can be used as an objective to train a neural network to return the probability estimates. Indeed, the divergence estimate is often not the end goal. What can be more valuable are the features/representations learned by the neural network and applicable to different downstream inference tasks."
   ]
  },
  {
   "cell_type": "markdown",
   "id": "28982545-0c45-4c52-85ad-be97589f4b0a",
   "metadata": {},
   "source": [
    "## Neural estimation of KL divergence"
   ]
  },
  {
   "cell_type": "markdown",
   "id": "765eea50-1dfd-444e-9896-76072c466b0b",
   "metadata": {},
   "source": [
    "Consider estimtating the KL divergence first. The idea of neural estimation can be explained with the following variational formula for KL divergence equivalent to the Donsker-Varadhan (DV) formula {cite}`donsker1983asymptotic`."
   ]
  },
  {
   "cell_type": "markdown",
   "id": "607d8bf5-0a46-4019-97ff-219bf226fce1",
   "metadata": {},
   "source": [
    "---\n",
    "**Proposition**\n",
    "\n",
    "$$\n",
    "\\begin{align}\n",
    "D(P_{\\R{Z}}\\|P_{\\R{Z}'}) & =  \\sup_{\\substack{r:\\mc{Z}\\to \\mathbb{R}_+\\\\ E[r(\\R{Z}')]=1}} E \\left[ \\log r(\\R{Z}) \\right] \n",
    "\\end{align}\n",
    "$$ (D1)\n",
    "\n",
    "where the optimal $r$ satisfies\n",
    "\n",
    "$$\n",
    "\\begin{align}\n",
    "r(\\R{Z}) = \\frac{dP_{\\R{Z}}(\\R{Z})}{dP_{\\R{Z}'}(\\R{Z})}\n",
    "\\end{align}\n",
    "$$ (D1:sol)\n",
    "\n",
    "almost surely.\n",
    "\n",
    "---"
   ]
  },
  {
   "cell_type": "markdown",
   "id": "3371a825-0ecf-4eec-8258-376bedf9a54b",
   "metadata": {},
   "source": [
    "It is easy to check that the optimal solution {eq}`D1:sol` satisfies the constraint in the supremum {eq}`D1` and gives the KL divergence {eq}`D` as desired. The proposition states further that $E[\\log r(\\R{Z})]$ for any feasible discriminator $r$ is a lower bound on the divergence."
   ]
  },
  {
   "cell_type": "markdown",
   "id": "5a8b28fd-1a8a-427d-8de0-5b0b9afcbfb6",
   "metadata": {},
   "source": [
    "---\n",
    "**Proof**\n",
    " \n",
    "$$\n",
    "\\begin{align*}\n",
    "D(P_{\\R{Z}}\\|P_{\\R{Z}'})  &= D(P_{\\R{Z}}\\|P_{\\R{Z}'}) - \\inf_{Q\\in \\mc{P}(\\mc{Z})} \\underbrace{D(P_{\\R{Z}}\\|Q)}_{\\geq 0 \\text{ with equality iff } Q=P_{\\R{Z}}\\kern-3em} \\\\\n",
    "&= \\sup_{Q\\in \\mc{P}(\\mc{Z})}  \\underbrace{D(P_{\\R{Z}}\\|P_{\\R{Z}'})}_{=E \\left[\\frac{dP_{\\R{Z}}(\\R{Z})}{dP_{\\R{Z}'}(\\R{Z})}\\right]} -  \\underbrace{D(P_{\\R{Z}}\\|Q)}_{=E \\left[\\frac{dP_{\\R{Z}}(\\R{Z})}{dQ(\\R{Z})}\\right]}\\\\\n",
    "&= \\sup_{Q\\in \\mc{P}(\\mc{Z})} E \\left[\\frac{dQ(\\R{Z})}{dP_{\\R{Z}'}(\\R{Z})}\\right]\n",
    "\\end{align*}\n",
    "$$\n",
    "\n",
    "which gives {eq}`D1` by a change of variable $r(z) = \\frac{dQ(z)}{dP_{\\R{Z}'}(z)}$. \n",
    "\n",
    "The constraint on $r$ is obtained from the constraint on $Q\\in \\mc{P}(\\mc{Z})$, i.e., with $dQ(z)=r(z)dP_{\\R{Z}'}(z)$, \n",
    "\n",
    "$$\n",
    "\\begin{align*}\n",
    "dQ(z) \\geq 0 &\\iff r(z)\\geq 0\\\\\n",
    "\\int_{\\mc{Z}}dQ(z)=1 &\\iff E[r(\\R{Z}')]=1.\n",
    "\\end{align*}\n",
    "$$\n",
    "\n",
    "{eq}`D1:sol` is from the additional optimality condition $Q=P_{\\R{Z}}$ that\n",
    "\n",
    "$$\n",
    "dQ(z) = dP_{\\R{Z}}(z) \\iff r(z)  = \\frac{dP_{\\R{Z}}(z)}{dP_{\\R{Z}'}(z)}.\n",
    "$$\n",
    "\n",
    "---"
   ]
  },
  {
   "cell_type": "markdown",
   "id": "82bc602c-d02d-45ad-8254-ac3c797346df",
   "metadata": {},
   "source": [
    "The idea of neural estimation is to use the sample average {eq}`avg-f-D` to estimate the divergence. Since the discriminator {eq}`dP:ratio` is not know, a neural network can be trained to approximate the discriminator by gradient descent on the lower bound of the divergence."
   ]
  },
  {
   "cell_type": "markdown",
   "id": "6be14d9d-33c4-4d3d-b433-2bb38957c145",
   "metadata": {},
   "source": [
    "$$\n",
    "\\begin{align}\n",
    "D(P_{\\R{Z}}\\|P_{\\R{Z}'}) \\approx \\sup_{\\substack{r:\\mc{Z}\\to \\mathbb{R}_+\\\\ \\frac1{n'}\\sum_{i\\in [n']} r(\\R{Z}'_i)]=1}} \\frac1n \\sum_{i\\in [n]} \\log r(\\R{Z})\n",
    "\\end{align}\n",
    "$$ (avg-D1)"
   ]
  },
  {
   "cell_type": "markdown",
   "id": "0ed73f9d-29ed-4e1f-8f6c-719fd7ec892a",
   "metadata": {},
   "source": [
    "Two questions remain: \n",
    "\n",
    "1) How to impose the constraint on $r$ when training a neural network? \n",
    "2) How accurate is the approximation, e.g, does the equality hold as $n\\to \\infty$?"
   ]
  },
  {
   "cell_type": "markdown",
   "id": "587ec8da-10b0-44dd-8313-2559ae700cb5",
   "metadata": {},
   "source": [
    "The first question can be addressed by a simple change of variable\n",
    "\n",
    "$$\n",
    "\\begin{align}\n",
    "r(z)&=\\frac{e^{g(z)}}{E[e^{g(\\R{Z}')}]}\n",
    "\\end{align}\n",
    "$$ (r->g)\n",
    "\n",
    "which satisfies the constraint automatically for any function $g:\\mc{Z}\\to \\mathbb{R}$. Substituting {eq}`r->g` gives the well-known Donsker-Varadhan formula:\n"
   ]
  },
  {
   "cell_type": "markdown",
   "id": "8de92ba3-9d0a-4c77-8648-7dccb6e50e52",
   "metadata": {},
   "source": [
    "---\n",
    "**Corollary** [{cite}`donsker1983asymptotic`]\n",
    "\n",
    "$$\n",
    "\\begin{align}\n",
    "D(P_{\\R{Z}}\\|P_{\\R{Z}'}) =  \\sup_{g: \\mc{Z} \\to \\mathbb{R}} E[g(Z)] - \\log E[e^{g(Z')}]\n",
    "\\end{align}\n",
    "$$ (DV)\n",
    "\n",
    "where the optimal $g$ satisfies\n",
    "$$\n",
    "\\begin{align}\n",
    "g(\\R{Z}) = \\log \\frac{dP_{\\R{Z}}(\\R{Z})}{dP_{\\R{Z}'}(\\R{Z})} + c\n",
    "\\end{align}\n",
    "$$ (DV:sol)\n",
    "\n",
    "almost surely for some constant $c$.\n",
    "\n",
    "---"
   ]
  },
  {
   "cell_type": "markdown",
   "id": "d449fd2d-4167-448e-90f8-709e0b7b6c2e",
   "metadata": {},
   "source": [
    "Note that $g$ "
   ]
  },
  {
   "cell_type": "markdown",
   "id": "6ba2f06a-9a93-4612-bdfb-cf24f84e6a01",
   "metadata": {},
   "source": [
    "The *mutual information neural estimation (MINE)* in {cite}`belghazi2018mine` uses the Donsker-Varadhan formula for the KL divergence: "
   ]
  },
  {
   "cell_type": "markdown",
   "id": "129f4290-fa2f-4c52-84dc-613833fad9b6",
   "metadata": {},
   "source": [
    "$$\n",
    "\\begin{align}\n",
    "I(\\R{X}\\wedge \\R{Y}) &= D(P_{\\R{X},\\R{Y}}\\|P_{\\R{X}}\\times P_{\\R{Y}}) \\\\\n",
    "&=  \\sup_{g: \\mc{X}\\times \\mc{Y} \\to \\mathbb{R}} E[g(\\R{X},\\R{Y})] - \\log E[e^{g(\\R{X}', \\R{Y}')}]\\\\\n",
    "&\\approx \\sup_{\\theta} \\frac1n \\sum_{i\\in [n]} g_{\\theta}(\\R{X}_i,\\R{Y}_i)] - \\log \\frac1{n'} \\sum_{i\\in [n']}e^{g_{\\theta}(\\R{X}_{\\R{J}_i}, \\R{Y}_{\\R{K}_i})}.\n",
    "\\end{align}\n",
    "$$ (MINE)\n",
    "\n",
    "where $P_{\\R{X}',\\R{Y}'}:=P_{\\R{X}}\\times P_{\\R{Y}}$ and $g_{\\theta}$ is a neural network with parameter $\\theta$."
   ]
  },
  {
   "cell_type": "markdown",
   "id": "b3370bc4-58e0-45e7-ad39-644626e01f0c",
   "metadata": {},
   "source": [
    "The mutual information between two random variables is defined as\n",
    "$$\n",
    "\\begin{align}\n",
    "I(\\R{X}\\wedge \\R{Y}) &= D(P_{\\R{X},\\R{Y}}\\|P_{\\R{X}},P_{\\R{Y}})\\\\\n",
    "&= D(P_{\\R{Y}|\\R{X}}\\|P_{\\R{Y}}|P_{\\R{X}})\n",
    "\\end{align}\n",
    "$$"
   ]
  },
  {
   "cell_type": "code",
   "execution_count": null,
   "id": "0ce59511-6e93-4d4a-a60c-ef0c6b38c103",
   "metadata": {},
   "outputs": [],
   "source": []
  },
  {
   "cell_type": "markdown",
   "id": "1eb95e0d-16b9-4af3-b640-eab7855f5111",
   "metadata": {},
   "source": [
    "To estimate mutual information using a neural network, "
   ]
  },
  {
   "cell_type": "markdown",
   "id": "16cf4842-6c2b-42e8-ba42-3973835994f3",
   "metadata": {},
   "source": [
    "**Proposition** \n",
    "\n",
    "For two random variables $\\R{Z}$ and $\\R{Z}'$, the Donsker Varadhan formula for divergence is\n",
    "\n",
    "$$\n",
    "\\begin{align}\n",
    "D(P_{\\R{Z}} \\| P_{\\R{Z}'}) &= \\sup_{g\\in \\mathcal{G}} E[g(Z)] - \\log E[e^{g(Z')}]\n",
    "\\end{align}\n",
    "$$ (VD)\n",
    "\n",
    "where $\\mathcal{G}$ is the set of function $g:\\mc{Z}\\to \\mathbb{R}$. The optimal solution satisfies\n",
    "\n",
    "$$\n",
    "\\begin{align}\n",
    "g(\\R{Z}') \\stackrel{a.s.}{=} \\log \\frac{d P_{\\R{Z}}}{ d P_{\\R{Z}'}} + c\n",
    "\\end{align}\n",
    "$$ (VD_sol)\n",
    "\n",
    "for some constant $c$. The random variables can be discrete, continuous, or a mixture of both."
   ]
  },
  {
   "cell_type": "markdown",
   "id": "ca9f2994-0791-4ddb-8d61-2c98085a01cd",
   "metadata": {},
   "source": [
    "A simple proof follows from the positivity of divergence."
   ]
  },
  {
   "cell_type": "markdown",
   "id": "ed22d773-3949-4c09-bae9-7285e63f442f",
   "metadata": {},
   "source": [
    "$$\n",
    "\\begin{align}\n",
    "H(\\R{Z}) &= \\inf_{Q \\in \\mc{P}(\\mc{Z})} E\\left[ -\\log q(\\R{Z}) \\right]\\\\\n",
    "&= \\inf_{t:\\mc{Z}\\to \\mathbb{R}} E\\left[ -\\log \\frac{e^{t(\\R{Z})}}{E[e^{t(\\R{Z}')}/p_{\\R{Z}'}(\\R{Z}')]} \\right]\\\\\n",
    "\\end{align}\n",
    "$$\n",
    "where the last expressing is obtained by rewriting \n",
    "$q(\\cdot):=\\frac{e^{t(\\cdot)}}{c}$ using the exponent $t$ with the normalization factor $c$ given by\n",
    "$$\n",
    "\\begin{align}\n",
    "E[e^{t(\\R{Z}')}/P_{\\R{Z}'(\\R{Z}')}] &= \\int_{\\mc{Z}} \\frac{e^{t(\\R{Z}')}}{p_{\\R{Z}'}(\\R{Z}')} p_{\\R{Z}'}(\\R{Z}') dz\\\\\n",
    "&=  \\int_{\\mc{Z}} e^{t(\\R{Z}')}dz.\n",
    "\\end{align}\n",
    "$$"
   ]
  },
  {
   "cell_type": "markdown",
   "id": "eaae66c9-11e5-4503-9478-ec80cf337752",
   "metadata": {},
   "source": [
    "$$\n",
    "\\begin{align}\n",
    "D(P_{\\R{Z}}\\|P_{\\R{Z}'}) &= E\\left[-\\log p_{\\R{Z}'}(\\R{Z})\\right] - H(\\R{Z})\\\\\n",
    "&=  \\sup_{t:\\mc{Z}\\to \\mathbb{R}} E\\left[ -\\log \\frac{e^{t(\\R{Z})}/p_{\\R{Z}'}(\\R{Z}')}{E[e^{t(\\R{Z}')}/p_{\\R{Z}'}(\\R{Z}')]} \\right]\\\\\n",
    "&= \\sup_{t:\\mc{Z}\\to \\mathbb{R}} E\\left[ -\\log \\frac{e^{f(\\R{Z})}}{E[e^{f(\\R{Z}')}]} \\right]\n",
    "\\end{align}\n",
    "$$\n",
    "where the last equality is obtained with $f:=t-\\log p_{\\R{Z}'}$."
   ]
  },
  {
   "cell_type": "markdown",
   "id": "3ce88aa1-2054-4adc-ae14-5b0fe77e125c",
   "metadata": {},
   "source": [
    "The optimal solution satisfies \n",
    "\n",
    "$$\n",
    "t(\\R{Z}) \\stackrel{a.s.}{=} \\log p_{\\R{Z}}(\\R{Z}) + \\log c\n",
    "$$\n",
    "for some constant $c$.\n",
    "\n",
    "The optimal solut"
   ]
  },
  {
   "cell_type": "markdown",
   "id": "0b83c9fb-1e89-4f1f-9c54-2c345c3a7b4a",
   "metadata": {},
   "source": [
    "![f-D](f-D.dio.svg)"
   ]
  },
  {
   "cell_type": "code",
   "execution_count": 8,
   "id": "3f9b2804-b426-4c96-b5d7-fd9c54122ae8",
   "metadata": {},
   "outputs": [],
   "source": [
    "from IPython import display "
   ]
  },
  {
   "cell_type": "code",
   "execution_count": 10,
   "id": "ff180066-faa0-4946-91ae-39a845afc91e",
   "metadata": {},
   "outputs": [
    {
     "data": {
      "text/html": [
       "<!--[if IE]><meta http-equiv=\"X-UA-Compatible\" content=\"IE=5,IE=9\" ><![endif]-->\n",
       "<!DOCTYPE html>\n",
       "<html>\n",
       "<head>\n",
       "<title></title>\n",
       "<meta charset=\"utf-8\"/>\n",
       "</head>\n",
       "<body><div class=\"mxgraph\" style=\"max-width:100%;border:1px solid transparent;\" data-mxgraph=\"{&quot;highlight&quot;:&quot;#0000ff&quot;,&quot;nav&quot;:true,&quot;resize&quot;:true,&quot;toolbar&quot;:&quot;zoom layers lightbox&quot;,&quot;xml&quot;:&quot;&lt;mxfile host=\\&quot;dive.cs.cityu.edu.hk\\&quot; modified=\\&quot;2021-08-13T09:45:49.696Z\\&quot; agent=\\&quot;5.0 (Macintosh; Intel Mac OS X 10_15_7) AppleWebKit/537.36 (KHTML, like Gecko) Chrome/92.0.4515.131 Safari/537.36\\&quot; etag=\\&quot;UM5OPVEn8H4Ohg4VUSFr\\&quot; version=\\&quot;14.9.3\\&quot; type=\\&quot;embed\\&quot;&gt;&lt;diagram id=\\&quot;2_BBTB6-EdrSf_Qshmzp\\&quot; name=\\&quot;Page-1\\&quot;&gt;&lt;mxGraphModel dx=\\&quot;3886\\&quot; dy=\\&quot;673\\&quot; grid=\\&quot;1\\&quot; gridSize=\\&quot;10\\&quot; guides=\\&quot;1\\&quot; tooltips=\\&quot;1\\&quot; connect=\\&quot;1\\&quot; arrows=\\&quot;1\\&quot; fold=\\&quot;1\\&quot; page=\\&quot;1\\&quot; pageScale=\\&quot;1\\&quot; pageWidth=\\&quot;827\\&quot; pageHeight=\\&quot;500\\&quot; math=\\&quot;1\\&quot; shadow=\\&quot;0\\&quot;&gt;&lt;root&gt;&lt;mxCell id=\\&quot;0\\&quot;/&gt;&lt;mxCell id=\\&quot;1\\&quot; parent=\\&quot;0\\&quot;/&gt;&lt;mxCell id=\\&quot;2\\&quot; parent=\\&quot;0\\&quot;/&gt;&lt;mxCell id=\\&quot;3\\&quot; value=\\&quot;\\&quot; style=\\&quot;endArrow=classic;html=1;\\&quot; parent=\\&quot;2\\&quot; edge=\\&quot;1\\&quot;&gt;&lt;mxGeometry width=\\&quot;50\\&quot; height=\\&quot;50\\&quot; relative=\\&quot;1\\&quot; as=\\&quot;geometry\\&quot;&gt;&lt;mxPoint x=\\&quot;230\\&quot; y=\\&quot;440\\&quot; as=\\&quot;sourcePoint\\&quot;/&gt;&lt;mxPoint x=\\&quot;230\\&quot; y=\\&quot;80\\&quot; as=\\&quot;targetPoint\\&quot;/&gt;&lt;/mxGeometry&gt;&lt;/mxCell&gt;&lt;mxCell id=\\&quot;4\\&quot; value=\\&quot;\\&quot; style=\\&quot;endArrow=classic;html=1;\\&quot; parent=\\&quot;2\\&quot; edge=\\&quot;1\\&quot;&gt;&lt;mxGeometry width=\\&quot;50\\&quot; height=\\&quot;50\\&quot; relative=\\&quot;1\\&quot; as=\\&quot;geometry\\&quot;&gt;&lt;mxPoint x=\\&quot;230\\&quot; y=\\&quot;240\\&quot; as=\\&quot;sourcePoint\\&quot;/&gt;&lt;mxPoint x=\\&quot;590\\&quot; y=\\&quot;240\\&quot; as=\\&quot;targetPoint\\&quot;/&gt;&lt;/mxGeometry&gt;&lt;/mxCell&gt;&lt;mxCell id=\\&quot;5\\&quot; value=\\&quot;\\\\(&amp;lt;br&amp;gt;\\\\def\\\\abs#1{\\\\left\\\\lvert #1 \\\\right\\\\rvert}&amp;lt;br&amp;gt;&amp;amp;nbsp;\\\\def\\\\Set#1{\\\\left\\\\{ #1 \\\\right\\\\}} \\\\def\\\\mc#1{\\\\mathcal{#1}} \\\\def\\\\M#1{\\\\boldsymbol{#1}} \\\\def\\\\R#1{\\\\mathsf{#1}} \\\\def\\\\RM#1{\\\\boldsymbol{\\\\mathsf{#1}}} \\\\def\\\\op#1{\\\\operatorname{#1}} \\\\def\\\\E{\\\\op{E}}\\\\)\\&quot; style=\\&quot;text;html=1;strokeColor=none;fillColor=none;align=left;verticalAlign=middle;whiteSpace=wrap;rounded=0;\\&quot; parent=\\&quot;2\\&quot; vertex=\\&quot;1\\&quot;&gt;&lt;mxGeometry width=\\&quot;40\\&quot; height=\\&quot;20\\&quot; as=\\&quot;geometry\\&quot;/&gt;&lt;/mxCell&gt;&lt;mxCell id=\\&quot;6\\&quot; value=\\&quot;$$r$$\\&quot; style=\\&quot;text;html=1;strokeColor=none;fillColor=none;align=center;verticalAlign=middle;whiteSpace=wrap;rounded=0;fontSize=10;\\&quot; parent=\\&quot;2\\&quot; vertex=\\&quot;1\\&quot;&gt;&lt;mxGeometry x=\\&quot;590\\&quot; y=\\&quot;235\\&quot; width=\\&quot;20\\&quot; height=\\&quot;30\\&quot; as=\\&quot;geometry\\&quot;/&gt;&lt;/mxCell&gt;&lt;mxCell id=\\&quot;7\\&quot; value=\\&quot;1\\&quot; parent=\\&quot;0\\&quot;/&gt;&lt;mxCell id=\\&quot;8\\&quot; value=\\&quot;\\&quot; style=\\&quot;curved=1;endArrow=none;html=1;endFill=0;strokeWidth=2;strokeColor=#CC0000;\\&quot; parent=\\&quot;7\\&quot; edge=\\&quot;1\\&quot;&gt;&lt;mxGeometry width=\\&quot;50\\&quot; height=\\&quot;50\\&quot; relative=\\&quot;1\\&quot; as=\\&quot;geometry\\&quot;&gt;&lt;mxPoint x=\\&quot;230\\&quot; y=\\&quot;100\\&quot; as=\\&quot;sourcePoint\\&quot;/&gt;&lt;mxPoint x=\\&quot;560\\&quot; y=\\&quot;80\\&quot; as=\\&quot;targetPoint\\&quot;/&gt;&lt;Array as=\\&quot;points\\&quot;&gt;&lt;mxPoint x=\\&quot;290\\&quot; y=\\&quot;250\\&quot;/&gt;&lt;mxPoint x=\\&quot;420\\&quot; y=\\&quot;230\\&quot;/&gt;&lt;mxPoint x=\\&quot;530\\&quot; y=\\&quot;150\\&quot;/&gt;&lt;/Array&gt;&lt;/mxGeometry&gt;&lt;/mxCell&gt;&lt;mxCell id=\\&quot;9\\&quot; value=\\&quot;$$F[r]:=E[(f\\\\circ r)(\\\\R{Z}&#39;)]=\\\\int_{\\\\mc{Z}} (f\\\\circ r) \\\\,dP_{\\\\R{Z}&#39;}(z)$$\\&quot; style=\\&quot;text;html=1;strokeColor=none;fillColor=none;align=center;verticalAlign=middle;whiteSpace=wrap;rounded=0;fontSize=12;\\&quot; parent=\\&quot;7\\&quot; vertex=\\&quot;1\\&quot;&gt;&lt;mxGeometry x=\\&quot;210\\&quot; y=\\&quot;40\\&quot; width=\\&quot;270\\&quot; height=\\&quot;40\\&quot; as=\\&quot;geometry\\&quot;/&gt;&lt;/mxCell&gt;&lt;mxCell id=\\&quot;10\\&quot; value=\\&quot;2\\&quot; parent=\\&quot;0\\&quot;/&gt;&lt;mxCell id=\\&quot;11\\&quot; value=\\&quot;\\&quot; style=\\&quot;endArrow=oval;html=1;strokeColor=#CC0000;endFill=1;endSize=6;startSize=6;strokeWidth=1;\\&quot; parent=\\&quot;10\\&quot; edge=\\&quot;1\\&quot;&gt;&lt;mxGeometry width=\\&quot;50\\&quot; height=\\&quot;50\\&quot; relative=\\&quot;1\\&quot; as=\\&quot;geometry\\&quot;&gt;&lt;mxPoint x=\\&quot;460\\&quot; y=\\&quot;240\\&quot; as=\\&quot;sourcePoint\\&quot;/&gt;&lt;mxPoint x=\\&quot;460\\&quot; y=\\&quot;200\\&quot; as=\\&quot;targetPoint\\&quot;/&gt;&lt;Array as=\\&quot;points\\&quot;/&gt;&lt;/mxGeometry&gt;&lt;/mxCell&gt;&lt;mxCell id=\\&quot;12\\&quot; value=\\&quot;$$\\\\frac{dP_{\\\\R{Z}}}{dP_{\\\\R{Z}&#39;}}$$\\&quot; style=\\&quot;text;html=1;strokeColor=none;fillColor=none;align=center;verticalAlign=middle;whiteSpace=wrap;rounded=0;fontSize=10;\\&quot; parent=\\&quot;10\\&quot; vertex=\\&quot;1\\&quot;&gt;&lt;mxGeometry x=\\&quot;440\\&quot; y=\\&quot;250\\&quot; width=\\&quot;40\\&quot; height=\\&quot;30\\&quot; as=\\&quot;geometry\\&quot;/&gt;&lt;/mxCell&gt;&lt;mxCell id=\\&quot;13\\&quot; value=\\&quot;\\&quot; style=\\&quot;endArrow=none;html=1;endFill=0;endSize=6;startSize=6;strokeWidth=1;strokeColor=#CC0000;entryX=0.002;entryY=0.454;entryDx=0;entryDy=0;entryPerimeter=0;\\&quot; parent=\\&quot;10\\&quot; target=\\&quot;14\\&quot; edge=\\&quot;1\\&quot;&gt;&lt;mxGeometry width=\\&quot;50\\&quot; height=\\&quot;50\\&quot; relative=\\&quot;1\\&quot; as=\\&quot;geometry\\&quot;&gt;&lt;mxPoint x=\\&quot;460\\&quot; y=\\&quot;200\\&quot; as=\\&quot;sourcePoint\\&quot;/&gt;&lt;mxPoint x=\\&quot;630\\&quot; y=\\&quot;200\\&quot; as=\\&quot;targetPoint\\&quot;/&gt;&lt;Array as=\\&quot;points\\&quot;/&gt;&lt;/mxGeometry&gt;&lt;/mxCell&gt;&lt;mxCell id=\\&quot;14\\&quot; value=\\&quot;$$&amp;lt;br&amp;gt;\\\\begin{align}&amp;lt;br&amp;gt;F\\\\left[\\\\frac{dP_{\\\\R{Z}}}{dP_{\\\\R{Z}&#39;}}\\\\right]&amp;amp;amp;=\\\\overbrace{E\\\\left[f\\\\left(\\\\frac{dP_{\\\\R{Z}}(\\\\R{Z}&#39;)}{dP_{\\\\R{Z}&#39;}(\\\\R{Z}&#39;)}&amp;lt;br&amp;gt;\\\\right)\\\\right]}^{D_f(P_{\\\\R{Z}}\\\\|P_{\\\\R{Z}&#39;}):=}\\\\\\\\&amp;lt;br&amp;gt;&amp;amp;amp;\\\\vphantom{= \\\\sup_{g:\\\\mc{Z}\\\\to \\\\mathbb{R}} E[g(\\\\R{Z})] - F^*[g]}&amp;lt;br&amp;gt;\\\\end{align}$$\\&quot; style=\\&quot;text;html=1;strokeColor=none;fillColor=none;align=left;verticalAlign=middle;whiteSpace=wrap;rounded=0;fontSize=10;\\&quot; parent=\\&quot;10\\&quot; vertex=\\&quot;1\\&quot;&gt;&lt;mxGeometry x=\\&quot;600\\&quot; y=\\&quot;150\\&quot; width=\\&quot;190\\&quot; height=\\&quot;110\\&quot; as=\\&quot;geometry\\&quot;/&gt;&lt;/mxCell&gt;&lt;mxCell id=\\&quot;15\\&quot; value=\\&quot;3\\&quot; parent=\\&quot;0\\&quot;/&gt;&lt;mxCell id=\\&quot;16\\&quot; value=\\&quot;\\&quot; style=\\&quot;endArrow=none;html=1;startSize=6;endSize=6;strokeWidth=1;strokeColor=#00CC66;\\&quot; parent=\\&quot;15\\&quot; edge=\\&quot;1\\&quot;&gt;&lt;mxGeometry width=\\&quot;50\\&quot; height=\\&quot;50\\&quot; relative=\\&quot;1\\&quot; as=\\&quot;geometry\\&quot;&gt;&lt;mxPoint x=\\&quot;230\\&quot; y=\\&quot;440\\&quot; as=\\&quot;sourcePoint\\&quot;/&gt;&lt;mxPoint x=\\&quot;590\\&quot; y=\\&quot;80\\&quot; as=\\&quot;targetPoint\\&quot;/&gt;&lt;/mxGeometry&gt;&lt;/mxCell&gt;&lt;mxCell id=\\&quot;17\\&quot; value=\\&quot;\\&quot; style=\\&quot;endArrow=oval;html=1;endFill=1;endSize=6;startSize=6;strokeWidth=1;strokeColor=#00CC66;exitX=1;exitY=0.5;exitDx=0;exitDy=0;\\&quot; parent=\\&quot;15\\&quot; edge=\\&quot;1\\&quot;&gt;&lt;mxGeometry width=\\&quot;50\\&quot; height=\\&quot;50\\&quot; relative=\\&quot;1\\&quot; as=\\&quot;geometry\\&quot;&gt;&lt;mxPoint x=\\&quot;100\\&quot; y=\\&quot;210\\&quot; as=\\&quot;sourcePoint\\&quot;/&gt;&lt;mxPoint x=\\&quot;460\\&quot; y=\\&quot;210\\&quot; as=\\&quot;targetPoint\\&quot;/&gt;&lt;Array as=\\&quot;points\\&quot;/&gt;&lt;/mxGeometry&gt;&lt;/mxCell&gt;&lt;mxCell id=\\&quot;18\\&quot; value=\\&quot;lower bound of divergence\\&quot; style=\\&quot;edgeLabel;html=1;align=center;verticalAlign=bottom;resizable=0;points=[];labelPosition=center;verticalLabelPosition=top;labelBackgroundColor=none;\\&quot; parent=\\&quot;17\\&quot; vertex=\\&quot;1\\&quot; connectable=\\&quot;0\\&quot;&gt;&lt;mxGeometry x=\\&quot;0.4533\\&quot; relative=\\&quot;1\\&quot; as=\\&quot;geometry\\&quot;&gt;&lt;mxPoint as=\\&quot;offset\\&quot;/&gt;&lt;/mxGeometry&gt;&lt;/mxCell&gt;&lt;mxCell id=\\&quot;19\\&quot; value=\\&quot;4\\&quot; parent=\\&quot;0\\&quot;/&gt;&lt;mxCell id=\\&quot;20\\&quot; value=\\&quot;\\&quot; style=\\&quot;endArrow=none;html=1;strokeColor=#CC0000;endFill=0;endSize=6;startSize=6;strokeWidth=1;startArrow=openThin;startFill=0;\\&quot; parent=\\&quot;19\\&quot; edge=\\&quot;1\\&quot;&gt;&lt;mxGeometry width=\\&quot;50\\&quot; height=\\&quot;50\\&quot; relative=\\&quot;1\\&quot; as=\\&quot;geometry\\&quot;&gt;&lt;mxPoint x=\\&quot;220\\&quot; y=\\&quot;210\\&quot; as=\\&quot;sourcePoint\\&quot;/&gt;&lt;mxPoint x=\\&quot;220\\&quot; y=\\&quot;440\\&quot; as=\\&quot;targetPoint\\&quot;/&gt;&lt;Array as=\\&quot;points\\&quot;/&gt;&lt;/mxGeometry&gt;&lt;/mxCell&gt;&lt;mxCell id=\\&quot;21\\&quot; value=\\&quot;$$ \\\\begin{align} \\\\left\\\\langle r,g \\\\right\\\\rangle\\\\bigg|_{r=\\\\tfrac{dP_{\\\\R{Z}}(\\\\R{Z}&#39;)}{dP_{\\\\R{Z}&#39;}(\\\\R{Z}&#39;)} }&amp;lt;br&amp;gt;&amp;amp;amp;:= \\\\int_{\\\\mc{Z}} g \\\\cdot \\\\frac{dP_{\\\\R{Z}}(\\\\R{Z}&#39;)}{dP_{\\\\R{Z}&#39;}(\\\\R{Z}&#39;)} \\\\, dP_{\\\\R{Z}&#39;}\\\\\\\\ &amp;lt;br&amp;gt;&amp;amp;amp;=E[g(\\\\R{Z})] \\\\end{align}$$\\&quot; style=\\&quot;edgeLabel;html=1;align=right;verticalAlign=middle;resizable=0;points=[];fontSize=10;labelPosition=left;verticalLabelPosition=middle;textDirection=ltr;rotation=0;labelBackgroundColor=none;\\&quot; parent=\\&quot;20\\&quot; vertex=\\&quot;1\\&quot; connectable=\\&quot;0\\&quot;&gt;&lt;mxGeometry x=\\&quot;-0.1248\\&quot; y=\\&quot;-2\\&quot; relative=\\&quot;1\\&quot; as=\\&quot;geometry\\&quot;&gt;&lt;mxPoint x=\\&quot;2\\&quot; y=\\&quot;9\\&quot; as=\\&quot;offset\\&quot;/&gt;&lt;/mxGeometry&gt;&lt;/mxCell&gt;&lt;mxCell id=\\&quot;22\\&quot; value=\\&quot;\\&quot; style=\\&quot;endArrow=none;html=1;endFill=0;endSize=6;startSize=6;strokeWidth=1;strokeColor=#CC0000;\\&quot; parent=\\&quot;19\\&quot; edge=\\&quot;1\\&quot;&gt;&lt;mxGeometry width=\\&quot;50\\&quot; height=\\&quot;50\\&quot; relative=\\&quot;1\\&quot; as=\\&quot;geometry\\&quot;&gt;&lt;mxPoint x=\\&quot;100\\&quot; y=\\&quot;440\\&quot; as=\\&quot;sourcePoint\\&quot;/&gt;&lt;mxPoint x=\\&quot;540\\&quot; y=\\&quot;440\\&quot; as=\\&quot;targetPoint\\&quot;/&gt;&lt;Array as=\\&quot;points\\&quot;/&gt;&lt;/mxGeometry&gt;&lt;/mxCell&gt;&lt;mxCell id=\\&quot;23\\&quot; value=\\&quot;\\\\(y\\\\)-intercept\\&quot; style=\\&quot;edgeLabel;html=1;align=center;verticalAlign=bottom;resizable=0;points=[];labelPosition=center;verticalLabelPosition=top;labelBackgroundColor=none;\\&quot; parent=\\&quot;22\\&quot; vertex=\\&quot;1\\&quot; connectable=\\&quot;0\\&quot;&gt;&lt;mxGeometry x=\\&quot;-0.8288\\&quot; y=\\&quot;-1\\&quot; relative=\\&quot;1\\&quot; as=\\&quot;geometry\\&quot;&gt;&lt;mxPoint x=\\&quot;12\\&quot; y=\\&quot;-1\\&quot; as=\\&quot;offset\\&quot;/&gt;&lt;/mxGeometry&gt;&lt;/mxCell&gt;&lt;mxCell id=\\&quot;24\\&quot; value=\\&quot;\\&quot; style=\\&quot;group;fontStyle=0\\&quot; parent=\\&quot;19\\&quot; vertex=\\&quot;1\\&quot; connectable=\\&quot;0\\&quot;&gt;&lt;mxGeometry x=\\&quot;260\\&quot; y=\\&quot;350\\&quot; width=\\&quot;50\\&quot; height=\\&quot;30\\&quot; as=\\&quot;geometry\\&quot;/&gt;&lt;/mxCell&gt;&lt;mxCell id=\\&quot;25\\&quot; value=\\&quot;\\&quot; style=\\&quot;endArrow=none;html=1;rounded=0;fontStyle=0\\&quot; parent=\\&quot;24\\&quot; edge=\\&quot;1\\&quot;&gt;&lt;mxGeometry width=\\&quot;50\\&quot; height=\\&quot;50\\&quot; relative=\\&quot;1\\&quot; as=\\&quot;geometry\\&quot;&gt;&lt;mxPoint x=\\&quot;30\\&quot; y=\\&quot;30\\&quot; as=\\&quot;sourcePoint\\&quot;/&gt;&lt;mxPoint x=\\&quot;50\\&quot; y=\\&quot;10\\&quot; as=\\&quot;targetPoint\\&quot;/&gt;&lt;Array as=\\&quot;points\\&quot;&gt;&lt;mxPoint x=\\&quot;50\\&quot; y=\\&quot;30\\&quot;/&gt;&lt;/Array&gt;&lt;/mxGeometry&gt;&lt;/mxCell&gt;&lt;mxCell id=\\&quot;26\\&quot; value=\\&quot;slope\\&quot; style=\\&quot;edgeLabel;html=1;align=left;verticalAlign=middle;resizable=0;points=[];labelPosition=right;verticalLabelPosition=middle;labelBackgroundColor=none;fontStyle=0\\&quot; parent=\\&quot;25\\&quot; vertex=\\&quot;1\\&quot; connectable=\\&quot;0\\&quot;&gt;&lt;mxGeometry x=\\&quot;0.2833\\&quot; relative=\\&quot;1\\&quot; as=\\&quot;geometry\\&quot;&gt;&lt;mxPoint y=\\&quot;-4\\&quot; as=\\&quot;offset\\&quot;/&gt;&lt;/mxGeometry&gt;&lt;/mxCell&gt;&lt;mxCell id=\\&quot;27\\&quot; value=\\&quot;$$g\\\\cdot dP_{\\\\R{Z}&#39;}$$\\&quot; style=\\&quot;text;html=1;strokeColor=none;fillColor=none;align=center;verticalAlign=middle;whiteSpace=wrap;rounded=0;fontSize=10;fontStyle=0\\&quot; parent=\\&quot;24\\&quot; vertex=\\&quot;1\\&quot;&gt;&lt;mxGeometry width=\\&quot;40\\&quot; height=\\&quot;20\\&quot; as=\\&quot;geometry\\&quot;/&gt;&lt;/mxCell&gt;&lt;mxCell id=\\&quot;28\\&quot; value=\\&quot;5\\&quot; style=\\&quot;\\&quot; parent=\\&quot;0\\&quot;/&gt;&lt;mxCell id=\\&quot;29\\&quot; value=\\&quot;$$ \\\\begin{align} F^*[g]&amp;amp;amp;=E\\\\left[g(\\\\R{Z}&#39;)r^*(\\\\R{Z}&#39;)\\\\right]- F[r^*]\\\\\\\\ &amp;amp;amp;= \\\\sup_{\\\\substack{r:\\\\mc{Z}\\\\to \\\\mathbb{R}\\\\\\\\ E[r(\\\\R{Z}&#39;)]=1}} E[g(\\\\R{Z}&#39;)r(\\\\R{Z}&#39;)] - F[r] \\\\end{align}$$\\&quot; style=\\&quot;endArrow=none;html=1;strokeColor=#CC0000;endFill=0;endSize=6;startSize=6;strokeWidth=1;startArrow=openThin;startFill=0;labelPosition=right;verticalLabelPosition=middle;align=left;verticalAlign=middle;labelBackgroundColor=none;\\&quot; parent=\\&quot;28\\&quot; edge=\\&quot;1\\&quot;&gt;&lt;mxGeometry width=\\&quot;50\\&quot; height=\\&quot;50\\&quot; relative=\\&quot;1\\&quot; as=\\&quot;geometry\\&quot;&gt;&lt;mxPoint x=\\&quot;530\\&quot; y=\\&quot;440\\&quot; as=\\&quot;sourcePoint\\&quot;/&gt;&lt;mxPoint x=\\&quot;530\\&quot; y=\\&quot;240\\&quot; as=\\&quot;targetPoint\\&quot;/&gt;&lt;Array as=\\&quot;points\\&quot;/&gt;&lt;mxPoint as=\\&quot;offset\\&quot;/&gt;&lt;/mxGeometry&gt;&lt;/mxCell&gt;&lt;mxCell id=\\&quot;30\\&quot; value=\\&quot;\\&quot; style=\\&quot;endArrow=oval;html=1;strokeColor=#CC0000;endFill=1;endSize=6;startSize=6;strokeWidth=1;\\&quot; parent=\\&quot;28\\&quot; edge=\\&quot;1\\&quot;&gt;&lt;mxGeometry width=\\&quot;50\\&quot; height=\\&quot;50\\&quot; relative=\\&quot;1\\&quot; as=\\&quot;geometry\\&quot;&gt;&lt;mxPoint x=\\&quot;510\\&quot; y=\\&quot;240\\&quot; as=\\&quot;sourcePoint\\&quot;/&gt;&lt;mxPoint x=\\&quot;510\\&quot; y=\\&quot;160\\&quot; as=\\&quot;targetPoint\\&quot;/&gt;&lt;Array as=\\&quot;points\\&quot;/&gt;&lt;/mxGeometry&gt;&lt;/mxCell&gt;&lt;mxCell id=\\&quot;31\\&quot; value=\\&quot;$$r^*$$\\&quot; style=\\&quot;text;html=1;strokeColor=none;fillColor=none;align=center;verticalAlign=middle;whiteSpace=wrap;rounded=0;fontSize=10;\\&quot; parent=\\&quot;28\\&quot; vertex=\\&quot;1\\&quot;&gt;&lt;mxGeometry x=\\&quot;500\\&quot; y=\\&quot;250\\&quot; width=\\&quot;20\\&quot; height=\\&quot;20\\&quot; as=\\&quot;geometry\\&quot;/&gt;&lt;/mxCell&gt;&lt;mxCell id=\\&quot;32\\&quot; value=\\&quot;6\\&quot; parent=\\&quot;0\\&quot;/&gt;&lt;mxCell id=\\&quot;33\\&quot; value=\\&quot;$$E[g(\\\\R{Z})]-F^*[g]$$\\&quot; style=\\&quot;text;html=1;strokeColor=none;fillColor=none;align=center;verticalAlign=middle;whiteSpace=wrap;rounded=0;fontSize=10;\\&quot; parent=\\&quot;32\\&quot; vertex=\\&quot;1\\&quot;&gt;&lt;mxGeometry x=\\&quot;10\\&quot; y=\\&quot;190\\&quot; width=\\&quot;90\\&quot; height=\\&quot;40\\&quot; as=\\&quot;geometry\\&quot;/&gt;&lt;/mxCell&gt;&lt;mxCell id=\\&quot;34\\&quot; value=\\&quot;$$-F^*[g]$$\\&quot; style=\\&quot;text;html=1;strokeColor=none;fillColor=none;align=center;verticalAlign=middle;whiteSpace=wrap;rounded=0;fontSize=10;\\&quot; parent=\\&quot;32\\&quot; vertex=\\&quot;1\\&quot;&gt;&lt;mxGeometry x=\\&quot;50\\&quot; y=\\&quot;420\\&quot; width=\\&quot;50\\&quot; height=\\&quot;40\\&quot; as=\\&quot;geometry\\&quot;/&gt;&lt;/mxCell&gt;&lt;mxCell id=\\&quot;35\\&quot; value=\\&quot;$$&amp;lt;br&amp;gt;\\\\kern.2em\\\\begin{align}&amp;lt;br&amp;gt;&amp;amp;amp;= \\\\sup_{g:\\\\mc{Z}\\\\to \\\\mathbb{R}} E[g(\\\\R{Z})] - F^*[g]&amp;lt;br&amp;gt;\\\\end{align}$$\\&quot; style=\\&quot;text;html=1;strokeColor=none;fillColor=none;align=left;verticalAlign=middle;whiteSpace=wrap;rounded=0;fontSize=10;\\&quot; parent=\\&quot;32\\&quot; vertex=\\&quot;1\\&quot;&gt;&lt;mxGeometry x=\\&quot;650\\&quot; y=\\&quot;220\\&quot; width=\\&quot;140\\&quot; height=\\&quot;30\\&quot; as=\\&quot;geometry\\&quot;/&gt;&lt;/mxCell&gt;&lt;/root&gt;&lt;/mxGraphModel&gt;&lt;/diagram&gt;&lt;/mxfile&gt;&quot;}\"></div>\n",
       "<script type=\"text/javascript\" src=\"https://viewer.diagrams.net/js/viewer-static.min.js\"></script>\n",
       "<script src=\"https://polyfill.io/v3/polyfill.min.js?features=es6\"></script>\n",
       "<script id=\"MathJax-script\" async src=\"https://cdn.jsdelivr.net/npm/mathjax@3/es5/tex-mml-chtml.js\"></script>\n",
       "</body>\n",
       "</html>"
      ],
      "text/plain": [
       "<IPython.core.display.HTML object>"
      ]
     },
     "execution_count": 10,
     "metadata": {},
     "output_type": "execute_result"
    }
   ],
   "source": [
    "display.HTML(filename='f-D.html')"
   ]
  },
  {
   "cell_type": "code",
   "execution_count": 13,
   "id": "2d8f1668-2c0d-4912-aa5c-3bc530a1940d",
   "metadata": {},
   "outputs": [
    {
     "data": {
      "text/html": [
       "\n",
       "        <iframe\n",
       "            width=\"845\"\n",
       "            height=\"415\"\n",
       "            src=\"f-D.html\"\n",
       "            frameborder=\"0\"\n",
       "            allowfullscreen\n",
       "        ></iframe>\n",
       "        "
      ],
      "text/plain": [
       "<IPython.lib.display.IFrame at 0x7fd7a4725b50>"
      ]
     },
     "execution_count": 13,
     "metadata": {},
     "output_type": "execute_result"
    }
   ],
   "source": [
    "display.IFrame(src=\"f-D.html\", width=\"845\", height=\"415\")"
   ]
  },
  {
   "cell_type": "code",
   "execution_count": null,
   "id": "df7d291b-39e2-4f0c-b7c6-233c8f2c63f1",
   "metadata": {},
   "outputs": [],
   "source": []
  }
 ],
 "metadata": {
  "jupytext": {
   "formats": "ipynb,md:myst"
  },
  "kernelspec": {
   "display_name": "Python 3.8 (XPython)",
   "language": "python",
   "name": "xpython"
  },
  "language_info": {
   "file_extension": ".py",
   "mimetype": "text/x-python",
   "name": "python",
   "version": "3.8.10"
  }
 },
 "nbformat": 4,
 "nbformat_minor": 5
}
