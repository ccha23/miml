{
 "cells": [
  {
   "cell_type": "markdown",
   "id": "4bcc0461-642d-4d8f-b658-d5ebc83e1c11",
   "metadata": {},
   "source": [
    "# Mutual Information in Machine Learning"
   ]
  },
  {
   "cell_type": "markdown",
   "id": "a0ae19e0-2c1d-4901-8e98-ca77c673709b",
   "metadata": {},
   "source": [
    "![logo](./logo.dio.svg)"
   ]
  },
  {
   "cell_type": "code",
   "execution_count": null,
   "id": "03d519d1-cb0a-47bd-8caf-3d899fe2e6cc",
   "metadata": {},
   "outputs": [],
   "source": []
  }
 ],
 "metadata": {
  "kernelspec": {
   "display_name": "Python 3.8 (XPython)",
   "language": "python",
   "name": "xpython"
  },
  "language_info": {
   "file_extension": ".py",
   "mimetype": "text/x-python",
   "name": "python",
   "version": "3.8.10"
  }
 },
 "nbformat": 4,
 "nbformat_minor": 5
}
