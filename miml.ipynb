{
 "cells": [
  {
   "cell_type": "markdown",
   "id": "4bcc0461-642d-4d8f-b658-d5ebc83e1c11",
   "metadata": {},
   "source": [
    "# Mutual Information in Machine Learning"
   ]
  },
  {
   "cell_type": "markdown",
   "id": "bc686013-f7d4-4425-be3f-76b37ad9d2c8",
   "metadata": {},
   "source": [
    "Mutual information is a fundamental quantity in information theory. It is widely used in machine learning to measure statistical dependency among different features in data. Applications are numerous, ranging from classification, clustering, representation learning, and other tasks that require the selection/extraction of lower-dimensional features of the data without losing valuable information. Although mutual information has a precise formula defined in terms of a probability model, it must be estimated for real-world data with an unknown probability model."
   ]
  },
  {
   "cell_type": "markdown",
   "id": "0749e545-0379-491f-ac94-802fef1b51bc",
   "metadata": {},
   "source": [
    "In this lecture series, we will dive into some of the applications and estimations of mutual information in machine learning. Registered participants will have hands-on coding experience using the virtual teaching and learning environment DIVE offered by CityU CS Department."
   ]
  }
 ],
 "metadata": {
  "kernelspec": {
   "display_name": "Python 3.8 (XPython)",
   "language": "python",
   "name": "xpython"
  },
  "language_info": {
   "file_extension": ".py",
   "mimetype": "text/x-python",
   "name": "python",
   "version": "3.8.10"
  }
 },
 "nbformat": 4,
 "nbformat_minor": 5
}
