{
 "cells": [
  {
   "cell_type": "markdown",
   "id": "d37faa0f-a34d-46ad-81e8-bb0ffe84f6e1",
   "metadata": {
    "slideshow": {
     "slide_type": "slide"
    },
    "tags": []
   },
   "source": [
    "# Extension of DV Formula"
   ]
  },
  {
   "cell_type": "markdown",
   "id": "b79117ea-6542-4b60-90d8-74d54dc98233",
   "metadata": {},
   "source": [
    "$\\def\\abs#1{\\left\\lvert #1 \\right\\rvert}\n",
    "\\def\\Set#1{\\left\\{ #1 \\right\\}}\n",
    "\\def\\mc#1{\\mathcal{#1}}\n",
    "\\def\\M#1{\\boldsymbol{#1}}\n",
    "\\def\\R#1{\\mathsf{#1}}\n",
    "\\def\\RM#1{\\boldsymbol{\\mathsf{#1}}}\n",
    "\\def\\op#1{\\operatorname{#1}}\n",
    "\\def\\E{\\op{E}}\n",
    "\\def\\d{\\mathrm{\\mathstrut d}}$"
   ]
  },
  {
   "cell_type": "markdown",
   "id": "f75a9f2f-7726-4f4f-af42-5c112d9d4988",
   "metadata": {},
   "source": [
    "## $f$-divergence"
   ]
  },
  {
   "cell_type": "markdown",
   "id": "2e5c4d00-470b-4ce1-98a8-6756cf18d43b",
   "metadata": {},
   "source": [
    "Consider the more general problem of estimating the $f$-divergence in {eq}`f-D`:\n",
    "\n",
    "$$\n",
    "D_f(P_{\\R{Z}}\\|P_{\\R{Z}'}) = E\\left[f\\left(\\frac{dP_{\\R{Z}}(\\R{Z})}{dP_{\\R{Z}'}(\\R{Z})}\\right)\\right].\n",
    "$$"
   ]
  },
  {
   "cell_type": "markdown",
   "id": "065416ba-86d9-4a43-bf99-471220ed6a40",
   "metadata": {},
   "source": [
    "**Exercise** \n",
    "\n",
    "How to estimate $f$-divergence using the DV formula?"
   ]
  },
  {
   "cell_type": "markdown",
   "id": "72a2a5cb-0934-4981-a158-a1a091fbb4a1",
   "metadata": {
    "nbgrader": {
     "grade": true,
     "grade_id": "DV-f-D",
     "locked": false,
     "points": 1,
     "schema_version": 3,
     "solution": true,
     "task": false
    }
   },
   "source": [
    "**Solution**\n",
    "\n",
    "Note that the neural network approximates the density ratio {eq}`dP-ratio`, \n",
    "\n",
    "$$\n",
    "t \\approx \\frac{dP_{\\R{Z}}}{dP_{\\R{Z}'}},\n",
    "$$\n",
    "\n",
    "which can then be used to evaluate the sample average {eq}`avg-f-D`,\n",
    "\n",
    "$$\n",
    "D_f(P_{\\R{Z}}\\| P_{\\R{Z}'}) \\approx \\frac{1}{n} \\sum_{i\\in [n]} f\\left(t(\\R{Z})\\right).\n",
    "$$"
   ]
  },
  {
   "cell_type": "markdown",
   "id": "ee065562-5b6a-42e6-a052-b8c4e83b70b0",
   "metadata": {},
   "source": [
    "Instead of using the DV bound, it is desirable to train a network to optimize a tight bound on the $f$-divergence because:"
   ]
  },
  {
   "cell_type": "markdown",
   "id": "ed257b62-7bf4-446a-988b-bf2950632d4a",
   "metadata": {},
   "source": [
    "- *Estimating KL divergence well does not imply the underlying neural network approximates the density ratio well*:  \n",
    "  - While KL divergence is just a non-negative real number, \n",
    "  - the density ratio is in a high dimensional function space."
   ]
  },
  {
   "cell_type": "markdown",
   "id": "c4f31eb8-ef6f-4c56-ae29-deedac65db6a",
   "metadata": {},
   "source": [
    "- DV formula does not directly maximizes a bound on $f$-divergence, i.e.  \n",
    "  it does not directly minimize the error in estimating $f$-divergence."
   ]
  },
  {
   "cell_type": "markdown",
   "id": "3edeb0e4-b541-43a9-b006-333d44c5af15",
   "metadata": {},
   "source": [
    "- $f$-divergence may have bounds that are easier/more stable for training a neural network."
   ]
  },
  {
   "cell_type": "markdown",
   "id": "9a9be5d8-a0c5-478f-8172-9e73e8026ea4",
   "metadata": {},
   "source": [
    "**How to extend the DV formula to $f$-divergence?**"
   ]
  },
  {
   "cell_type": "markdown",
   "id": "51558575-e943-4252-b41b-987c62090dc6",
   "metadata": {},
   "source": [
    "The idea is to think of the $f$-divergence as a convex *function(al)* evaluated at the density ratio:"
   ]
  },
  {
   "cell_type": "markdown",
   "id": "ee914238-058e-4d77-afc4-ab188eb3a184",
   "metadata": {},
   "source": [
    "---\n",
    "\n",
    "**Proposition**  \n",
    ":label: D->F\n",
    "\n",
    "$f$-divergence {eq}`f-D` is\n",
    "\n",
    "$$\n",
    "\\begin{align}\n",
    "D_f(P_{\\R{Z}}\\|P_{\\R{Z}'}) = F\\left[ \\frac{P_{\\R{Z}}}{P_{\\R{Z}'}}\\right]\n",
    "\\end{align}\n",
    "$$ (D->F)\n",
    "\n",
    "where \n",
    "\n",
    "$$\n",
    "\\begin{align}\n",
    "F[r] := E [ \\underbrace{(f \\circ r)(\\R{Z}')}_{f(r(\\R{Z}'))}]\n",
    "\\end{align}\n",
    "$$ (F)\n",
    "\n",
    "for any function $r:\\mc{Z} \\to \\mathbb{R}$.\n",
    "\n",
    "---"
   ]
  },
  {
   "cell_type": "markdown",
   "id": "056d134f-0bda-45c3-a469-d230a8dfa031",
   "metadata": {},
   "source": [
    "This is more like a re-definition than a proposition as the proof is immediate:  \n",
    "{eq}`f-D` is obtained from {eq}`D->F` by substituting $r=\\frac{dP_{\\R{Z}}}{dP_{\\R{Z}'}}$."
   ]
  },
  {
   "cell_type": "markdown",
   "id": "1524fc61-e795-42d5-bf5e-8f560eddd69f",
   "metadata": {},
   "source": [
    "As mentioned before, the KL divergence $D(P_{\\R{Z}}\\|P_{\\R{Z}'})$ is a special case of $f$-divergence:\n",
    "\n",
    "$$\n",
    "D(P_{\\R{Z}}\\|P_{\\R{Z}'}) = F\\left[r\\right]\n",
    "$$ \n",
    "\n",
    "where\n",
    "\n",
    "$$\n",
    "\\begin{align*}\n",
    "F[r] &:= E\\left[ r(\\R{Z}')\\log r(\\R{Z}')\\right].\n",
    "\\end{align*}\n",
    "$$ (KL:F)"
   ]
  },
  {
   "cell_type": "markdown",
   "id": "49c15967-0c27-4e89-8bd7-197ed419e70b",
   "metadata": {},
   "source": [
    "**Exercise** When is $F[r]=0$ equal to $0$?"
   ]
  },
  {
   "cell_type": "markdown",
   "id": "fb728362-9ff6-4731-b530-e04ed34a2e74",
   "metadata": {
    "nbgrader": {
     "grade": true,
     "grade_id": "zero-F",
     "locked": false,
     "points": 1,
     "schema_version": 3,
     "solution": true,
     "task": false
    }
   },
   "source": [
    "**Solution** \n",
    "\n",
    "$F[r]=0$ iff $f(r(\\R{Z}'))=0$ almost surely, which happens iff $r(\\R{Z}')=1$ almost surely. We may also write it more explicitly as:\n",
    "\n",
    "$$\n",
    "r(z) = z \\qquad \\forall z\\in \\op{supp}(p_{\\R{Z}'}):= \\Set{z\\in \\mc{Z}\\mid p_{\\R{Z}'}(z) > 0},\n",
    "$$\n",
    "\n",
    "namely an identity function over the support set of $\\R{Z}'$."
   ]
  },
  {
   "cell_type": "markdown",
   "id": "cf28a8ea-b65c-4595-b267-042c5caea7b8",
   "metadata": {},
   "source": [
    "**Exercise** \n",
    "\n",
    "Show using the properties of $f$ that $F$ is strictly convex."
   ]
  },
  {
   "cell_type": "markdown",
   "id": "79d60c68-a16f-4c6c-a151-cb81c19d7765",
   "metadata": {},
   "source": [
    "**Solution**\n",
    "\n",
    "For $\\lambda\\in [0,1]$ and functions $r_1, r_2\\in \\Set{r:\\mc{Z}\\to \\mathbb{R}}$,\n",
    "\n",
    "$$\n",
    "\\begin{align*}\n",
    "F[\\lambda r_1 + (1-\\lambda) r_2] \n",
    "&= E[\\underbrace{ f(\\lambda r_1(\\R{Z}') + (1-\\lambda) r_2(\\R{Z}'))}_{\\stackrel{\\text{(a)}}{\\geq} \\lambda f(r_1(\\R{Z}'))+(1-\\lambda) f(r_2(\\R{Z}'))}]\\\\\n",
    "&\\stackrel{\\text{(b)}}{\\geq} \\lambda E[f(r_1(\\R{Z}'))] + (1-\\lambda) E[f(r_2(\\R{Z}'))]\n",
    "\\end{align*}\n",
    "$$\n",
    "\n",
    "where (a) is by the convexity of $f$, and (b) is by the linearity of expectation. $F$ is strictly convex because (b) is satisfied with equality iff (a) is almost surely."
   ]
  },
  {
   "cell_type": "markdown",
   "id": "1bed5f51-7313-4f18-895b-16f130da6336",
   "metadata": {},
   "source": [
    "For a clearer understanding, let consider a different choice of $F$ for the KL divergence:\n",
    "\n",
    "$$\n",
    "D(P_{\\R{Z}}\\|P_{\\R{Z}'}) = F'\\left[r\\right]\n",
    "$$ \n",
    "\n",
    "where\n",
    "\n",
    "$$\n",
    "\\begin{align*}\n",
    "F'[r] &:= E\\left[ \\log r(\\R{Z})\\right].\n",
    "\\end{align*}\n",
    "$$ (rev-KL:F)"
   ]
  },
  {
   "cell_type": "markdown",
   "id": "bf4bbc1b-c1ba-442c-ac44-69c5130bf62f",
   "metadata": {},
   "source": [
    "Note that $F'$ in {eq}`rev-KL:F` defined above is concave in $r$. In other words, {eq}`D2` in {prf:ref}`DV2`\n",
    "\n",
    "$$\n",
    "\\begin{align*}\n",
    "D(P_{\\R{Z}}\\|P_{\\R{Z}'}) & =  \\sup_{\\substack{r:\\mc{Z}\\to \\mathbb{R}_+\\\\ E[r(\\R{Z}')]=1}} E \\left[ \\log r(\\R{Z}) \\right] \n",
    "\\end{align*}\n",
    "$$\n",
    "\n",
    "is maximizing a concave function and therefore has a unique solution, namely, $r=\\frac{dP_{\\R{Z}}}{dP_{\\R{Z}'}}$. Here comes the tricky question:"
   ]
  },
  {
   "cell_type": "markdown",
   "id": "df80cd4b-07a9-43d1-af73-e603b358a2a5",
   "metadata": {},
   "source": [
    "**Exercise**\n",
    "\n",
    "Is KL divergence concave or convex in the density ratio $\\frac{dP_{\\R{Z}}}{dP_{\\R{Z}'}}$? Note that $F$ defined in {eq}`KL:F` is convex in $r$."
   ]
  },
  {
   "cell_type": "markdown",
   "id": "8647d12f-209b-4988-b52d-a84b88ee0644",
   "metadata": {
    "nbgrader": {
     "grade": true,
     "grade_id": "rev-KL",
     "locked": false,
     "points": 1,
     "schema_version": 3,
     "solution": true,
     "task": false
    }
   },
   "source": [
    "**Solution**\n",
    "\n",
    "The statement is invalid because KL divergence is not purely a function of the density ratio, but both $P_{\\R{Z}}$ and $P_{\\R{Z}'}$. The expectation in {eq}`rev-KL:F`, in particular, depends on $P_{\\R{Z}}$."
   ]
  },
  {
   "cell_type": "markdown",
   "id": "94454988-2a4d-4733-8de5-8bb372f5d935",
   "metadata": {},
   "source": [
    "## Convex conjugation"
   ]
  },
  {
   "cell_type": "markdown",
   "id": "02ae0274-a0ee-4e50-a30b-52b039268c85",
   "metadata": {},
   "source": [
    "Given $P_{\\R{Z}'}\\in \\mc{P}(\\mc{Z})$, consider \n",
    "- a function space $\\mc{R}$, \n",
    "\n",
    "$$\n",
    "\\begin{align}\n",
    "\\mc{R} &\\supseteq \\Set{r:\\mathcal{Z}\\to \\mathbb{R}_+\\mid E\\left[r(\\R{Z}')\\right] = 1},\n",
    "\\end{align}\n",
    "$$ (R)\n",
    "\n",
    "- a dual space $\\mc{T}$, and \n",
    "\n",
    "$$\n",
    "\\begin{align}\n",
    "\\mc{T} &\\supseteq \\Set{t:\\mc{Z} \\to \\mathbb{R}}\n",
    "\\end{align}\n",
    "$$ (T)\n",
    "\n",
    "- the corresponding inner product $\\langle\\cdot,\\cdot \\rangle$:\n",
    "\n",
    "$$\n",
    "\\begin{align}\n",
    "\\langle t,r \\rangle &= \\int_{z\\in \\mc{Z}} t(z) r(z) dP_{\\R{Z}'}(z) = E\\left[ t(\\R{Z}') r(\\R{Z}') \\right].\n",
    "\\end{align}\n",
    "$$ (inner-prod)"
   ]
  },
  {
   "cell_type": "markdown",
   "id": "70b89494-3f9b-4f3e-ab7f-192e69566c4a",
   "metadata": {},
   "source": [
    "The following is a generalization of DV formula for estimating $f$-divergence {cite}`nguyen2010estimating`{cite}`ruderman2012tighter`:"
   ]
  },
  {
   "cell_type": "markdown",
   "id": "75149de3-c935-4a40-9734-c48f2433394b",
   "metadata": {},
   "source": [
    "---\n",
    "\n",
    "**Proposition**  \n",
    ":label: convex-conjugate\n",
    "\n",
    "$$\n",
    "\\begin{align}\n",
    "D_{f}(P_{\\R{Z}} \\| P_{\\R{Z}'}) = \\sup _{t\\in \\mc{T}} E[g(\\R{Z})] - F^*[t],\n",
    "\\end{align} \n",
    "$$ (convex-conjugate2)\n",
    "\n",
    "where \n",
    "\n",
    "$$\n",
    "\\begin{align}\n",
    "F^*[t] = \\sup_{r\\in \\mc{R}} E[t(\\R{Z}') r(\\R{Z}')] - F[r].\n",
    "\\end{align}\n",
    "$$ (convex-conjugate1)\n",
    "\n",
    "---"
   ]
  },
  {
   "cell_type": "markdown",
   "id": "0685772d-bedd-41c6-94f9-c396952b0c2c",
   "metadata": {},
   "source": [
    "---\n",
    "\n",
    "**Proof**\n",
    "\n",
    "Note that the supremums in {eq}`convex-conjugate1` and {eq}`convex-conjugate2` are [Fenchel-Legendre transforms][FL]. Denoting the transform as $[\\cdot]^*$,\n",
    "\n",
    "$$\\underbrace{[[F]^*]^*}_{=F}\\left[\\frac{dP_{\\R{Z}}}{dP_{\\R{Z}'}}\\right]$$\n",
    "\n",
    "which gives {eq}`convex-conjugate2` by expanding the outer/later transform. The equality is by the property that Fenchel-Legendre transform is its own inverse for strictly convex functional $F$.\n",
    "\n",
    "[FL]: https://en.wikipedia.org/wiki/Convex_conjugate\n",
    "\n",
    "---"
   ]
  },
  {
   "cell_type": "markdown",
   "id": "ad5d2174-2d12-41ed-b1df-570b10249a96",
   "metadata": {},
   "source": [
    "The proof is illustrated in the following figure:"
   ]
  },
  {
   "cell_type": "markdown",
   "id": "aa674b52-96b7-4d4b-a911-9de0dd05cabf",
   "metadata": {},
   "source": [
    "![$f$-Divergence](f-D.dio.svg)"
   ]
  },
  {
   "cell_type": "markdown",
   "id": "d03ceee8-17b9-4648-8ae9-6b2ed678c3da",
   "metadata": {},
   "source": [
    "Let's breakdown the details:"
   ]
  },
  {
   "cell_type": "markdown",
   "id": "81e177aa-19fc-4fe8-a1ad-9b236c3a47e3",
   "metadata": {},
   "source": [
    "**Step 1**\n",
    "\n",
    "For the purpose of the illustration, visualize the convex functional $F$ simply as a curve in 2D.\n",
    "\n",
    "![$f$-Divergence 1](f-D-Copy1.dio.svg)  \n",
    "\n",
    "The $f$-divergence is then the $y$-coordinate of a point on the curve indicated above, with $r$ being the density ratio $\\frac{dP_{\\R{Z}}}{dP_{\\R{Z}'}}$."
   ]
  },
  {
   "cell_type": "markdown",
   "id": "10507a3b-9689-4e02-aaf8-4a37c97aa5d4",
   "metadata": {},
   "source": [
    "**Step 2**\n",
    "\n",
    "To obtain a lower bound on $F$, consider any tangent of the curve with an arbitrary slope $t\\cdot dP_{\\R{Z}'}$\n",
    "\n",
    "![$f$-Divergence 2](f-D-Copy2.dio.svg)\n",
    "\n",
    "The lower bound is given by the $y$-coordinate of a point on the tangent with $r$ being the density ratio."
   ]
  },
  {
   "cell_type": "markdown",
   "id": "1e9ef252-55c0-406e-b043-10a664b4c1c6",
   "metadata": {},
   "source": [
    "**Exercise**\n",
    "\n",
    "Why is the $y$-coordinate of the tangent a lower bound on the $f$-divergence?"
   ]
  },
  {
   "cell_type": "markdown",
   "id": "05673ba2-115c-4b15-afed-37a12f2fed77",
   "metadata": {},
   "source": [
    "**Solution**\n",
    "\n",
    "By the convexity of $F$, the tangent must be below $F$."
   ]
  },
  {
   "cell_type": "markdown",
   "id": "46c467a7-063c-4f33-af5f-8817c7931c4c",
   "metadata": {},
   "source": [
    "**Step 3**\n",
    "\n",
    "To calculate the lower bound, denote the $y$-intercept as $-F^*[t]$:\n",
    "\n",
    "![$f$-Divergence 3](f-D-Copy3.dio.svg)  \n",
    "\n",
    "Thinking of a function as nothing but a vector, the displacement from the $y$-intercept to the lower bound is given by the inner product of the slope and the density ratio. "
   ]
  },
  {
   "cell_type": "markdown",
   "id": "31950ea1-8130-4407-bac6-67b0efdee702",
   "metadata": {},
   "source": [
    "**Step 4**\n",
    "\n",
    "To make the bound tight, maximize the bound over the choice of the slope or $t$:\n",
    "\n",
    "![$f$-Divergence 4](f-D-Copy4.dio.svg) \n",
    "\n",
    "This gives the bound in {eq}`convex-conjugate2`. It remains to show {eq}`convex-conjugate1`."
   ]
  },
  {
   "cell_type": "markdown",
   "id": "c793bd95-d9ef-4b8d-b4ef-e25ef5c95382",
   "metadata": {},
   "source": [
    "**Step 5**\n",
    "\n",
    "To compute the $y$-intercept or $F^*[t]$, let $r^*$ be the value of $r$ where the tangent touches the convex curve:\n",
    "\n",
    "![$f$-Divergence 5](f-D.dio.svg) \n",
    "\n",
    "The displacement from the point at $r^*$ to the $y$-intercept can be computed as the inner product of the slope and $r^*$."
   ]
  },
  {
   "cell_type": "markdown",
   "id": "b0cda367-a273-413b-93bc-84dc83fe5a12",
   "metadata": {},
   "source": [
    "**Exercise**\n",
    "\n",
    "Show that for the functional $F$ {eq}`KL:F` defined for KL divergence,\n",
    "\n",
    "$$F^*[t]=\\log E[e^{t(\\R{Z}')}]$$\n",
    "\n",
    "with $\\mc{R}=\\Set{r:\\mc{Z}\\to \\mathbb{R}_+}$ and so {eq}`convex-conjugate2` gives the DV formula {eq}`DV` as a special case."
   ]
  },
  {
   "cell_type": "markdown",
   "id": "fa59932e-a13c-424a-b9fc-6167b760d0b0",
   "metadata": {
    "nbgrader": {
     "grade": true,
     "grade_id": "f-D_KL",
     "locked": false,
     "points": 1,
     "schema_version": 3,
     "solution": true,
     "task": false
    }
   },
   "source": [
    "**Solution**\n",
    "\n",
    "See {cite}`ruderman2012tighter`."
   ]
  }
 ],
 "metadata": {
  "celltoolbar": "Create Assignment",
  "kernelspec": {
   "display_name": "Python 3 (ipykernel)",
   "language": "python",
   "name": "python3"
  },
  "language_info": {
   "codemirror_mode": {
    "name": "ipython",
    "version": 3
   },
   "file_extension": ".py",
   "mimetype": "text/x-python",
   "name": "python",
   "nbconvert_exporter": "python",
   "pygments_lexer": "ipython3",
   "version": "3.8.10"
  },
  "widgets": {
   "application/vnd.jupyter.widget-state+json": {
    "state": {
     "0c152edea2204868bbb2f71a5c980491": {
      "model_module": "@jupyter-widgets/base",
      "model_module_version": "1.2.0",
      "model_name": "LayoutModel",
      "state": {}
     },
     "1c846ddf3dee40069ee1b27621050ca3": {
      "model_module": "@jupyter-widgets/controls",
      "model_module_version": "1.5.0",
      "model_name": "VBoxModel",
      "state": {
       "_dom_classes": [
        "widget-interact"
       ],
       "children": [
        "IPY_MODEL_609442f8274e43ef8f8e0d8b810ccb55",
        "IPY_MODEL_91ddd71b01514f8399a20ffe4e5bd16e"
       ],
       "layout": "IPY_MODEL_9e6ad264f55c4a74b37314ab69c4e70f"
      }
     },
     "3669b2393e58467e8921f144dbef6510": {
      "model_module": "@jupyter-widgets/base",
      "model_module_version": "1.2.0",
      "model_name": "LayoutModel",
      "state": {}
     },
     "609442f8274e43ef8f8e0d8b810ccb55": {
      "model_module": "@jupyter-widgets/controls",
      "model_module_version": "1.5.0",
      "model_name": "IntSliderModel",
      "state": {
       "continuous_update": false,
       "description": "n_",
       "layout": "IPY_MODEL_672a86aa4a7043e7a24377131e37c843",
       "max": 5000,
       "min": 2,
       "style": "IPY_MODEL_8df16423f02449d8ae746f87daab5be6",
       "value": 2000
      }
     },
     "672a86aa4a7043e7a24377131e37c843": {
      "model_module": "@jupyter-widgets/base",
      "model_module_version": "1.2.0",
      "model_name": "LayoutModel",
      "state": {}
     },
     "80907eb97fa147a398bf86ee667d0ae9": {
      "model_module": "@jupyter-widgets/base",
      "model_module_version": "1.2.0",
      "model_name": "LayoutModel",
      "state": {}
     },
     "8c94eadc9e554ddabf6f7bc6e68616c8": {
      "model_module": "@jupyter-widgets/controls",
      "model_module_version": "1.5.0",
      "model_name": "VBoxModel",
      "state": {
       "_dom_classes": [
        "widget-interact"
       ],
       "children": [
        "IPY_MODEL_c9ca45872a64496b95b0c3ceca092002",
        "IPY_MODEL_d1c7641832224248862dff82951d47cb"
       ],
       "layout": "IPY_MODEL_80907eb97fa147a398bf86ee667d0ae9"
      }
     },
     "8df16423f02449d8ae746f87daab5be6": {
      "model_module": "@jupyter-widgets/controls",
      "model_module_version": "1.5.0",
      "model_name": "SliderStyleModel",
      "state": {
       "description_width": ""
      }
     },
     "91ddd71b01514f8399a20ffe4e5bd16e": {
      "model_module": "@jupyter-widgets/output",
      "model_module_version": "1.0.0",
      "model_name": "OutputModel",
      "state": {
       "layout": "IPY_MODEL_0c152edea2204868bbb2f71a5c980491",
       "outputs": [
        {
         "data": {
          "image/png": "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\n",
          "text/plain": "<Figure size 360x360 with 6 Axes>"
         },
         "metadata": {
          "needs_background": "light"
         },
         "output_type": "display_data"
        }
       ]
      }
     },
     "9e6ad264f55c4a74b37314ab69c4e70f": {
      "model_module": "@jupyter-widgets/base",
      "model_module_version": "1.2.0",
      "model_name": "LayoutModel",
      "state": {}
     },
     "a8d3993c32d840b59855cf763b7e16ec": {
      "model_module": "@jupyter-widgets/controls",
      "model_module_version": "1.5.0",
      "model_name": "SliderStyleModel",
      "state": {
       "description_width": ""
      }
     },
     "c9ca45872a64496b95b0c3ceca092002": {
      "model_module": "@jupyter-widgets/controls",
      "model_module_version": "1.5.0",
      "model_name": "IntSliderModel",
      "state": {
       "description": "n_",
       "layout": "IPY_MODEL_d9433cfac0354773b6edb5cbba2b47b2",
       "min": 2,
       "style": "IPY_MODEL_a8d3993c32d840b59855cf763b7e16ec",
       "value": 51
      }
     },
     "d1c7641832224248862dff82951d47cb": {
      "model_module": "@jupyter-widgets/output",
      "model_module_version": "1.0.0",
      "model_name": "OutputModel",
      "state": {
       "layout": "IPY_MODEL_3669b2393e58467e8921f144dbef6510",
       "outputs": [
        {
         "data": {
          "image/png": "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\n",
          "text/plain": "<Figure size 360x360 with 6 Axes>"
         },
         "metadata": {
          "needs_background": "light"
         },
         "output_type": "display_data"
        }
       ]
      }
     },
     "d9433cfac0354773b6edb5cbba2b47b2": {
      "model_module": "@jupyter-widgets/base",
      "model_module_version": "1.2.0",
      "model_name": "LayoutModel",
      "state": {}
     }
    },
    "version_major": 2,
    "version_minor": 0
   }
  }
 },
 "nbformat": 4,
 "nbformat_minor": 5
}
