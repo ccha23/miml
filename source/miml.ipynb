{
 "cells": [
  {
   "cell_type": "markdown",
   "id": "4bcc0461-642d-4d8f-b658-d5ebc83e1c11",
   "metadata": {},
   "source": [
    "# Mutual Information in Machine Learning"
   ]
  },
  {
   "cell_type": "markdown",
   "id": "bc686013-f7d4-4425-be3f-76b37ad9d2c8",
   "metadata": {},
   "source": [
    "Mutual information is a fundamental quantity in information theory. It is widely used in machine learning to measure statistical dependency among different features in data. Applications are numerous, ranging from classification, clustering, representation learning, and other tasks that require the selection/extraction of lower-dimensional features of the data without losing valuable information. Although mutual information has a precise formula defined in terms of a probability model, it must be estimated for real-world data with an unknown probability model."
   ]
  },
  {
   "cell_type": "markdown",
   "id": "0749e545-0379-491f-ac94-802fef1b51bc",
   "metadata": {},
   "source": [
    "In this lecture series, we will dive into some of the applications and estimations of mutual information in machine learning. Registered participants have hands-on coding experience using the virtual teaching and learning environment DIVE offered by CityU CS Department."
   ]
  },
  {
   "cell_type": "markdown",
   "id": "b4b705b5-2c1c-429b-b773-5499a80079c7",
   "metadata": {},
   "source": [
    "## How to run the notebooks"
   ]
  },
  {
   "cell_type": "markdown",
   "id": "e7f38e5f-376c-41fc-8cdb-d0ab58a129e8",
   "metadata": {},
   "source": [
    "To run the notebooks with temporarily without any setup, click \n",
    "[![Binder](https://mybinder.org/badge_logo.svg)](https://mybinder.org/v2/gh/ccha23/mimldive/HEAD?urlpath=git-pull?repo%3Dhttps%3A%2F%2Fgithub.com%2Fccha23%2Fcscit21%26urlpath%3Dlab%2F%2Ftree%2Fcscit21)."
   ]
  },
  {
   "cell_type": "markdown",
   "id": "be10040a-e4fb-42d1-a8f8-cb0ed7f3f1a1",
   "metadata": {},
   "source": [
    "---\n",
    "\n",
    "**Caution**\n",
    "\n",
    "The binder service is convenient but the storage is temporary and it can take some times to build and launch the server. You also have limited computing resources to run the notebook.\n",
    "\n",
    "---"
   ]
  },
  {
   "cell_type": "markdown",
   "id": "3d37b236-068b-4262-b9de-9d50448630dc",
   "metadata": {},
   "source": [
    "To run the notebook with persistent storage, install [docker](\n",
    "https://docs.docker.com/get-started/#download-and-install-docker) on your computer and follow one of the following methods."
   ]
  },
  {
   "cell_type": "markdown",
   "id": "ea86314b-53c6-47f5-8bc1-516370d3667d",
   "metadata": {},
   "source": [
    "## To run the notebooks in JupyterLab"
   ]
  },
  {
   "cell_type": "markdown",
   "id": "b5a5f11a-1323-4d6a-b02f-03039656f88b",
   "metadata": {},
   "source": [
    "**Step 1** Run the docker in a terminal from a working directory of your choice."
   ]
  },
  {
   "cell_type": "markdown",
   "id": "cd7eb770-a139-460c-bb6c-1b26e699b07b",
   "metadata": {},
   "source": [
    "For Mac/Linux shells:  \n",
    "```markdown\n",
    "docker run --rm -p 10000:8888 -m 4g \\\n",
    "        -v \"${PWD}\":/home/jovyan \\\n",
    "        chungc/mimldive:v0.2 \\\n",
    "        start-notebook.sh --NotebookApp.token=''\n",
    "```"
   ]
  },
  {
   "cell_type": "markdown",
   "id": "efb67a5e-6447-4789-ac1d-a50a964e3958",
   "metadata": {},
   "source": [
    "For Windows PowerShell:  \n",
    "```markdown\n",
    "docker run --rm -p 10000:8888 -m 4g `\n",
    "        -v ${PWD}:/home/jovyan `\n",
    "        chungc/mimldive:v0.2 `\n",
    "        start-notebook.sh --NotebookApp.token=''  \n",
    "```"
   ]
  },
  {
   "cell_type": "markdown",
   "id": "93ad90d3-9c7e-4d9b-b0fa-82c06be9815b",
   "metadata": {},
   "source": [
    "---\n",
    "\n",
    "**Note**\n",
    "\n",
    "- It may take a couple minutes to run for the first time as it needs to download the docker image. Subsequent run should be fast.\n",
    "- Port 10000 specified by `-p` should be free for use. Otherwise, change it to a free port on your computer.\n",
    "- The maximum memory limit is set to be 4GB by `-m`. You should set an appropriate value according to the memory available on your computer.\n",
    "    \n",
    "---"
   ]
  },
  {
   "cell_type": "markdown",
   "id": "13d13ac4-ee9f-4f0c-8e5b-e453f0931479",
   "metadata": {},
   "source": [
    "**Step 2** Pull the notebooks in a web browser by visiting [this link][gp] or from the JupyterHub launcher button.  \n",
    "\n",
    "[gp]: http://localhost:10000/git-pull?repo=https%3A%2F%2Fgithub.com%2Fccha23%2Fcscit21&urlpath=lab%2Ftree%2Fcscit21&branch=main"
   ]
  },
  {
   "cell_type": "markdown",
   "id": "6ed1dd53-0b17-4719-b220-ce499e35bdbc",
   "metadata": {},
   "source": [
    "---\n",
    "\n",
    "**Tip**\n",
    "\n",
    "- You can work on the notebooks under the `cscit21` subfolder. Clicking the above link again will automatically pull and merge changes from the repo, without overwritting your changes.\n",
    "- To finish, stop the notebook server by pressing `Control-C` in the terminal that runs the docker or close the terminal/PowerShell.\n",
    "- To restart, run the docker command again from the same working directory.\n",
    "\n",
    "---"
   ]
  },
  {
   "cell_type": "markdown",
   "id": "068ca7c7-47ec-4354-8f2b-8d3d405ef866",
   "metadata": {},
   "source": [
    "## To run the notebook in VS Code"
   ]
  },
  {
   "cell_type": "markdown",
   "id": "5835fe99-2261-4442-941f-77d9e24821db",
   "metadata": {},
   "source": [
    "**Step 1** Install [Visual Studio Code (VS Code)](https://code.visualstudio.com/) and the extension [Remote - Containers](https://marketplace.visualstudio.com/items?itemName=ms-vscode-remote.remote-containers)."
   ]
  },
  {
   "cell_type": "markdown",
   "id": "bbb5a377-fb7b-414f-a8b1-ebb47fd9f704",
   "metadata": {},
   "source": [
    "**Step 2** Run VS Code  \n",
    "- click `View`->`Command Palette` \n",
    "- Enter `Remote-Containers: Clone Repository in Container Volume...`. There is also a command for using a Named Container Volume instead.\n",
    "- Enter the repository url `https://github.com/ccha23/mimldive.git`"
   ]
  },
  {
   "cell_type": "markdown",
   "id": "021fa3f8-da9d-4707-b667-68706209b32d",
   "metadata": {},
   "source": [
    "You can now work on the notebooks in the `cscit21` subfolder and your files will be kept in a persistent docker volume."
   ]
  },
  {
   "cell_type": "markdown",
   "id": "a3cc7867-35ee-4f25-a548-b32112168d46",
   "metadata": {},
   "source": [
    "---\n",
    "\n",
    "**Tip**\n",
    "\n",
    "You can also start the jupyter lab server and open it in a browser by opening a terminal (`` Control-Shift-` ``) and run\n",
    "  ```\n",
    "  jupyter lab --NotebookApp.token=''\n",
    "  ```\n",
    "\n",
    "For more details, see the [vscode-remote-try-python](https://github.com/microsoft/vscode-remote-try-python) repository.\n",
    "\n",
    "---"
   ]
  }
 ],
 "metadata": {
  "kernelspec": {
   "display_name": "Python 3.8 (XPython)",
   "language": "python",
   "name": "xpython"
  },
  "language_info": {
   "file_extension": ".py",
   "mimetype": "text/x-python",
   "name": "python",
   "version": "3.8.10"
  }
 },
 "nbformat": 4,
 "nbformat_minor": 5
}
